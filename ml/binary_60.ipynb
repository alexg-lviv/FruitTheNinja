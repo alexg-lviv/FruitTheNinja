{
 "cells": [
  {
   "cell_type": "code",
   "execution_count": 50,
   "metadata": {
    "collapsed": true,
    "ExecuteTime": {
     "end_time": "2023-12-15T09:33:56.569598Z",
     "start_time": "2023-12-15T09:33:56.537482Z"
    }
   },
   "outputs": [],
   "source": [
    "import numpy as np\n",
    "import pandas as pd\n",
    "import itertools\n",
    "import random\n",
    "from tqdm import tqdm\n",
    "from ast import literal_eval\n",
    "import time\n",
    "\n",
    "from sklearn.discriminant_analysis import QuadraticDiscriminantAnalysis\n",
    "from sklearn.ensemble import AdaBoostClassifier, RandomForestClassifier\n",
    "from sklearn.gaussian_process import GaussianProcessClassifier\n",
    "from sklearn.gaussian_process.kernels import RBF\n",
    "from sklearn.inspection import DecisionBoundaryDisplay\n",
    "from sklearn.model_selection import train_test_split\n",
    "from sklearn.naive_bayes import GaussianNB\n",
    "from sklearn.neighbors import KNeighborsClassifier\n",
    "from sklearn.neural_network import MLPClassifier\n",
    "from sklearn.pipeline import make_pipeline\n",
    "from sklearn.preprocessing import StandardScaler\n",
    "from sklearn.svm import SVC\n",
    "from sklearn.tree import DecisionTreeClassifier\n",
    "\n",
    "import torch\n",
    "import torch.nn as nn\n",
    "import torch.optim as optim\n",
    "from torch.utils.data import TensorDataset, DataLoader\n",
    "from torch.autograd import Variable\n",
    "import joblib\n",
    "device = torch.device(\"cpu\")\n",
    "\n",
    "import matplotlib.pyplot as plt"
   ]
  },
  {
   "cell_type": "code",
   "execution_count": 51,
   "outputs": [],
   "source": [
    "plt.style.use('seaborn-v0_8')\n",
    "plt.rcParams[\"grid.linestyle\"] = \"--\"\n",
    "\n",
    "plt.rcParams['legend.frameon'] = True\n",
    "plt.rcParams['legend.shadow'] = True\n",
    "plt.rcParams['legend.facecolor'] = \"lavender\""
   ],
   "metadata": {
    "collapsed": false,
    "ExecuteTime": {
     "end_time": "2023-12-15T09:33:56.569750Z",
     "start_time": "2023-12-15T09:33:56.541890Z"
    }
   }
  },
  {
   "cell_type": "code",
   "execution_count": 52,
   "outputs": [],
   "source": [
    "config_dict = {\n",
    "    0: \"fair\",\n",
    "    1: \"cheat-1_no-cooldown\",\n",
    "    2: \"cheat-2_no-dash\",\n",
    "    3: \"cheat-3_inf-slowmo\",\n",
    "    4: \"cheat-4_huge-damage\",\n",
    "    5: \"cheat-5_frozen-ninja\",\n",
    "}"
   ],
   "metadata": {
    "collapsed": false,
    "ExecuteTime": {
     "end_time": "2023-12-15T09:33:56.569789Z",
     "start_time": "2023-12-15T09:33:56.544724Z"
    }
   }
  },
  {
   "cell_type": "code",
   "execution_count": 53,
   "outputs": [],
   "source": [
    "def preprocess_gt_csv(data_name):\n",
    "    filename = f\"train_data/gt/{data_name}.csv\"\n",
    "\n",
    "    columns_to_eval = [\n",
    "        \"global_mouse_position\",\n",
    "        \"button_cooldown_times\",\n",
    "        \"logical_frames_since_last_button_press\",\n",
    "        \"global_position\",\n",
    "        \"velocity\",\n",
    "        \"fruits_cut_this_frame_list\",\n",
    "        \"fruits_hit_ninjas_ass_this_frame_list\",\n",
    "        \"fruits_on_screen_this_frame_list\",\n",
    "        \"fruits_spawned_this_frame_list\",\n",
    "        \"stupid_fucking_fruits_that_died_this_frame_list\",\n",
    "    ]\n",
    "\n",
    "    df = pd.read_csv(filename, converters={column: literal_eval for column in columns_to_eval})\n",
    "\n",
    "    df[\"fruits_spawned_num\"] = df[\"fruits_spawned_this_frame_list\"].str.len()\n",
    "    df[\"fruits_on_screen_num\"] = df[\"fruits_on_screen_this_frame_list\"].str.len()\n",
    "    df[\"fruits_hit_num\"] = df[\"fruits_hit_ninjas_ass_this_frame_list\"].str.len()\n",
    "    df[\"fruits_missed_num\"] = df[\"stupid_fucking_fruits_that_died_this_frame_list\"].str.len()\n",
    "\n",
    "    projectiles = [\"Apple\", \"Banana\", \"Grape\", \"Pineapple\", \"Watermelon\", \"Coconut\", \"Cherry\"]\n",
    "\n",
    "    df[\"fruit_name_spawned\"] = df[\"fruits_spawned_this_frame_list\"].apply(lambda x: projectiles.index(x[0][\"name\"]) if len(x) != 0 else -1)\n",
    "\n",
    "    for butt in [\"b1\", \"b2\", \"b3\", \"b4\"]:\n",
    "        df[butt] = df[\"button_cooldown_times\"].apply(lambda j: j[butt])\n",
    "\n",
    "    general_needed = [\n",
    "        \"cheat_flag\",\n",
    "        \"frame_count\",\n",
    "        \"session_id\",\n",
    "        \"score\",\n",
    "        \"combo\",\n",
    "        \"is_combo_going\",\n",
    "        \"time_left_seconds\",\n",
    "        \"can_dash\",\n",
    "    ]\n",
    "    buttons_needed = [\n",
    "        \"b1\", \"b2\", \"b3\", \"b4\",\n",
    "    ]\n",
    "\n",
    "    df = df[general_needed + buttons_needed]\n",
    "    df[general_needed] = df[general_needed].astype(int)\n",
    "\n",
    "    if data_name == \"cheat-4_huge-damage\":  # its too fucking huge\n",
    "        df[\"score\"] *= 0.0001\n",
    "\n",
    "    return df"
   ],
   "metadata": {
    "collapsed": false,
    "ExecuteTime": {
     "end_time": "2023-12-15T09:33:56.583518Z",
     "start_time": "2023-12-15T09:33:56.549886Z"
    }
   }
  },
  {
   "cell_type": "code",
   "execution_count": 54,
   "outputs": [],
   "source": [
    "def preprocess_synthetic_csv(data_name):\n",
    "    filename = f\"train_data/synthetic/{data_name}_50-games.csv\"\n",
    "    df = pd.read_csv(filename).drop([\"Unnamed: 0\"], axis=1)\n",
    "    return df"
   ],
   "metadata": {
    "collapsed": false,
    "ExecuteTime": {
     "end_time": "2023-12-15T09:33:56.583619Z",
     "start_time": "2023-12-15T09:33:56.553709Z"
    }
   }
  },
  {
   "cell_type": "code",
   "execution_count": 55,
   "outputs": [
    {
     "data": {
      "text/plain": "((1979694, 10), (1979694,))"
     },
     "execution_count": 55,
     "metadata": {},
     "output_type": "execute_result"
    }
   ],
   "source": [
    "synthetic_data = pd.concat([preprocess_synthetic_csv(data_name) for data_name in config_dict.values()])\n",
    "\n",
    "X_synthetic = synthetic_data.drop([\"cheat_flag\", \"session_id\"], axis=1)\n",
    "y_synthetic = synthetic_data[\"cheat_flag\"]\n",
    "\n",
    "X_synthetic.shape, y_synthetic.shape"
   ],
   "metadata": {
    "collapsed": false,
    "ExecuteTime": {
     "end_time": "2023-12-15T09:33:58.037074Z",
     "start_time": "2023-12-15T09:33:56.557084Z"
    }
   }
  },
  {
   "cell_type": "code",
   "execution_count": 56,
   "outputs": [
    {
     "data": {
      "text/plain": "((173006, 10), (173006,))"
     },
     "execution_count": 56,
     "metadata": {},
     "output_type": "execute_result"
    }
   ],
   "source": [
    "gt_data = pd.concat([preprocess_gt_csv(data_name) for data_name in config_dict.values()])\n",
    "\n",
    "X_gt = gt_data.drop([\"cheat_flag\", \"session_id\"], axis=1)\n",
    "y_gt = gt_data[\"cheat_flag\"]\n",
    "\n",
    "X_gt.shape, y_gt.shape"
   ],
   "metadata": {
    "collapsed": false,
    "ExecuteTime": {
     "end_time": "2023-12-15T09:34:15.300365Z",
     "start_time": "2023-12-15T09:33:58.039995Z"
    }
   }
  },
  {
   "cell_type": "code",
   "execution_count": 57,
   "outputs": [
    {
     "data": {
      "text/plain": "<Figure size 800x550 with 1 Axes>",
      "image/png": "[encoded data removed]"
     },
     "metadata": {},
     "output_type": "display_data"
    }
   ],
   "source": [
    "plt.hist(y_synthetic, bins=len(config_dict), rwidth=0.8);"
   ],
   "metadata": {
    "collapsed": false,
    "ExecuteTime": {
     "end_time": "2023-12-15T09:34:15.371274Z",
     "start_time": "2023-12-15T09:34:15.290941Z"
    }
   }
  },
  {
   "cell_type": "code",
   "execution_count": 58,
   "outputs": [
    {
     "data": {
      "text/plain": "(301912, 0.1525043769390623)"
     },
     "execution_count": 58,
     "metadata": {},
     "output_type": "execute_result"
    }
   ],
   "source": [
    "fair_synth = np.sum(y_synthetic == 0)\n",
    "fair_gt = np.sum(y_gt == 0)\n",
    "\n",
    "fair_synth, fair_synth / len(y_synthetic)"
   ],
   "metadata": {
    "collapsed": false,
    "ExecuteTime": {
     "end_time": "2023-12-15T09:34:15.376259Z",
     "start_time": "2023-12-15T09:34:15.372309Z"
    }
   }
  },
  {
   "cell_type": "code",
   "execution_count": 59,
   "outputs": [
    {
     "data": {
      "text/plain": "(60382, 7906)"
     },
     "execution_count": 59,
     "metadata": {},
     "output_type": "execute_result"
    }
   ],
   "source": [
    "cheat_synth = int(fair_synth / 5)\n",
    "cheat_gt = int(fair_gt / 5)\n",
    "cheat_synth, cheat_gt"
   ],
   "metadata": {
    "collapsed": false,
    "ExecuteTime": {
     "end_time": "2023-12-15T09:34:15.379204Z",
     "start_time": "2023-12-15T09:34:15.377632Z"
    }
   }
  },
  {
   "cell_type": "code",
   "execution_count": 60,
   "outputs": [],
   "source": [
    "def preprocess_normed_synthetic_csv(data_name):\n",
    "    df = preprocess_synthetic_csv(data_name)\n",
    "    if data_name != \"fair\":\n",
    "        df = df.sample(n=cheat_synth)\n",
    "        df[\"cheat_flag\"] = 1\n",
    "    return df\n",
    "\n",
    "def preprocess_normed_gt_csv(data_name):\n",
    "    df = preprocess_gt_csv(data_name)\n",
    "    if data_name != \"fair\":\n",
    "        df = df.sample(n=cheat_gt)\n",
    "        df[\"cheat_flag\"] = 1\n",
    "    return df"
   ],
   "metadata": {
    "collapsed": false,
    "ExecuteTime": {
     "end_time": "2023-12-15T09:34:15.381984Z",
     "start_time": "2023-12-15T09:34:15.380760Z"
    }
   }
  },
  {
   "cell_type": "code",
   "execution_count": 61,
   "outputs": [],
   "source": [
    "rows_concat = 30"
   ],
   "metadata": {
    "collapsed": false,
    "ExecuteTime": {
     "end_time": "2023-12-15T09:34:15.384120Z",
     "start_time": "2023-12-15T09:34:15.383238Z"
    }
   }
  },
  {
   "cell_type": "code",
   "execution_count": 62,
   "outputs": [
    {
     "data": {
      "text/plain": "(603822, 12)"
     },
     "execution_count": 62,
     "metadata": {},
     "output_type": "execute_result"
    }
   ],
   "source": [
    "synthetic_data = pd.concat([preprocess_normed_synthetic_csv(data_name) for data_name in config_dict.values()])\n",
    "synthetic_data.shape"
   ],
   "metadata": {
    "collapsed": false,
    "ExecuteTime": {
     "end_time": "2023-12-15T09:34:16.735113Z",
     "start_time": "2023-12-15T09:34:15.385624Z"
    }
   }
  },
  {
   "cell_type": "code",
   "execution_count": 63,
   "outputs": [
    {
     "data": {
      "text/plain": "(603810, 12)"
     },
     "execution_count": 63,
     "metadata": {},
     "output_type": "execute_result"
    }
   ],
   "source": [
    "synthetic_data = synthetic_data.sample(n=len(synthetic_data) - len(synthetic_data) % rows_concat).sort_values(by=[\"cheat_flag\", \"session_id\", \"frame_count\"])\n",
    "synthetic_data.shape"
   ],
   "metadata": {
    "collapsed": false,
    "ExecuteTime": {
     "end_time": "2023-12-15T09:34:16.935819Z",
     "start_time": "2023-12-15T09:34:16.737634Z"
    }
   }
  },
  {
   "cell_type": "code",
   "execution_count": 64,
   "outputs": [
    {
     "data": {
      "text/plain": "((20127, 300), (20127, 30))"
     },
     "execution_count": 64,
     "metadata": {},
     "output_type": "execute_result"
    }
   ],
   "source": [
    "X_synthetic = synthetic_data.drop([\"cheat_flag\", \"session_id\"], axis=1)\n",
    "y_synthetic = synthetic_data[\"cheat_flag\"]\n",
    "\n",
    "X_synthetic = X_synthetic.to_numpy().reshape((-1, 10 * rows_concat))\n",
    "y_synthetic = y_synthetic.to_numpy().reshape((-1, 1 * rows_concat))\n",
    "\n",
    "X_synthetic.shape, y_synthetic.shape"
   ],
   "metadata": {
    "collapsed": false,
    "ExecuteTime": {
     "end_time": "2023-12-15T09:34:16.980563Z",
     "start_time": "2023-12-15T09:34:16.937530Z"
    }
   }
  },
  {
   "cell_type": "code",
   "execution_count": 65,
   "outputs": [
    {
     "data": {
      "text/plain": "(79064, 12)"
     },
     "execution_count": 65,
     "metadata": {},
     "output_type": "execute_result"
    }
   ],
   "source": [
    "gt_data = pd.concat([preprocess_normed_gt_csv(data_name) for data_name in config_dict.values()])\n",
    "gt_data.shape"
   ],
   "metadata": {
    "collapsed": false,
    "ExecuteTime": {
     "end_time": "2023-12-15T09:34:34.500148Z",
     "start_time": "2023-12-15T09:34:16.978260Z"
    }
   }
  },
  {
   "cell_type": "code",
   "execution_count": 66,
   "outputs": [
    {
     "data": {
      "text/plain": "(79050, 12)"
     },
     "execution_count": 66,
     "metadata": {},
     "output_type": "execute_result"
    }
   ],
   "source": [
    "gt_data = gt_data.sample(n=len(gt_data) - len(gt_data) % rows_concat).sort_values(by=[\"cheat_flag\", \"session_id\", \"frame_count\"])\n",
    "gt_data.shape"
   ],
   "metadata": {
    "collapsed": false,
    "ExecuteTime": {
     "end_time": "2023-12-15T09:34:34.548279Z",
     "start_time": "2023-12-15T09:34:34.500916Z"
    }
   }
  },
  {
   "cell_type": "code",
   "execution_count": 67,
   "outputs": [
    {
     "data": {
      "text/plain": "((2635, 300), (2635, 30))"
     },
     "execution_count": 67,
     "metadata": {},
     "output_type": "execute_result"
    }
   ],
   "source": [
    "X_gt = gt_data.drop([\"cheat_flag\", \"session_id\"], axis=1)\n",
    "y_gt = gt_data[\"cheat_flag\"]\n",
    "\n",
    "X_gt = X_gt.to_numpy().reshape((-1, 10 * rows_concat))\n",
    "y_gt = y_gt.to_numpy().reshape((-1, 1 * rows_concat))\n",
    "\n",
    "X_gt.shape, y_gt.shape"
   ],
   "metadata": {
    "collapsed": false,
    "ExecuteTime": {
     "end_time": "2023-12-15T09:34:34.548591Z",
     "start_time": "2023-12-15T09:34:34.529911Z"
    }
   }
  },
  {
   "cell_type": "code",
   "execution_count": 68,
   "outputs": [
    {
     "data": {
      "text/plain": "((20785, 300), (20785, 30), (1977, 300), (1977, 30))"
     },
     "execution_count": 68,
     "metadata": {},
     "output_type": "execute_result"
    }
   ],
   "source": [
    "mix_num = len(X_gt) // 4\n",
    "\n",
    "gt_idx = np.random.choice(len(X_gt), replace=False, size=mix_num)\n",
    "\n",
    "gt_rest = [i for i in np.arange(len(X_gt)) if i not in gt_idx]\n",
    "\n",
    "X_train_mixed = np.concatenate([X_synthetic, X_gt[gt_idx]])\n",
    "y_train_mixed = np.concatenate([y_synthetic, y_gt[gt_idx]])\n",
    "\n",
    "X_test = X_gt[gt_rest]\n",
    "y_test = y_gt[gt_rest]\n",
    "\n",
    "X_train_mixed.shape, y_train_mixed.shape, X_test.shape, y_test.shape"
   ],
   "metadata": {
    "collapsed": false,
    "ExecuteTime": {
     "end_time": "2023-12-15T09:34:34.587711Z",
     "start_time": "2023-12-15T09:34:34.542770Z"
    }
   }
  },
  {
   "cell_type": "code",
   "execution_count": 69,
   "outputs": [],
   "source": [
    "train_set = TensorDataset(\n",
    "    torch.FloatTensor(X_train_mixed).unsqueeze(1),\n",
    "    torch.LongTensor(y_train_mixed),\n",
    ")\n",
    "train_loader = DataLoader(train_set, batch_size=60, shuffle=True)\n",
    "\n",
    "test_set = TensorDataset(\n",
    "    torch.FloatTensor(X_test).unsqueeze(1),\n",
    "    torch.LongTensor(y_test),\n",
    ")\n",
    "test_loader = DataLoader(test_set, batch_size=60, shuffle=True)"
   ],
   "metadata": {
    "collapsed": false,
    "ExecuteTime": {
     "end_time": "2023-12-15T09:34:34.608540Z",
     "start_time": "2023-12-15T09:34:34.586661Z"
    }
   }
  },
  {
   "cell_type": "code",
   "execution_count": 70,
   "outputs": [],
   "source": [
    "names = [\n",
    "    \"Decision Tree\",\n",
    "    \"Random Forest\",\n",
    "]\n",
    "\n",
    "classifiers = [\n",
    "    DecisionTreeClassifier( random_state=42),\n",
    "    RandomForestClassifier(random_state=42),\n",
    "]"
   ],
   "metadata": {
    "collapsed": false,
    "ExecuteTime": {
     "end_time": "2023-12-15T09:34:34.608713Z",
     "start_time": "2023-12-15T09:34:34.595314Z"
    }
   }
  },
  {
   "cell_type": "code",
   "execution_count": 71,
   "outputs": [
    {
     "name": "stdout",
     "output_type": "stream",
     "text": [
      "Decision Tree model:\n"
     ]
    },
    {
     "name": "stderr",
     "output_type": "stream",
     "text": [
      "100%|██████████| 347/347 [00:03<00:00, 96.45it/s] \n",
      "100%|██████████| 33/33 [00:00<00:00, 1420.40it/s]\n"
     ]
    },
    {
     "name": "stdout",
     "output_type": "stream",
     "text": [
      "Train time: 3.6 sec,  Train score: 1.000,  Gt score: [ 0.589 ]\n",
      "------------------------------------------------------------------------------------------------------------------------------------------------------\n",
      "Random Forest model:\n"
     ]
    },
    {
     "name": "stderr",
     "output_type": "stream",
     "text": [
      "100%|██████████| 347/347 [00:44<00:00,  7.86it/s]\n",
      "100%|██████████| 33/33 [00:00<00:00, 45.41it/s]"
     ]
    },
    {
     "name": "stdout",
     "output_type": "stream",
     "text": [
      "Train time: 44.1 sec,  Train score: 1.000,  Gt score: [ 0.524 ]\n",
      "------------------------------------------------------------------------------------------------------------------------------------------------------\n"
     ]
    },
    {
     "name": "stderr",
     "output_type": "stream",
     "text": [
      "\n"
     ]
    }
   ],
   "source": [
    "for name, clf in zip(names, classifiers):\n",
    "    print(f\"{name} model:\")\n",
    "\n",
    "    train_acc = 0\n",
    "    start = time.time()\n",
    "\n",
    "    for X, y in tqdm(train_loader):\n",
    "        clf.fit(X.numpy().squeeze(), y.numpy())\n",
    "        train_acc += clf.score(X.numpy().squeeze(), y.numpy())\n",
    "\n",
    "    end = time.time()\n",
    "    train_acc /= len(train_loader)\n",
    "\n",
    "    test_acc = 0\n",
    "    for X, y in tqdm(test_loader):\n",
    "        test_acc += clf.score(X.numpy().squeeze(), y.numpy())\n",
    "    test_acc /= len(test_loader)\n",
    "\n",
    "    # snake_case_name = \"_\".join(name.lower().split(\" \"))\n",
    "    # joblib.dump(clf, f\"../microservices/DataManager/weights/binary/{snake_case_name}.joblib\")\n",
    "    # print(f\"Saved model.\")\n",
    "\n",
    "    print(f\"Train time: {(end - start):.1f} sec,  Train score: {train_acc:.3f},  Gt score: [ {test_acc:.3f} ]\")\n",
    "    print(\"-\" * 150)"
   ],
   "metadata": {
    "collapsed": false,
    "ExecuteTime": {
     "end_time": "2023-12-15T09:35:23.103689Z",
     "start_time": "2023-12-15T09:34:34.599422Z"
    }
   }
  },
  {
   "cell_type": "code",
   "execution_count": 25,
   "outputs": [],
   "source": [
    "input_size = 10 * rows_concat\n",
    "hidden_size = 50\n",
    "output_size = rows_concat\n",
    "num_layers = 1\n",
    "\n",
    "learning_rate = 0.001\n",
    "num_epochs = 50\n",
    "batch_size = 60"
   ],
   "metadata": {
    "collapsed": false,
    "ExecuteTime": {
     "end_time": "2023-12-15T03:02:45.290465Z",
     "start_time": "2023-12-15T03:02:45.284505Z"
    }
   }
  },
  {
   "cell_type": "code",
   "execution_count": 28,
   "outputs": [],
   "source": [
    "from microservices.DataManager.models.lstm import LSTMModel, LSTM2\n",
    "\n",
    "model = LSTM2(input_size, hidden_size, output_size, num_layers)\n",
    "criterion = nn.CrossEntropyLoss()\n",
    "optimizer = optim.Adam(model.parameters(), lr=0.001, weight_decay=1e-5)\n",
    "scheduler = optim.lr_scheduler.ReduceLROnPlateau(optimizer, mode=\"max\", patience=5, threshold=1, factor=0.8, threshold_mode=\"abs\", min_lr=0.000005, verbose=True)"
   ],
   "metadata": {
    "collapsed": false,
    "ExecuteTime": {
     "end_time": "2023-12-15T03:05:38.095382Z",
     "start_time": "2023-12-15T03:05:38.062163Z"
    }
   }
  },
  {
   "cell_type": "code",
   "execution_count": 29,
   "outputs": [
    {
     "name": "stderr",
     "output_type": "stream",
     "text": [
      "100%|██████████| 104/104 [00:06<00:00, 15.73it/s]\n"
     ]
    },
    {
     "name": "stdout",
     "output_type": "stream",
     "text": [
      "[ Train    1/50 ] loss: 0.6321, accuracy: [ 62.7628% ]\n",
      "[ Gt         1/50 ], accuracy: [ 54.3897% ]\n",
      "------------------------------------------------------------------------------------------------------------------------------------------------------\n"
     ]
    },
    {
     "name": "stderr",
     "output_type": "stream",
     "text": [
      "100%|██████████| 104/104 [00:06<00:00, 16.98it/s]\n"
     ]
    },
    {
     "name": "stdout",
     "output_type": "stream",
     "text": [
      "[ Train    2/50 ] loss: 0.5662, accuracy: [ 69.7685% ]\n",
      "[ Gt         2/50 ], accuracy: [ 52.8483% ]\n",
      "------------------------------------------------------------------------------------------------------------------------------------------------------\n"
     ]
    },
    {
     "name": "stderr",
     "output_type": "stream",
     "text": [
      "100%|██████████| 104/104 [00:06<00:00, 15.80it/s]\n"
     ]
    },
    {
     "name": "stdout",
     "output_type": "stream",
     "text": [
      "[ Train    3/50 ] loss: 0.5378, accuracy: [ 72.3848% ]\n",
      "[ Gt         3/50 ], accuracy: [ 49.8954% ]\n",
      "------------------------------------------------------------------------------------------------------------------------------------------------------\n"
     ]
    },
    {
     "name": "stderr",
     "output_type": "stream",
     "text": [
      "100%|██████████| 104/104 [00:06<00:00, 15.65it/s]\n"
     ]
    },
    {
     "name": "stdout",
     "output_type": "stream",
     "text": [
      "[ Train    4/50 ] loss: 0.5294, accuracy: [ 72.8765% ]\n",
      "[ Gt         4/50 ], accuracy: [ 54.7287% ]\n",
      "------------------------------------------------------------------------------------------------------------------------------------------------------\n"
     ]
    },
    {
     "name": "stderr",
     "output_type": "stream",
     "text": [
      "100%|██████████| 104/104 [00:06<00:00, 15.94it/s]\n"
     ]
    },
    {
     "name": "stdout",
     "output_type": "stream",
     "text": [
      "[ Train    5/50 ] loss: 0.5097, accuracy: [ 74.3106% ]\n",
      "[ Gt         5/50 ], accuracy: [ 55.1435% ]\n",
      "------------------------------------------------------------------------------------------------------------------------------------------------------\n"
     ]
    },
    {
     "name": "stderr",
     "output_type": "stream",
     "text": [
      "100%|██████████| 104/104 [00:06<00:00, 16.95it/s]\n"
     ]
    },
    {
     "name": "stdout",
     "output_type": "stream",
     "text": [
      "[ Train    6/50 ] loss: 0.4975, accuracy: [ 75.2635% ]\n",
      "[ Gt         6/50 ], accuracy: [ 54.8147% ]\n",
      "------------------------------------------------------------------------------------------------------------------------------------------------------\n"
     ]
    },
    {
     "name": "stderr",
     "output_type": "stream",
     "text": [
      "100%|██████████| 104/104 [00:06<00:00, 16.47it/s]\n"
     ]
    },
    {
     "name": "stdout",
     "output_type": "stream",
     "text": [
      "[ Train    7/50 ] loss: 0.4857, accuracy: [ 76.1103% ]\n",
      "[ Gt         7/50 ], accuracy: [ 56.6410% ]\n",
      "------------------------------------------------------------------------------------------------------------------------------------------------------\n"
     ]
    },
    {
     "name": "stderr",
     "output_type": "stream",
     "text": [
      "100%|██████████| 104/104 [00:06<00:00, 16.76it/s]\n"
     ]
    },
    {
     "name": "stdout",
     "output_type": "stream",
     "text": [
      "[ Train    8/50 ] loss: 0.4734, accuracy: [ 76.8264% ]\n",
      "[ Gt         8/50 ], accuracy: [ 51.7083% ]\n",
      "------------------------------------------------------------------------------------------------------------------------------------------------------\n"
     ]
    },
    {
     "name": "stderr",
     "output_type": "stream",
     "text": [
      "100%|██████████| 104/104 [00:06<00:00, 16.29it/s]\n"
     ]
    },
    {
     "name": "stdout",
     "output_type": "stream",
     "text": [
      "[ Train    9/50 ] loss: 0.4636, accuracy: [ 77.3594% ]\n",
      "[ Gt         9/50 ], accuracy: [ 60.2044% ]\n",
      "------------------------------------------------------------------------------------------------------------------------------------------------------\n"
     ]
    },
    {
     "name": "stderr",
     "output_type": "stream",
     "text": [
      "100%|██████████| 104/104 [00:06<00:00, 16.67it/s]\n"
     ]
    },
    {
     "name": "stdout",
     "output_type": "stream",
     "text": [
      "[ Train    10/50 ] loss: 0.4396, accuracy: [ 79.2222% ]\n",
      "[ Gt         10/50 ], accuracy: [ 61.3832% ]\n",
      "------------------------------------------------------------------------------------------------------------------------------------------------------\n"
     ]
    },
    {
     "name": "stderr",
     "output_type": "stream",
     "text": [
      "100%|██████████| 104/104 [00:06<00:00, 16.70it/s]\n"
     ]
    },
    {
     "name": "stdout",
     "output_type": "stream",
     "text": [
      "[ Train    11/50 ] loss: 0.4366, accuracy: [ 78.8169% ]\n",
      "[ Gt         11/50 ], accuracy: [ 61.2314% ]\n",
      "------------------------------------------------------------------------------------------------------------------------------------------------------\n"
     ]
    },
    {
     "name": "stderr",
     "output_type": "stream",
     "text": [
      "100%|██████████| 104/104 [00:06<00:00, 17.26it/s]\n"
     ]
    },
    {
     "name": "stdout",
     "output_type": "stream",
     "text": [
      "[ Train    12/50 ] loss: 0.4181, accuracy: [ 79.8843% ]\n",
      "[ Gt         12/50 ], accuracy: [ 57.8249% ]\n",
      "------------------------------------------------------------------------------------------------------------------------------------------------------\n"
     ]
    },
    {
     "name": "stderr",
     "output_type": "stream",
     "text": [
      "100%|██████████| 104/104 [00:06<00:00, 17.28it/s]\n"
     ]
    },
    {
     "name": "stdout",
     "output_type": "stream",
     "text": [
      "[ Train    13/50 ] loss: 0.4116, accuracy: [ 79.9906% ]\n",
      "[ Gt         13/50 ], accuracy: [ 58.3359% ]\n",
      "------------------------------------------------------------------------------------------------------------------------------------------------------\n"
     ]
    },
    {
     "name": "stderr",
     "output_type": "stream",
     "text": [
      "100%|██████████| 104/104 [00:05<00:00, 17.34it/s]\n"
     ]
    },
    {
     "name": "stdout",
     "output_type": "stream",
     "text": [
      "[ Train    14/50 ] loss: 0.4024, accuracy: [ 80.3526% ]\n",
      "[ Gt         14/50 ], accuracy: [ 58.7018% ]\n",
      "------------------------------------------------------------------------------------------------------------------------------------------------------\n"
     ]
    },
    {
     "name": "stderr",
     "output_type": "stream",
     "text": [
      "100%|██████████| 104/104 [00:06<00:00, 16.76it/s]\n"
     ]
    },
    {
     "name": "stdout",
     "output_type": "stream",
     "text": [
      "[ Train    15/50 ] loss: 0.3913, accuracy: [ 80.6630% ]\n",
      "[ Gt         15/50 ], accuracy: [ 61.8250% ]\n",
      "------------------------------------------------------------------------------------------------------------------------------------------------------\n"
     ]
    },
    {
     "name": "stderr",
     "output_type": "stream",
     "text": [
      "100%|██████████| 104/104 [00:06<00:00, 16.36it/s]\n"
     ]
    },
    {
     "name": "stdout",
     "output_type": "stream",
     "text": [
      "[ Train    16/50 ] loss: 0.3931, accuracy: [ 80.5891% ]\n",
      "[ Gt         16/50 ], accuracy: [ 69.6938% ]\n",
      "------------------------------------------------------------------------------------------------------------------------------------------------------\n"
     ]
    },
    {
     "name": "stderr",
     "output_type": "stream",
     "text": [
      "100%|██████████| 104/104 [00:06<00:00, 17.04it/s]\n"
     ]
    },
    {
     "name": "stdout",
     "output_type": "stream",
     "text": [
      "[ Train    17/50 ] loss: 0.3834, accuracy: [ 81.0065% ]\n",
      "[ Gt         17/50 ], accuracy: [ 68.0984% ]\n",
      "------------------------------------------------------------------------------------------------------------------------------------------------------\n"
     ]
    },
    {
     "name": "stderr",
     "output_type": "stream",
     "text": [
      "100%|██████████| 104/104 [00:06<00:00, 16.98it/s]\n"
     ]
    },
    {
     "name": "stdout",
     "output_type": "stream",
     "text": [
      "[ Train    18/50 ] loss: 0.3746, accuracy: [ 81.6967% ]\n",
      "[ Gt         18/50 ], accuracy: [ 68.4003% ]\n",
      "------------------------------------------------------------------------------------------------------------------------------------------------------\n"
     ]
    },
    {
     "name": "stderr",
     "output_type": "stream",
     "text": [
      "100%|██████████| 104/104 [00:05<00:00, 17.34it/s]\n"
     ]
    },
    {
     "name": "stdout",
     "output_type": "stream",
     "text": [
      "[ Train    19/50 ] loss: 0.3680, accuracy: [ 82.0935% ]\n",
      "[ Gt         19/50 ], accuracy: [ 66.1557% ]\n",
      "------------------------------------------------------------------------------------------------------------------------------------------------------\n"
     ]
    },
    {
     "name": "stderr",
     "output_type": "stream",
     "text": [
      "100%|██████████| 104/104 [00:06<00:00, 16.99it/s]\n"
     ]
    },
    {
     "name": "stdout",
     "output_type": "stream",
     "text": [
      "[ Train    20/50 ] loss: 0.3553, accuracy: [ 82.9750% ]\n",
      "[ Gt         20/50 ], accuracy: [ 71.2284% ]\n",
      "------------------------------------------------------------------------------------------------------------------------------------------------------\n"
     ]
    },
    {
     "name": "stderr",
     "output_type": "stream",
     "text": [
      "100%|██████████| 104/104 [00:06<00:00, 16.78it/s]\n"
     ]
    },
    {
     "name": "stdout",
     "output_type": "stream",
     "text": [
      "[ Train    21/50 ] loss: 0.3684, accuracy: [ 82.2412% ]\n",
      "[ Gt         21/50 ], accuracy: [ 70.3211% ]\n",
      "------------------------------------------------------------------------------------------------------------------------------------------------------\n"
     ]
    },
    {
     "name": "stderr",
     "output_type": "stream",
     "text": [
      "100%|██████████| 104/104 [00:06<00:00, 16.53it/s]\n"
     ]
    },
    {
     "name": "stdout",
     "output_type": "stream",
     "text": [
      "[ Train    22/50 ] loss: 0.3507, accuracy: [ 83.1339% ]\n",
      "[ Gt         22/50 ], accuracy: [ 72.2942% ]\n",
      "------------------------------------------------------------------------------------------------------------------------------------------------------\n"
     ]
    },
    {
     "name": "stderr",
     "output_type": "stream",
     "text": [
      "100%|██████████| 104/104 [00:06<00:00, 16.83it/s]\n"
     ]
    },
    {
     "name": "stdout",
     "output_type": "stream",
     "text": [
      "[ Train    23/50 ] loss: 0.3465, accuracy: [ 83.3249% ]\n",
      "[ Gt         23/50 ], accuracy: [ 71.2031% ]\n",
      "------------------------------------------------------------------------------------------------------------------------------------------------------\n"
     ]
    },
    {
     "name": "stderr",
     "output_type": "stream",
     "text": [
      "100%|██████████| 104/104 [00:06<00:00, 16.56it/s]\n"
     ]
    },
    {
     "name": "stdout",
     "output_type": "stream",
     "text": [
      "[ Train    24/50 ] loss: 0.3530, accuracy: [ 82.7954% ]\n",
      "[ Gt         24/50 ], accuracy: [ 64.4322% ]\n",
      "------------------------------------------------------------------------------------------------------------------------------------------------------\n"
     ]
    },
    {
     "name": "stderr",
     "output_type": "stream",
     "text": [
      "100%|██████████| 104/104 [00:06<00:00, 16.97it/s]\n"
     ]
    },
    {
     "name": "stdout",
     "output_type": "stream",
     "text": [
      "[ Train    25/50 ] loss: 0.3506, accuracy: [ 83.0888% ]\n",
      "[ Gt         25/50 ], accuracy: [ 68.8000% ]\n",
      "------------------------------------------------------------------------------------------------------------------------------------------------------\n"
     ]
    },
    {
     "name": "stderr",
     "output_type": "stream",
     "text": [
      "100%|██████████| 104/104 [00:06<00:00, 16.91it/s]\n"
     ]
    },
    {
     "name": "stdout",
     "output_type": "stream",
     "text": [
      "[ Train    26/50 ] loss: 0.3532, accuracy: [ 83.0542% ]\n",
      "[ Gt         26/50 ], accuracy: [ 71.4172% ]\n",
      "------------------------------------------------------------------------------------------------------------------------------------------------------\n"
     ]
    },
    {
     "name": "stderr",
     "output_type": "stream",
     "text": [
      "100%|██████████| 104/104 [00:06<00:00, 16.47it/s]\n"
     ]
    },
    {
     "name": "stdout",
     "output_type": "stream",
     "text": [
      "[ Train    27/50 ] loss: 0.3475, accuracy: [ 83.0969% ]\n",
      "[ Gt         27/50 ], accuracy: [ 71.8709% ]\n",
      "------------------------------------------------------------------------------------------------------------------------------------------------------\n"
     ]
    },
    {
     "name": "stderr",
     "output_type": "stream",
     "text": [
      "100%|██████████| 104/104 [00:07<00:00, 14.42it/s]\n"
     ]
    },
    {
     "name": "stdout",
     "output_type": "stream",
     "text": [
      "[ Train    28/50 ] loss: 0.3382, accuracy: [ 83.7795% ]\n",
      "[ Gt         28/50 ], accuracy: [ 70.2267% ]\n",
      "------------------------------------------------------------------------------------------------------------------------------------------------------\n",
      "Epoch 00028: reducing learning rate of group 0 to 8.0000e-04.\n"
     ]
    },
    {
     "name": "stderr",
     "output_type": "stream",
     "text": [
      "100%|██████████| 104/104 [00:06<00:00, 17.27it/s]\n"
     ]
    },
    {
     "name": "stdout",
     "output_type": "stream",
     "text": [
      "[ Train    29/50 ] loss: 0.3364, accuracy: [ 83.8170% ]\n",
      "[ Gt         29/50 ], accuracy: [ 70.9248% ]\n",
      "------------------------------------------------------------------------------------------------------------------------------------------------------\n"
     ]
    },
    {
     "name": "stderr",
     "output_type": "stream",
     "text": [
      "100%|██████████| 104/104 [00:06<00:00, 16.40it/s]\n"
     ]
    },
    {
     "name": "stdout",
     "output_type": "stream",
     "text": [
      "[ Train    30/50 ] loss: 0.3342, accuracy: [ 83.9389% ]\n",
      "[ Gt         30/50 ], accuracy: [ 70.4206% ]\n",
      "------------------------------------------------------------------------------------------------------------------------------------------------------\n"
     ]
    },
    {
     "name": "stderr",
     "output_type": "stream",
     "text": [
      "100%|██████████| 104/104 [00:06<00:00, 17.33it/s]\n"
     ]
    },
    {
     "name": "stdout",
     "output_type": "stream",
     "text": [
      "[ Train    31/50 ] loss: 0.3312, accuracy: [ 84.1325% ]\n",
      "[ Gt         31/50 ], accuracy: [ 71.3228% ]\n",
      "------------------------------------------------------------------------------------------------------------------------------------------------------\n"
     ]
    },
    {
     "name": "stderr",
     "output_type": "stream",
     "text": [
      "100%|██████████| 104/104 [00:06<00:00, 16.64it/s]\n"
     ]
    },
    {
     "name": "stdout",
     "output_type": "stream",
     "text": [
      "[ Train    32/50 ] loss: 0.3289, accuracy: [ 84.1771% ]\n",
      "[ Gt         32/50 ], accuracy: [ 72.0024% ]\n",
      "------------------------------------------------------------------------------------------------------------------------------------------------------\n"
     ]
    },
    {
     "name": "stderr",
     "output_type": "stream",
     "text": [
      "100%|██████████| 104/104 [00:06<00:00, 16.59it/s]\n"
     ]
    },
    {
     "name": "stdout",
     "output_type": "stream",
     "text": [
      "[ Train    33/50 ] loss: 0.3333, accuracy: [ 84.1084% ]\n",
      "[ Gt         33/50 ], accuracy: [ 71.8945% ]\n",
      "------------------------------------------------------------------------------------------------------------------------------------------------------\n"
     ]
    },
    {
     "name": "stderr",
     "output_type": "stream",
     "text": [
      "100%|██████████| 104/104 [00:06<00:00, 17.26it/s]\n"
     ]
    },
    {
     "name": "stdout",
     "output_type": "stream",
     "text": [
      "[ Train    34/50 ] loss: 0.3276, accuracy: [ 84.3554% ]\n",
      "[ Gt         34/50 ], accuracy: [ 71.9839% ]\n",
      "------------------------------------------------------------------------------------------------------------------------------------------------------\n",
      "Epoch 00034: reducing learning rate of group 0 to 6.4000e-04.\n"
     ]
    },
    {
     "name": "stderr",
     "output_type": "stream",
     "text": [
      "100%|██████████| 104/104 [00:06<00:00, 16.67it/s]\n"
     ]
    },
    {
     "name": "stdout",
     "output_type": "stream",
     "text": [
      "[ Train    35/50 ] loss: 0.3232, accuracy: [ 84.6350% ]\n",
      "[ Gt         35/50 ], accuracy: [ 71.5100% ]\n",
      "------------------------------------------------------------------------------------------------------------------------------------------------------\n"
     ]
    },
    {
     "name": "stderr",
     "output_type": "stream",
     "text": [
      "100%|██████████| 104/104 [00:06<00:00, 16.20it/s]\n"
     ]
    },
    {
     "name": "stdout",
     "output_type": "stream",
     "text": [
      "[ Train    36/50 ] loss: 0.3237, accuracy: [ 84.5241% ]\n",
      "[ Gt         36/50 ], accuracy: [ 71.2688% ]\n",
      "------------------------------------------------------------------------------------------------------------------------------------------------------\n"
     ]
    },
    {
     "name": "stderr",
     "output_type": "stream",
     "text": [
      "100%|██████████| 104/104 [00:06<00:00, 17.19it/s]\n"
     ]
    },
    {
     "name": "stdout",
     "output_type": "stream",
     "text": [
      "[ Train    37/50 ] loss: 0.3197, accuracy: [ 84.7890% ]\n",
      "[ Gt         37/50 ], accuracy: [ 72.3346% ]\n",
      "------------------------------------------------------------------------------------------------------------------------------------------------------\n"
     ]
    },
    {
     "name": "stderr",
     "output_type": "stream",
     "text": [
      "100%|██████████| 104/104 [00:06<00:00, 16.65it/s]\n"
     ]
    },
    {
     "name": "stdout",
     "output_type": "stream",
     "text": [
      "[ Train    38/50 ] loss: 0.3651, accuracy: [ 82.9634% ]\n",
      "[ Gt         38/50 ], accuracy: [ 71.1019% ]\n",
      "------------------------------------------------------------------------------------------------------------------------------------------------------\n"
     ]
    },
    {
     "name": "stderr",
     "output_type": "stream",
     "text": [
      "100%|██████████| 104/104 [00:06<00:00, 16.82it/s]\n"
     ]
    },
    {
     "name": "stdout",
     "output_type": "stream",
     "text": [
      "[ Train    39/50 ] loss: 0.3684, accuracy: [ 82.6849% ]\n",
      "[ Gt         39/50 ], accuracy: [ 70.6196% ]\n",
      "------------------------------------------------------------------------------------------------------------------------------------------------------\n"
     ]
    },
    {
     "name": "stderr",
     "output_type": "stream",
     "text": [
      "100%|██████████| 104/104 [00:06<00:00, 16.67it/s]\n"
     ]
    },
    {
     "name": "stdout",
     "output_type": "stream",
     "text": [
      "[ Train    40/50 ] loss: 0.3634, accuracy: [ 83.0030% ]\n",
      "[ Gt         40/50 ], accuracy: [ 72.1120% ]\n",
      "------------------------------------------------------------------------------------------------------------------------------------------------------\n",
      "Epoch 00040: reducing learning rate of group 0 to 5.1200e-04.\n"
     ]
    },
    {
     "name": "stderr",
     "output_type": "stream",
     "text": [
      "100%|██████████| 104/104 [00:06<00:00, 16.53it/s]\n"
     ]
    },
    {
     "name": "stdout",
     "output_type": "stream",
     "text": [
      "[ Train    41/50 ] loss: 0.3595, accuracy: [ 83.1732% ]\n",
      "[ Gt         41/50 ], accuracy: [ 72.4898% ]\n",
      "------------------------------------------------------------------------------------------------------------------------------------------------------\n"
     ]
    },
    {
     "name": "stderr",
     "output_type": "stream",
     "text": [
      "100%|██████████| 104/104 [00:06<00:00, 16.94it/s]\n"
     ]
    },
    {
     "name": "stdout",
     "output_type": "stream",
     "text": [
      "[ Train    42/50 ] loss: 0.3551, accuracy: [ 83.3156% ]\n",
      "[ Gt         42/50 ], accuracy: [ 72.2385% ]\n",
      "------------------------------------------------------------------------------------------------------------------------------------------------------\n"
     ]
    },
    {
     "name": "stderr",
     "output_type": "stream",
     "text": [
      "100%|██████████| 104/104 [00:06<00:00, 16.31it/s]\n"
     ]
    },
    {
     "name": "stdout",
     "output_type": "stream",
     "text": [
      "[ Train    43/50 ] loss: 0.3524, accuracy: [ 83.4023% ]\n",
      "[ Gt         43/50 ], accuracy: [ 72.5488% ]\n",
      "------------------------------------------------------------------------------------------------------------------------------------------------------\n"
     ]
    },
    {
     "name": "stderr",
     "output_type": "stream",
     "text": [
      "100%|██████████| 104/104 [00:06<00:00, 16.60it/s]\n"
     ]
    },
    {
     "name": "stdout",
     "output_type": "stream",
     "text": [
      "[ Train    44/50 ] loss: 0.3673, accuracy: [ 82.2989% ]\n",
      "[ Gt         44/50 ], accuracy: [ 72.7276% ]\n",
      "------------------------------------------------------------------------------------------------------------------------------------------------------\n"
     ]
    },
    {
     "name": "stderr",
     "output_type": "stream",
     "text": [
      "100%|██████████| 104/104 [00:06<00:00, 16.42it/s]\n"
     ]
    },
    {
     "name": "stdout",
     "output_type": "stream",
     "text": [
      "[ Train    45/50 ] loss: 0.3433, accuracy: [ 83.9022% ]\n",
      "[ Gt         45/50 ], accuracy: [ 73.0210% ]\n",
      "------------------------------------------------------------------------------------------------------------------------------------------------------\n"
     ]
    },
    {
     "name": "stderr",
     "output_type": "stream",
     "text": [
      "100%|██████████| 104/104 [00:06<00:00, 16.53it/s]\n"
     ]
    },
    {
     "name": "stdout",
     "output_type": "stream",
     "text": [
      "[ Train    46/50 ] loss: 0.3388, accuracy: [ 84.1423% ]\n",
      "[ Gt         46/50 ], accuracy: [ 72.2301% ]\n",
      "------------------------------------------------------------------------------------------------------------------------------------------------------\n",
      "Epoch 00046: reducing learning rate of group 0 to 4.0960e-04.\n"
     ]
    },
    {
     "name": "stderr",
     "output_type": "stream",
     "text": [
      "100%|██████████| 104/104 [00:06<00:00, 16.07it/s]\n"
     ]
    },
    {
     "name": "stdout",
     "output_type": "stream",
     "text": [
      "[ Train    47/50 ] loss: 0.3346, accuracy: [ 84.3204% ]\n",
      "[ Gt         47/50 ], accuracy: [ 74.6669% ]\n",
      "------------------------------------------------------------------------------------------------------------------------------------------------------\n"
     ]
    },
    {
     "name": "stderr",
     "output_type": "stream",
     "text": [
      "100%|██████████| 104/104 [00:06<00:00, 17.02it/s]\n"
     ]
    },
    {
     "name": "stdout",
     "output_type": "stream",
     "text": [
      "[ Train    48/50 ] loss: 0.3311, accuracy: [ 84.4450% ]\n",
      "[ Gt         48/50 ], accuracy: [ 73.7428% ]\n",
      "------------------------------------------------------------------------------------------------------------------------------------------------------\n"
     ]
    },
    {
     "name": "stderr",
     "output_type": "stream",
     "text": [
      "100%|██████████| 104/104 [00:06<00:00, 16.64it/s]\n"
     ]
    },
    {
     "name": "stdout",
     "output_type": "stream",
     "text": [
      "[ Train    49/50 ] loss: 0.3313, accuracy: [ 84.4227% ]\n",
      "[ Gt         49/50 ], accuracy: [ 73.2487% ]\n",
      "------------------------------------------------------------------------------------------------------------------------------------------------------\n"
     ]
    },
    {
     "name": "stderr",
     "output_type": "stream",
     "text": [
      "100%|██████████| 104/104 [00:05<00:00, 17.51it/s]\n"
     ]
    },
    {
     "name": "stdout",
     "output_type": "stream",
     "text": [
      "[ Train    50/50 ] loss: 0.3287, accuracy: [ 84.5666% ]\n",
      "[ Gt         50/50 ], accuracy: [ 73.6146% ]\n",
      "------------------------------------------------------------------------------------------------------------------------------------------------------\n"
     ]
    }
   ],
   "source": [
    "for epoch in range(num_epochs):\n",
    "    train_loss = 0\n",
    "    train_corrects = 0\n",
    "\n",
    "    model.train()\n",
    "    for inputs, labels in tqdm(train_loader):\n",
    "        optimizer.zero_grad()\n",
    "\n",
    "        outputs = model(inputs)\n",
    "\n",
    "        loss = criterion(outputs, labels)\n",
    "        loss.backward()\n",
    "        optimizer.step()\n",
    "\n",
    "        train_loss += loss.item()\n",
    "        _, preds = torch.max(outputs, 1)\n",
    "        train_corrects += torch.sum(preds == labels).item()\n",
    "\n",
    "    train_loss /= len(train_loader)\n",
    "    train_acc = train_corrects / len(train_set) * 100\n",
    "    print(f\"[ Train    {epoch + 1}/{num_epochs} ] loss: {train_loss:.4f}, accuracy: [ {train_acc:<7.4f}% ]\")\n",
    "\n",
    "    test_corrects = 0\n",
    "\n",
    "    model.eval()\n",
    "    with torch.no_grad():\n",
    "        for inputs, labels in test_loader:\n",
    "            outputs = model(inputs)\n",
    "\n",
    "            _, preds = torch.max(outputs, 1)\n",
    "            test_corrects += torch.sum(preds == labels).item()\n",
    "\n",
    "    test_acc = test_corrects / len(test_set) * 100\n",
    "    print(f\"[ Gt         {epoch + 1}/{num_epochs} ], accuracy: [ {test_acc:<7.4f}% ]\")\n",
    "\n",
    "    print(\"-\" * 150)\n",
    "\n",
    "    scheduler.step(test_acc)"
   ],
   "metadata": {
    "collapsed": false,
    "ExecuteTime": {
     "end_time": "2023-12-15T03:11:14.091453Z",
     "start_time": "2023-12-15T03:05:38.073316Z"
    }
   }
  },
  {
   "cell_type": "code",
   "execution_count": 31,
   "outputs": [],
   "source": [
    "# torch.save(model.state_dict(), f\"../microservices/DataManager/weights/binary/lstm.pth\")"
   ],
   "metadata": {
    "collapsed": false,
    "ExecuteTime": {
     "end_time": "2023-12-15T03:11:56.487271Z",
     "start_time": "2023-12-15T03:11:56.470572Z"
    }
   }
  }
 ],
 "metadata": {
  "kernelspec": {
   "display_name": "Python 3",
   "language": "python",
   "name": "python3"
  },
  "language_info": {
   "codemirror_mode": {
    "name": "ipython",
    "version": 2
   },
   "file_extension": ".py",
   "mimetype": "text/x-python",
   "name": "python",
   "nbconvert_exporter": "python",
   "pygments_lexer": "ipython2",
   "version": "2.7.6"
  }
 },
 "nbformat": 4,
 "nbformat_minor": 0
}
