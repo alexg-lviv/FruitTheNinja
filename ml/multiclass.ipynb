{
 "cells": [
  {
   "cell_type": "code",
   "execution_count": 1,
   "metadata": {
    "collapsed": true,
    "ExecuteTime": {
     "end_time": "2023-12-15T03:00:51.655990Z",
     "start_time": "2023-12-15T03:00:49.494014Z"
    }
   },
   "outputs": [],
   "source": [
    "import numpy as np\n",
    "import pandas as pd\n",
    "import itertools\n",
    "import random\n",
    "from tqdm import tqdm\n",
    "from ast import literal_eval\n",
    "import time\n",
    "\n",
    "from sklearn.multiclass import OneVsRestClassifier\n",
    "from sklearn.discriminant_analysis import QuadraticDiscriminantAnalysis\n",
    "from sklearn.ensemble import AdaBoostClassifier, RandomForestClassifier\n",
    "from sklearn.gaussian_process import GaussianProcessClassifier\n",
    "from sklearn.gaussian_process.kernels import RBF\n",
    "from sklearn.inspection import DecisionBoundaryDisplay\n",
    "from sklearn.model_selection import train_test_split\n",
    "from sklearn.naive_bayes import GaussianNB\n",
    "from sklearn.neighbors import KNeighborsClassifier\n",
    "from sklearn.neural_network import MLPClassifier\n",
    "from sklearn.pipeline import make_pipeline\n",
    "from sklearn.preprocessing import StandardScaler\n",
    "from sklearn.svm import SVC\n",
    "from sklearn.tree import DecisionTreeClassifier\n",
    "\n",
    "import torch\n",
    "import torch.nn as nn\n",
    "import torch.optim as optim\n",
    "from torch.utils.data import TensorDataset, DataLoader\n",
    "from torch.autograd import Variable\n",
    "device = torch.device(\"cpu\")\n",
    "\n",
    "# import pickle\n",
    "import joblib\n",
    "\n",
    "import matplotlib.pyplot as plt"
   ]
  },
  {
   "cell_type": "code",
   "execution_count": 2,
   "outputs": [],
   "source": [
    "config_dict = {\n",
    "    0: \"fair\",\n",
    "    1: \"cheat-1_no-cooldown\",\n",
    "    2: \"cheat-2_no-dash\",\n",
    "    3: \"cheat-3_inf-slowmo\",\n",
    "    4: \"cheat-4_huge-damage\",\n",
    "    5: \"cheat-5_frozen-ninja\",\n",
    "}"
   ],
   "metadata": {
    "collapsed": false,
    "ExecuteTime": {
     "end_time": "2023-12-15T03:00:51.659002Z",
     "start_time": "2023-12-15T03:00:51.657033Z"
    }
   }
  },
  {
   "cell_type": "code",
   "execution_count": 3,
   "outputs": [],
   "source": [
    "def preprocess_gt_csv(data_name):\n",
    "    filename = f\"train_data/gt/{data_name}.csv\"\n",
    "\n",
    "    columns_to_eval = [\n",
    "        \"global_mouse_position\",\n",
    "        \"button_cooldown_times\",\n",
    "        \"logical_frames_since_last_button_press\",\n",
    "        \"global_position\",\n",
    "        \"velocity\",\n",
    "        \"fruits_cut_this_frame_list\",\n",
    "        \"fruits_hit_ninjas_ass_this_frame_list\",\n",
    "        \"fruits_on_screen_this_frame_list\",\n",
    "        \"fruits_spawned_this_frame_list\",\n",
    "        \"stupid_fucking_fruits_that_died_this_frame_list\",\n",
    "    ]\n",
    "\n",
    "    df = pd.read_csv(filename, converters={column: literal_eval for column in columns_to_eval})\n",
    "\n",
    "    df[\"fruits_spawned_num\"] = df[\"fruits_spawned_this_frame_list\"].str.len()\n",
    "    df[\"fruits_on_screen_num\"] = df[\"fruits_on_screen_this_frame_list\"].str.len()\n",
    "    df[\"fruits_hit_num\"] = df[\"fruits_hit_ninjas_ass_this_frame_list\"].str.len()\n",
    "    df[\"fruits_missed_num\"] = df[\"stupid_fucking_fruits_that_died_this_frame_list\"].str.len()\n",
    "\n",
    "    projectiles = [\"Apple\", \"Banana\", \"Grape\", \"Pineapple\", \"Watermelon\", \"Coconut\", \"Cherry\"]\n",
    "\n",
    "    df[\"fruit_name_spawned\"] = df[\"fruits_spawned_this_frame_list\"].apply(lambda x: projectiles.index(x[0][\"name\"]) if len(x) != 0 else -1)\n",
    "\n",
    "    for butt in [\"b1\", \"b2\", \"b3\", \"b4\"]:\n",
    "        df[butt] = df[\"button_cooldown_times\"].apply(lambda j: j[butt])\n",
    "\n",
    "    general_needed = [\n",
    "        \"cheat_flag\",\n",
    "        \"frame_count\",\n",
    "        \"session_id\",\n",
    "        \"score\",\n",
    "        \"combo\",\n",
    "        \"is_combo_going\",\n",
    "        \"time_left_seconds\",\n",
    "        \"can_dash\",\n",
    "    ]\n",
    "    buttons_needed = [\n",
    "        \"b1\", \"b2\", \"b3\", \"b4\",\n",
    "    ]\n",
    "\n",
    "    df = df[general_needed + buttons_needed]\n",
    "    df[general_needed] = df[general_needed].astype(int)\n",
    "\n",
    "    if data_name == \"cheat-4_huge-damage\":  # its too fucking huge\n",
    "        df[\"score\"] *= 0.0001\n",
    "\n",
    "    return df"
   ],
   "metadata": {
    "collapsed": false,
    "ExecuteTime": {
     "end_time": "2023-12-15T03:00:51.663917Z",
     "start_time": "2023-12-15T03:00:51.659228Z"
    }
   }
  },
  {
   "cell_type": "code",
   "execution_count": 4,
   "outputs": [],
   "source": [
    "def preprocess_synthetic_csv(data_name):\n",
    "    filename = f\"train_data/synthetic/{data_name}_50-games.csv\"\n",
    "    df = pd.read_csv(filename).drop([\"Unnamed: 0\"], axis=1)\n",
    "    return df"
   ],
   "metadata": {
    "collapsed": false,
    "ExecuteTime": {
     "end_time": "2023-12-15T03:00:51.665710Z",
     "start_time": "2023-12-15T03:00:51.664368Z"
    }
   }
  },
  {
   "cell_type": "code",
   "execution_count": 5,
   "outputs": [
    {
     "data": {
      "text/plain": "((1979694, 10), (1979694,))"
     },
     "execution_count": 5,
     "metadata": {},
     "output_type": "execute_result"
    }
   ],
   "source": [
    "synthetic_data = pd.concat([preprocess_synthetic_csv(data_name) for data_name in config_dict.values()])\n",
    "\n",
    "X_synthetic = synthetic_data.drop([\"cheat_flag\", \"session_id\"], axis=1)\n",
    "y_synthetic = synthetic_data[\"cheat_flag\"]\n",
    "\n",
    "X_synthetic.shape, y_synthetic.shape"
   ],
   "metadata": {
    "collapsed": false,
    "ExecuteTime": {
     "end_time": "2023-12-15T03:00:53.158083Z",
     "start_time": "2023-12-15T03:00:51.667917Z"
    }
   }
  },
  {
   "cell_type": "code",
   "execution_count": 6,
   "outputs": [
    {
     "data": {
      "text/plain": "((173006, 10), (173006,))"
     },
     "execution_count": 6,
     "metadata": {},
     "output_type": "execute_result"
    }
   ],
   "source": [
    "gt_data = pd.concat([preprocess_gt_csv(data_name) for data_name in config_dict.values()])\n",
    "\n",
    "X_gt = gt_data.drop([\"cheat_flag\", \"session_id\"], axis=1)\n",
    "y_gt = gt_data[\"cheat_flag\"]\n",
    "\n",
    "X_gt.shape, y_gt.shape"
   ],
   "metadata": {
    "collapsed": false,
    "ExecuteTime": {
     "end_time": "2023-12-15T03:01:09.440667Z",
     "start_time": "2023-12-15T03:00:53.158655Z"
    }
   }
  },
  {
   "cell_type": "code",
   "execution_count": 7,
   "outputs": [
    {
     "data": {
      "text/plain": "((2022945, 10),\n torch.Size([2022945, 6]),\n (129755, 10),\n torch.Size([129755, 6]))"
     },
     "execution_count": 7,
     "metadata": {},
     "output_type": "execute_result"
    }
   ],
   "source": [
    "mix_num = len(X_gt) // 4\n",
    "\n",
    "gt_idx = np.random.choice(len(X_gt), replace=False, size=mix_num)\n",
    "\n",
    "gt_rest = [i for i in np.arange(len(X_gt)) if i not in gt_idx]\n",
    "\n",
    "X_train_mixed = pd.concat([X_synthetic, X_gt.iloc[gt_idx]])\n",
    "y_train_mixed = pd.concat([y_synthetic, y_gt.iloc[gt_idx]])\n",
    "\n",
    "X_test = X_gt.iloc[gt_rest]\n",
    "y_test = y_gt.iloc[gt_rest]\n",
    "\n",
    "y_train_mixed = nn.functional.one_hot(torch.tensor(y_train_mixed.to_numpy()), len(config_dict))\n",
    "y_test = nn.functional.one_hot(torch.tensor(y_test.to_numpy()), len(config_dict))\n",
    "\n",
    "X_train_mixed.shape, y_train_mixed.shape, X_test.shape, y_test.shape"
   ],
   "metadata": {
    "collapsed": false,
    "ExecuteTime": {
     "end_time": "2023-12-15T03:01:10.954595Z",
     "start_time": "2023-12-15T03:01:09.443049Z"
    }
   }
  },
  {
   "cell_type": "code",
   "execution_count": 8,
   "outputs": [],
   "source": [
    "# X_train, X_val, y_train, y_val = train_test_split(\n",
    "#     X_train_mixed, y_train_mixed, test_size=0.4, random_state=42, shuffle=True\n",
    "# )\n",
    "# X_train.shape, X_val.shape, y_train.shape, y_val.shape"
   ],
   "metadata": {
    "collapsed": false,
    "ExecuteTime": {
     "end_time": "2023-12-15T03:01:10.954777Z",
     "start_time": "2023-12-15T03:01:10.952957Z"
    }
   }
  },
  {
   "cell_type": "code",
   "execution_count": 24,
   "outputs": [],
   "source": [
    "train_set = TensorDataset(\n",
    "    torch.FloatTensor(X_train_mixed.to_numpy()).unsqueeze(1),\n",
    "    y_train_mixed,\n",
    ")\n",
    "train_loader = DataLoader(train_set, batch_size=6_000, shuffle=True)\n",
    "\n",
    "test_set = TensorDataset(\n",
    "    torch.FloatTensor(X_test.to_numpy()).unsqueeze(1),\n",
    "    y_test,\n",
    ")\n",
    "test_loader = DataLoader(test_set, batch_size=6_000, shuffle=True)"
   ],
   "metadata": {
    "collapsed": false,
    "ExecuteTime": {
     "end_time": "2023-12-15T06:56:41.649131Z",
     "start_time": "2023-12-15T06:56:41.467389Z"
    }
   }
  },
  {
   "cell_type": "code",
   "execution_count": 27,
   "outputs": [],
   "source": [
    "from sklearn.multiclass import OneVsRestClassifier, OneVsOneClassifier\n",
    "\n",
    "names = [\n",
    "    \"Nearest Neighbors\",\n",
    "    \"SVC\",\n",
    "    \"Decision Tree\",\n",
    "    \"Random Forest\",\n",
    "    \"MLP\",\n",
    "    \"Gaussian Naive Bayes\",\n",
    "]\n",
    "\n",
    "classifiers = [\n",
    "    KNeighborsClassifier(),\n",
    "    SVC(),\n",
    "    DecisionTreeClassifier(random_state=42),\n",
    "    RandomForestClassifier(random_state=42),\n",
    "    MLPClassifier(max_iter=1000, random_state=42),\n",
    "    GaussianNB(),\n",
    "]"
   ],
   "metadata": {
    "collapsed": false,
    "ExecuteTime": {
     "end_time": "2023-12-15T08:05:42.418425Z",
     "start_time": "2023-12-15T08:05:42.387281Z"
    }
   }
  },
  {
   "cell_type": "code",
   "execution_count": 96,
   "outputs": [
    {
     "name": "stdout",
     "output_type": "stream",
     "text": [
      "Nearest Neighbors model:\n"
     ]
    },
    {
     "name": "stderr",
     "output_type": "stream",
     "text": [
      "100%|██████████| 338/338 [00:50<00:00,  6.63it/s]\n",
      "100%|██████████| 22/22 [00:02<00:00, 10.76it/s]\n"
     ]
    },
    {
     "name": "stdout",
     "output_type": "stream",
     "text": [
      "Saved model.\n",
      "Train time: 51.0 sec,  Train score: 0.693,  Gt score: [ 0.329 ]\n",
      "------------------------------------------------------------------------------------------------------------------------------------------------------\n",
      "SVC model:\n"
     ]
    },
    {
     "name": "stderr",
     "output_type": "stream",
     "text": [
      "100%|██████████| 338/338 [20:23<00:00,  3.62s/it]\n",
      "100%|██████████| 22/22 [00:08<00:00,  2.51it/s]\n"
     ]
    },
    {
     "name": "stdout",
     "output_type": "stream",
     "text": [
      "Saved model.\n",
      "Train time: 1223.8 sec,  Train score: 0.359,  Gt score: [ 0.252 ]\n",
      "------------------------------------------------------------------------------------------------------------------------------------------------------\n",
      "Decision Tree model:\n"
     ]
    },
    {
     "name": "stderr",
     "output_type": "stream",
     "text": [
      "100%|██████████| 338/338 [01:02<00:00,  5.37it/s]\n",
      "100%|██████████| 22/22 [00:00<00:00, 27.09it/s]\n"
     ]
    },
    {
     "name": "stdout",
     "output_type": "stream",
     "text": [
      "Saved model.\n",
      "Train time: 62.9 sec,  Train score: 1.000,  Gt score: [ 0.426 ]\n",
      "------------------------------------------------------------------------------------------------------------------------------------------------------\n",
      "Random Forest model:\n"
     ]
    },
    {
     "name": "stderr",
     "output_type": "stream",
     "text": [
      "100%|██████████| 338/338 [24:10<00:00,  4.29s/it]\n",
      "100%|██████████| 22/22 [00:04<00:00,  4.67it/s]\n"
     ]
    },
    {
     "name": "stdout",
     "output_type": "stream",
     "text": [
      "Saved model.\n",
      "Train time: 1450.3 sec,  Train score: 1.000,  Gt score: [ 0.438 ]\n",
      "------------------------------------------------------------------------------------------------------------------------------------------------------\n",
      "MLP model:\n"
     ]
    },
    {
     "name": "stderr",
     "output_type": "stream",
     "text": [
      "100%|██████████| 338/338 [12:44<00:00,  2.26s/it]\n",
      "100%|██████████| 22/22 [00:01<00:00, 17.58it/s]\n"
     ]
    },
    {
     "name": "stdout",
     "output_type": "stream",
     "text": [
      "Saved model.\n",
      "Train time: 764.9 sec,  Train score: 0.485,  Gt score: [ 0.343 ]\n",
      "------------------------------------------------------------------------------------------------------------------------------------------------------\n",
      "Gaussian Naive Bayes model:\n"
     ]
    },
    {
     "name": "stderr",
     "output_type": "stream",
     "text": [
      "100%|██████████| 338/338 [00:18<00:00, 18.28it/s]\n",
      "100%|██████████| 22/22 [00:00<00:00, 25.76it/s]"
     ]
    },
    {
     "name": "stdout",
     "output_type": "stream",
     "text": [
      "Saved model.\n",
      "Train time: 18.5 sec,  Train score: 0.340,  Gt score: [ 0.379 ]\n",
      "------------------------------------------------------------------------------------------------------------------------------------------------------\n"
     ]
    },
    {
     "name": "stderr",
     "output_type": "stream",
     "text": [
      "\n"
     ]
    }
   ],
   "source": [
    "for name, clf in zip(names, classifiers):\n",
    "    print(f\"{name} model:\")\n",
    "    clf = OneVsRestClassifier(clf)\n",
    "\n",
    "    train_acc = 0\n",
    "    start = time.time()\n",
    "\n",
    "    for X, y in tqdm(train_loader):\n",
    "        clf.fit(X.numpy().squeeze(), y.numpy())\n",
    "        train_acc += clf.score(X.numpy().squeeze(), y.numpy())\n",
    "\n",
    "    end = time.time()\n",
    "    train_acc /= len(train_loader)\n",
    "\n",
    "    test_acc = 0\n",
    "    for X, y in tqdm(test_loader):\n",
    "        test_acc += clf.score(X.numpy().squeeze(), y.numpy())\n",
    "    test_acc /= len(test_loader)\n",
    "\n",
    "    snake_case_name = \"_\".join(name.lower().split(\" \"))\n",
    "    joblib.dump(clf, f\"../microservices/DataManager/weights/multiclass/ovr/{snake_case_name}.joblib\")\n",
    "    print(f\"Saved model.\")\n",
    "\n",
    "    print(f\"Train time: {(end - start):.1f} sec,  Train score: {train_acc:.3f},  Gt score: [ {test_acc:.3f} ]\")\n",
    "    print(\"-\" * 150)"
   ],
   "metadata": {
    "collapsed": false,
    "ExecuteTime": {
     "end_time": "2023-12-15T03:00:18.044568Z",
     "start_time": "2023-12-15T02:00:28.059031Z"
    }
   }
  },
  {
   "cell_type": "code",
   "execution_count": 28,
   "outputs": [
    {
     "name": "stdout",
     "output_type": "stream",
     "text": [
      "Nearest Neighbors model:\n"
     ]
    },
    {
     "name": "stderr",
     "output_type": "stream",
     "text": [
      "100%|██████████| 338/338 [09:11<00:00,  1.63s/it]\n",
      "100%|██████████| 22/22 [00:30<00:00,  1.40s/it]\n"
     ]
    },
    {
     "name": "stdout",
     "output_type": "stream",
     "text": [
      "Saved model.\n",
      "Train time: 551.5 sec,  Train score: 0.753,  Gt score: [ 0.383 ]\n",
      "------------------------------------------------------------------------------------------------------------------------------------------------------\n",
      "SVC model:\n"
     ]
    },
    {
     "name": "stderr",
     "output_type": "stream",
     "text": [
      "100%|██████████| 338/338 [34:43<00:00,  6.17s/it]\n",
      "100%|██████████| 22/22 [00:24<00:00,  1.12s/it]\n"
     ]
    },
    {
     "name": "stdout",
     "output_type": "stream",
     "text": [
      "Saved model.\n",
      "Train time: 2083.8 sec,  Train score: 0.600,  Gt score: [ 0.360 ]\n",
      "------------------------------------------------------------------------------------------------------------------------------------------------------\n",
      "Decision Tree model:\n"
     ]
    },
    {
     "name": "stderr",
     "output_type": "stream",
     "text": [
      "100%|██████████| 338/338 [00:44<00:00,  7.57it/s]\n",
      "100%|██████████| 22/22 [00:00<00:00, 23.22it/s]\n"
     ]
    },
    {
     "name": "stdout",
     "output_type": "stream",
     "text": [
      "Saved model.\n",
      "Train time: 44.6 sec,  Train score: 1.000,  Gt score: [ 0.546 ]\n",
      "------------------------------------------------------------------------------------------------------------------------------------------------------\n",
      "Random Forest model:\n"
     ]
    },
    {
     "name": "stderr",
     "output_type": "stream",
     "text": [
      "100%|██████████| 338/338 [21:27<00:00,  3.81s/it]\n",
      "100%|██████████| 22/22 [00:16<00:00,  1.30it/s]\n"
     ]
    },
    {
     "name": "stdout",
     "output_type": "stream",
     "text": [
      "Saved model.\n",
      "Train time: 1287.7 sec,  Train score: 1.000,  Gt score: [ 0.558 ]\n",
      "------------------------------------------------------------------------------------------------------------------------------------------------------\n",
      "MLP model:\n"
     ]
    },
    {
     "name": "stderr",
     "output_type": "stream",
     "text": [
      "100%|██████████| 338/338 [19:19<00:00,  3.43s/it]\n",
      "100%|██████████| 22/22 [00:05<00:00,  3.73it/s]\n"
     ]
    },
    {
     "name": "stdout",
     "output_type": "stream",
     "text": [
      "Saved model.\n",
      "Train time: 1159.9 sec,  Train score: 0.642,  Gt score: [ 0.293 ]\n",
      "------------------------------------------------------------------------------------------------------------------------------------------------------\n",
      "Gaussian Naive Bayes model:\n"
     ]
    },
    {
     "name": "stderr",
     "output_type": "stream",
     "text": [
      "100%|██████████| 338/338 [00:23<00:00, 14.53it/s]\n",
      "100%|██████████| 22/22 [00:01<00:00, 17.59it/s]"
     ]
    },
    {
     "name": "stdout",
     "output_type": "stream",
     "text": [
      "Saved model.\n",
      "Train time: 23.3 sec,  Train score: 0.577,  Gt score: [ 0.495 ]\n",
      "------------------------------------------------------------------------------------------------------------------------------------------------------\n"
     ]
    },
    {
     "name": "stderr",
     "output_type": "stream",
     "text": [
      "\n"
     ]
    }
   ],
   "source": [
    "for name, clf in zip(names, classifiers):\n",
    "    print(f\"{name} model:\")\n",
    "    clf = OneVsOneClassifier(clf)\n",
    "\n",
    "    train_acc = 0\n",
    "    start = time.time()\n",
    "\n",
    "    for X, y in tqdm(train_loader):\n",
    "        y = torch.argmax(y, dim=1)\n",
    "        clf.fit(X.numpy().squeeze(), y.numpy())\n",
    "        train_acc += clf.score(X.numpy().squeeze(), y.numpy())\n",
    "\n",
    "    end = time.time()\n",
    "    train_acc /= len(train_loader)\n",
    "\n",
    "    test_acc = 0\n",
    "    for X, y in tqdm(test_loader):\n",
    "        y = torch.argmax(y, dim=1)\n",
    "        test_acc += clf.score(X.numpy().squeeze(), y.numpy())\n",
    "    test_acc /= len(test_loader)\n",
    "\n",
    "    snake_case_name = \"_\".join(name.lower().split(\" \"))\n",
    "    joblib.dump(clf, f\"../microservices/DataManager/weights/multiclass/ovo/{snake_case_name}.joblib\")\n",
    "    print(f\"Saved model.\")\n",
    "\n",
    "    print(f\"Train time: {(end - start):.1f} sec,  Train score: {train_acc:.3f},  Gt score: [ {test_acc:.3f} ]\")\n",
    "    print(\"-\" * 150)"
   ],
   "metadata": {
    "collapsed": false,
    "ExecuteTime": {
     "end_time": "2023-12-15T09:33:00.471569Z",
     "start_time": "2023-12-15T08:05:48.716368Z"
    }
   }
  },
  {
   "cell_type": "code",
   "execution_count": 13,
   "outputs": [],
   "source": [
    "input_size = 10\n",
    "hidden_size = 50\n",
    "output_size = len(config_dict)\n",
    "num_layers = 1\n",
    "\n",
    "learning_rate = 0.001\n",
    "num_epochs = 50"
   ],
   "metadata": {
    "collapsed": false,
    "ExecuteTime": {
     "end_time": "2023-12-15T03:05:53.829982Z",
     "start_time": "2023-12-15T03:05:53.807152Z"
    }
   }
  },
  {
   "cell_type": "code",
   "execution_count": 18,
   "outputs": [
    {
     "name": "stderr",
     "output_type": "stream",
     "text": [
      "/Users/alorthius/anaconda3/envs/big_data/lib/python3.10/site-packages/torch/nn/modules/rnn.py:82: UserWarning: dropout option adds dropout after all but last recurrent layer, so non-zero dropout expects num_layers greater than 1, but got dropout=0.5 and num_layers=1\n",
      "  warnings.warn(\"dropout option adds dropout after all but last \"\n"
     ]
    }
   ],
   "source": [
    "from microservices.DataManager.models.lstm import LSTMModel, LSTM2\n",
    "\n",
    "model = LSTM2(input_size, hidden_size, output_size, num_layers)\n",
    "criterion = nn.CrossEntropyLoss()\n",
    "optimizer = optim.Adam(model.parameters(), lr=0.001, weight_decay=1e-5)\n",
    "scheduler = optim.lr_scheduler.ReduceLROnPlateau(optimizer, mode=\"max\", patience=2, threshold=1, factor=0.8, threshold_mode=\"abs\", min_lr=0.000005, verbose=True)\n"
   ],
   "metadata": {
    "collapsed": false,
    "ExecuteTime": {
     "end_time": "2023-12-15T03:12:27.687550Z",
     "start_time": "2023-12-15T03:12:27.678390Z"
    }
   }
  },
  {
   "cell_type": "code",
   "execution_count": 19,
   "outputs": [
    {
     "name": "stderr",
     "output_type": "stream",
     "text": [
      "100%|██████████| 338/338 [00:20<00:00, 16.75it/s]\n"
     ]
    },
    {
     "name": "stdout",
     "output_type": "stream",
     "text": [
      "[ Train    1/50 ] loss: 1.1252, accuracy: [ 56.6684% ]\n",
      "[ Gt         1/50 ], accuracy: [ 41.8442% ]\n",
      "------------------------------------------------------------------------------------------------------------------------------------------------------\n"
     ]
    },
    {
     "name": "stderr",
     "output_type": "stream",
     "text": [
      "100%|██████████| 338/338 [00:19<00:00, 17.00it/s]\n"
     ]
    },
    {
     "name": "stdout",
     "output_type": "stream",
     "text": [
      "[ Train    2/50 ] loss: 0.8264, accuracy: [ 66.6778% ]\n",
      "[ Gt         2/50 ], accuracy: [ 43.3841% ]\n",
      "------------------------------------------------------------------------------------------------------------------------------------------------------\n"
     ]
    },
    {
     "name": "stderr",
     "output_type": "stream",
     "text": [
      "100%|██████████| 338/338 [00:20<00:00, 16.64it/s]\n"
     ]
    },
    {
     "name": "stdout",
     "output_type": "stream",
     "text": [
      "[ Train    3/50 ] loss: 0.7208, accuracy: [ 71.0567% ]\n",
      "[ Gt         3/50 ], accuracy: [ 51.7375% ]\n",
      "------------------------------------------------------------------------------------------------------------------------------------------------------\n"
     ]
    },
    {
     "name": "stderr",
     "output_type": "stream",
     "text": [
      "100%|██████████| 338/338 [00:20<00:00, 16.46it/s]\n"
     ]
    },
    {
     "name": "stdout",
     "output_type": "stream",
     "text": [
      "[ Train    4/50 ] loss: 0.6022, accuracy: [ 76.0682% ]\n",
      "[ Gt         4/50 ], accuracy: [ 54.4865% ]\n",
      "------------------------------------------------------------------------------------------------------------------------------------------------------\n"
     ]
    },
    {
     "name": "stderr",
     "output_type": "stream",
     "text": [
      "100%|██████████| 338/338 [00:20<00:00, 16.44it/s]\n"
     ]
    },
    {
     "name": "stdout",
     "output_type": "stream",
     "text": [
      "[ Train    5/50 ] loss: 0.5359, accuracy: [ 78.5000% ]\n",
      "[ Gt         5/50 ], accuracy: [ 57.5369% ]\n",
      "------------------------------------------------------------------------------------------------------------------------------------------------------\n"
     ]
    },
    {
     "name": "stderr",
     "output_type": "stream",
     "text": [
      "100%|██████████| 338/338 [00:20<00:00, 16.89it/s]\n"
     ]
    },
    {
     "name": "stdout",
     "output_type": "stream",
     "text": [
      "[ Train    6/50 ] loss: 0.5739, accuracy: [ 77.2114% ]\n",
      "[ Gt         6/50 ], accuracy: [ 55.2672% ]\n",
      "------------------------------------------------------------------------------------------------------------------------------------------------------\n"
     ]
    },
    {
     "name": "stderr",
     "output_type": "stream",
     "text": [
      "100%|██████████| 338/338 [00:19<00:00, 17.08it/s]\n"
     ]
    },
    {
     "name": "stdout",
     "output_type": "stream",
     "text": [
      "[ Train    7/50 ] loss: 0.5514, accuracy: [ 77.8196% ]\n",
      "[ Gt         7/50 ], accuracy: [ 55.8476% ]\n",
      "------------------------------------------------------------------------------------------------------------------------------------------------------\n"
     ]
    },
    {
     "name": "stderr",
     "output_type": "stream",
     "text": [
      "100%|██████████| 338/338 [00:19<00:00, 17.02it/s]\n"
     ]
    },
    {
     "name": "stdout",
     "output_type": "stream",
     "text": [
      "[ Train    8/50 ] loss: 0.5217, accuracy: [ 78.7621% ]\n",
      "[ Gt         8/50 ], accuracy: [ 54.7216% ]\n",
      "------------------------------------------------------------------------------------------------------------------------------------------------------\n",
      "Epoch 00008: reducing learning rate of group 0 to 8.0000e-04.\n"
     ]
    },
    {
     "name": "stderr",
     "output_type": "stream",
     "text": [
      "100%|██████████| 338/338 [00:19<00:00, 17.08it/s]\n"
     ]
    },
    {
     "name": "stdout",
     "output_type": "stream",
     "text": [
      "[ Train    9/50 ] loss: 0.4896, accuracy: [ 79.9237% ]\n",
      "[ Gt         9/50 ], accuracy: [ 60.6528% ]\n",
      "------------------------------------------------------------------------------------------------------------------------------------------------------\n"
     ]
    },
    {
     "name": "stderr",
     "output_type": "stream",
     "text": [
      "100%|██████████| 338/338 [00:20<00:00, 16.78it/s]\n"
     ]
    },
    {
     "name": "stdout",
     "output_type": "stream",
     "text": [
      "[ Train    10/50 ] loss: 0.4733, accuracy: [ 80.4475% ]\n",
      "[ Gt         10/50 ], accuracy: [ 54.8318% ]\n",
      "------------------------------------------------------------------------------------------------------------------------------------------------------\n"
     ]
    },
    {
     "name": "stderr",
     "output_type": "stream",
     "text": [
      "100%|██████████| 338/338 [00:20<00:00, 16.90it/s]\n"
     ]
    },
    {
     "name": "stdout",
     "output_type": "stream",
     "text": [
      "[ Train    11/50 ] loss: 0.4714, accuracy: [ 80.5950% ]\n",
      "[ Gt         11/50 ], accuracy: [ 56.7570% ]\n",
      "------------------------------------------------------------------------------------------------------------------------------------------------------\n"
     ]
    },
    {
     "name": "stderr",
     "output_type": "stream",
     "text": [
      "100%|██████████| 338/338 [00:19<00:00, 17.09it/s]\n"
     ]
    },
    {
     "name": "stdout",
     "output_type": "stream",
     "text": [
      "[ Train    12/50 ] loss: 0.4544, accuracy: [ 81.3249% ]\n",
      "[ Gt         12/50 ], accuracy: [ 62.1764% ]\n",
      "------------------------------------------------------------------------------------------------------------------------------------------------------\n"
     ]
    },
    {
     "name": "stderr",
     "output_type": "stream",
     "text": [
      "100%|██████████| 338/338 [00:19<00:00, 16.92it/s]\n"
     ]
    },
    {
     "name": "stdout",
     "output_type": "stream",
     "text": [
      "[ Train    13/50 ] loss: 0.4479, accuracy: [ 81.5236% ]\n",
      "[ Gt         13/50 ], accuracy: [ 57.3396% ]\n",
      "------------------------------------------------------------------------------------------------------------------------------------------------------\n"
     ]
    },
    {
     "name": "stderr",
     "output_type": "stream",
     "text": [
      "100%|██████████| 338/338 [00:20<00:00, 16.82it/s]\n"
     ]
    },
    {
     "name": "stdout",
     "output_type": "stream",
     "text": [
      "[ Train    14/50 ] loss: 0.4677, accuracy: [ 81.1151% ]\n",
      "[ Gt         14/50 ], accuracy: [ 57.5246% ]\n",
      "------------------------------------------------------------------------------------------------------------------------------------------------------\n"
     ]
    },
    {
     "name": "stderr",
     "output_type": "stream",
     "text": [
      "100%|██████████| 338/338 [00:20<00:00, 16.84it/s]\n"
     ]
    },
    {
     "name": "stdout",
     "output_type": "stream",
     "text": [
      "[ Train    15/50 ] loss: 0.4497, accuracy: [ 82.0386% ]\n",
      "[ Gt         15/50 ], accuracy: [ 61.4882% ]\n",
      "------------------------------------------------------------------------------------------------------------------------------------------------------\n",
      "Epoch 00015: reducing learning rate of group 0 to 6.4000e-04.\n"
     ]
    },
    {
     "name": "stderr",
     "output_type": "stream",
     "text": [
      "100%|██████████| 338/338 [00:19<00:00, 16.98it/s]\n"
     ]
    },
    {
     "name": "stdout",
     "output_type": "stream",
     "text": [
      "[ Train    16/50 ] loss: 0.4292, accuracy: [ 82.7971% ]\n",
      "[ Gt         16/50 ], accuracy: [ 59.9507% ]\n",
      "------------------------------------------------------------------------------------------------------------------------------------------------------\n"
     ]
    },
    {
     "name": "stderr",
     "output_type": "stream",
     "text": [
      "100%|██████████| 338/338 [00:19<00:00, 17.24it/s]\n"
     ]
    },
    {
     "name": "stdout",
     "output_type": "stream",
     "text": [
      "[ Train    17/50 ] loss: 0.4499, accuracy: [ 82.1132% ]\n",
      "[ Gt         17/50 ], accuracy: [ 58.9603% ]\n",
      "------------------------------------------------------------------------------------------------------------------------------------------------------\n"
     ]
    },
    {
     "name": "stderr",
     "output_type": "stream",
     "text": [
      "100%|██████████| 338/338 [00:20<00:00, 16.81it/s]\n"
     ]
    },
    {
     "name": "stdout",
     "output_type": "stream",
     "text": [
      "[ Train    18/50 ] loss: 0.4685, accuracy: [ 80.6620% ]\n",
      "[ Gt         18/50 ], accuracy: [ 58.8810% ]\n",
      "------------------------------------------------------------------------------------------------------------------------------------------------------\n",
      "Epoch 00018: reducing learning rate of group 0 to 5.1200e-04.\n"
     ]
    },
    {
     "name": "stderr",
     "output_type": "stream",
     "text": [
      "100%|██████████| 338/338 [00:19<00:00, 17.22it/s]\n"
     ]
    },
    {
     "name": "stdout",
     "output_type": "stream",
     "text": [
      "[ Train    19/50 ] loss: 0.4264, accuracy: [ 82.4375% ]\n",
      "[ Gt         19/50 ], accuracy: [ 60.7591% ]\n",
      "------------------------------------------------------------------------------------------------------------------------------------------------------\n"
     ]
    },
    {
     "name": "stderr",
     "output_type": "stream",
     "text": [
      "100%|██████████| 338/338 [00:19<00:00, 17.11it/s]\n"
     ]
    },
    {
     "name": "stdout",
     "output_type": "stream",
     "text": [
      "[ Train    20/50 ] loss: 0.4119, accuracy: [ 83.1355% ]\n",
      "[ Gt         20/50 ], accuracy: [ 60.0385% ]\n",
      "------------------------------------------------------------------------------------------------------------------------------------------------------\n"
     ]
    },
    {
     "name": "stderr",
     "output_type": "stream",
     "text": [
      "100%|██████████| 338/338 [00:19<00:00, 17.14it/s]\n"
     ]
    },
    {
     "name": "stdout",
     "output_type": "stream",
     "text": [
      "[ Train    21/50 ] loss: 0.4011, accuracy: [ 83.5215% ]\n",
      "[ Gt         21/50 ], accuracy: [ 61.2416% ]\n",
      "------------------------------------------------------------------------------------------------------------------------------------------------------\n",
      "Epoch 00021: reducing learning rate of group 0 to 4.0960e-04.\n"
     ]
    },
    {
     "name": "stderr",
     "output_type": "stream",
     "text": [
      "100%|██████████| 338/338 [00:19<00:00, 17.20it/s]\n"
     ]
    },
    {
     "name": "stdout",
     "output_type": "stream",
     "text": [
      "[ Train    22/50 ] loss: 0.3889, accuracy: [ 83.9672% ]\n",
      "[ Gt         22/50 ], accuracy: [ 61.8404% ]\n",
      "------------------------------------------------------------------------------------------------------------------------------------------------------\n"
     ]
    },
    {
     "name": "stderr",
     "output_type": "stream",
     "text": [
      "100%|██████████| 338/338 [00:19<00:00, 17.19it/s]\n"
     ]
    },
    {
     "name": "stdout",
     "output_type": "stream",
     "text": [
      "[ Train    23/50 ] loss: 0.3816, accuracy: [ 84.3438% ]\n",
      "[ Gt         23/50 ], accuracy: [ 61.5606% ]\n",
      "------------------------------------------------------------------------------------------------------------------------------------------------------\n"
     ]
    },
    {
     "name": "stderr",
     "output_type": "stream",
     "text": [
      "100%|██████████| 338/338 [00:19<00:00, 17.24it/s]\n"
     ]
    },
    {
     "name": "stdout",
     "output_type": "stream",
     "text": [
      "[ Train    24/50 ] loss: 0.3744, accuracy: [ 84.6891% ]\n",
      "[ Gt         24/50 ], accuracy: [ 64.3651% ]\n",
      "------------------------------------------------------------------------------------------------------------------------------------------------------\n"
     ]
    },
    {
     "name": "stderr",
     "output_type": "stream",
     "text": [
      "100%|██████████| 338/338 [00:19<00:00, 17.03it/s]\n"
     ]
    },
    {
     "name": "stdout",
     "output_type": "stream",
     "text": [
      "[ Train    25/50 ] loss: 0.3691, accuracy: [ 84.9762% ]\n",
      "[ Gt         25/50 ], accuracy: [ 67.6914% ]\n",
      "------------------------------------------------------------------------------------------------------------------------------------------------------\n"
     ]
    },
    {
     "name": "stderr",
     "output_type": "stream",
     "text": [
      "100%|██████████| 338/338 [00:19<00:00, 17.17it/s]\n"
     ]
    },
    {
     "name": "stdout",
     "output_type": "stream",
     "text": [
      "[ Train    26/50 ] loss: 0.3679, accuracy: [ 84.9676% ]\n",
      "[ Gt         26/50 ], accuracy: [ 64.3073% ]\n",
      "------------------------------------------------------------------------------------------------------------------------------------------------------\n"
     ]
    },
    {
     "name": "stderr",
     "output_type": "stream",
     "text": [
      "100%|██████████| 338/338 [00:19<00:00, 17.30it/s]\n"
     ]
    },
    {
     "name": "stdout",
     "output_type": "stream",
     "text": [
      "[ Train    27/50 ] loss: 0.3602, accuracy: [ 85.3090% ]\n",
      "[ Gt         27/50 ], accuracy: [ 64.4915% ]\n",
      "------------------------------------------------------------------------------------------------------------------------------------------------------\n"
     ]
    },
    {
     "name": "stderr",
     "output_type": "stream",
     "text": [
      "100%|██████████| 338/338 [00:19<00:00, 17.22it/s]\n"
     ]
    },
    {
     "name": "stdout",
     "output_type": "stream",
     "text": [
      "[ Train    28/50 ] loss: 0.4408, accuracy: [ 82.2755% ]\n",
      "[ Gt         28/50 ], accuracy: [ 60.0170% ]\n",
      "------------------------------------------------------------------------------------------------------------------------------------------------------\n",
      "Epoch 00028: reducing learning rate of group 0 to 3.2768e-04.\n"
     ]
    },
    {
     "name": "stderr",
     "output_type": "stream",
     "text": [
      "100%|██████████| 338/338 [00:19<00:00, 17.15it/s]\n"
     ]
    },
    {
     "name": "stdout",
     "output_type": "stream",
     "text": [
      "[ Train    29/50 ] loss: 0.3763, accuracy: [ 84.6985% ]\n",
      "[ Gt         29/50 ], accuracy: [ 66.2996% ]\n",
      "------------------------------------------------------------------------------------------------------------------------------------------------------\n"
     ]
    },
    {
     "name": "stderr",
     "output_type": "stream",
     "text": [
      "100%|██████████| 338/338 [00:19<00:00, 17.23it/s]\n"
     ]
    },
    {
     "name": "stdout",
     "output_type": "stream",
     "text": [
      "[ Train    30/50 ] loss: 0.3650, accuracy: [ 85.3260% ]\n",
      "[ Gt         30/50 ], accuracy: [ 64.4700% ]\n",
      "------------------------------------------------------------------------------------------------------------------------------------------------------\n"
     ]
    },
    {
     "name": "stderr",
     "output_type": "stream",
     "text": [
      "100%|██████████| 338/338 [00:19<00:00, 17.48it/s]\n"
     ]
    },
    {
     "name": "stdout",
     "output_type": "stream",
     "text": [
      "[ Train    31/50 ] loss: 0.3588, accuracy: [ 85.6556% ]\n",
      "[ Gt         31/50 ], accuracy: [ 68.3974% ]\n",
      "------------------------------------------------------------------------------------------------------------------------------------------------------\n",
      "Epoch 00031: reducing learning rate of group 0 to 2.6214e-04.\n"
     ]
    },
    {
     "name": "stderr",
     "output_type": "stream",
     "text": [
      "100%|██████████| 338/338 [00:19<00:00, 17.36it/s]\n"
     ]
    },
    {
     "name": "stdout",
     "output_type": "stream",
     "text": [
      "[ Train    32/50 ] loss: 0.3518, accuracy: [ 85.9470% ]\n",
      "[ Gt         32/50 ], accuracy: [ 68.1939% ]\n",
      "------------------------------------------------------------------------------------------------------------------------------------------------------\n"
     ]
    },
    {
     "name": "stderr",
     "output_type": "stream",
     "text": [
      "100%|██████████| 338/338 [00:19<00:00, 17.01it/s]\n"
     ]
    },
    {
     "name": "stdout",
     "output_type": "stream",
     "text": [
      "[ Train    33/50 ] loss: 0.3487, accuracy: [ 86.0563% ]\n",
      "[ Gt         33/50 ], accuracy: [ 68.8752% ]\n",
      "------------------------------------------------------------------------------------------------------------------------------------------------------\n"
     ]
    },
    {
     "name": "stderr",
     "output_type": "stream",
     "text": [
      "100%|██████████| 338/338 [00:19<00:00, 17.18it/s]\n"
     ]
    },
    {
     "name": "stdout",
     "output_type": "stream",
     "text": [
      "[ Train    34/50 ] loss: 0.3445, accuracy: [ 86.2869% ]\n",
      "[ Gt         34/50 ], accuracy: [ 68.6848% ]\n",
      "------------------------------------------------------------------------------------------------------------------------------------------------------\n"
     ]
    },
    {
     "name": "stderr",
     "output_type": "stream",
     "text": [
      "100%|██████████| 338/338 [00:19<00:00, 17.52it/s]\n"
     ]
    },
    {
     "name": "stdout",
     "output_type": "stream",
     "text": [
      "[ Train    35/50 ] loss: 0.3421, accuracy: [ 86.3300% ]\n",
      "[ Gt         35/50 ], accuracy: [ 69.8732% ]\n",
      "------------------------------------------------------------------------------------------------------------------------------------------------------\n"
     ]
    },
    {
     "name": "stderr",
     "output_type": "stream",
     "text": [
      "100%|██████████| 338/338 [00:19<00:00, 16.93it/s]\n"
     ]
    },
    {
     "name": "stdout",
     "output_type": "stream",
     "text": [
      "[ Train    36/50 ] loss: 0.3378, accuracy: [ 86.5402% ]\n",
      "[ Gt         36/50 ], accuracy: [ 68.5099% ]\n",
      "------------------------------------------------------------------------------------------------------------------------------------------------------\n",
      "Epoch 00036: reducing learning rate of group 0 to 2.0972e-04.\n"
     ]
    },
    {
     "name": "stderr",
     "output_type": "stream",
     "text": [
      "100%|██████████| 338/338 [00:20<00:00, 16.40it/s]\n"
     ]
    },
    {
     "name": "stdout",
     "output_type": "stream",
     "text": [
      "[ Train    37/50 ] loss: 0.3331, accuracy: [ 86.7052% ]\n",
      "[ Gt         37/50 ], accuracy: [ 69.3353% ]\n",
      "------------------------------------------------------------------------------------------------------------------------------------------------------\n"
     ]
    },
    {
     "name": "stderr",
     "output_type": "stream",
     "text": [
      "100%|██████████| 338/338 [00:20<00:00, 16.24it/s]\n"
     ]
    },
    {
     "name": "stdout",
     "output_type": "stream",
     "text": [
      "[ Train    38/50 ] loss: 0.3297, accuracy: [ 86.8507% ]\n",
      "[ Gt         38/50 ], accuracy: [ 68.7388% ]\n",
      "------------------------------------------------------------------------------------------------------------------------------------------------------\n"
     ]
    },
    {
     "name": "stderr",
     "output_type": "stream",
     "text": [
      "100%|██████████| 338/338 [00:20<00:00, 16.17it/s]\n"
     ]
    },
    {
     "name": "stdout",
     "output_type": "stream",
     "text": [
      "[ Train    39/50 ] loss: 0.3270, accuracy: [ 86.9436% ]\n",
      "[ Gt         39/50 ], accuracy: [ 68.6216% ]\n",
      "------------------------------------------------------------------------------------------------------------------------------------------------------\n",
      "Epoch 00039: reducing learning rate of group 0 to 1.6777e-04.\n"
     ]
    },
    {
     "name": "stderr",
     "output_type": "stream",
     "text": [
      "100%|██████████| 338/338 [00:20<00:00, 16.74it/s]\n"
     ]
    },
    {
     "name": "stdout",
     "output_type": "stream",
     "text": [
      "[ Train    40/50 ] loss: 0.3233, accuracy: [ 87.0430% ]\n",
      "[ Gt         40/50 ], accuracy: [ 69.9742% ]\n",
      "------------------------------------------------------------------------------------------------------------------------------------------------------\n"
     ]
    },
    {
     "name": "stderr",
     "output_type": "stream",
     "text": [
      "100%|██████████| 338/338 [00:19<00:00, 17.02it/s]\n"
     ]
    },
    {
     "name": "stdout",
     "output_type": "stream",
     "text": [
      "[ Train    41/50 ] loss: 0.3213, accuracy: [ 87.1296% ]\n",
      "[ Gt         41/50 ], accuracy: [ 71.1387% ]\n",
      "------------------------------------------------------------------------------------------------------------------------------------------------------\n"
     ]
    },
    {
     "name": "stderr",
     "output_type": "stream",
     "text": [
      "100%|██████████| 338/338 [00:20<00:00, 16.41it/s]\n"
     ]
    },
    {
     "name": "stdout",
     "output_type": "stream",
     "text": [
      "[ Train    42/50 ] loss: 0.3190, accuracy: [ 87.1756% ]\n",
      "[ Gt         42/50 ], accuracy: [ 71.3059% ]\n",
      "------------------------------------------------------------------------------------------------------------------------------------------------------\n"
     ]
    },
    {
     "name": "stderr",
     "output_type": "stream",
     "text": [
      "100%|██████████| 338/338 [00:20<00:00, 16.38it/s]\n"
     ]
    },
    {
     "name": "stdout",
     "output_type": "stream",
     "text": [
      "[ Train    43/50 ] loss: 0.3158, accuracy: [ 87.2949% ]\n",
      "[ Gt         43/50 ], accuracy: [ 70.4697% ]\n",
      "------------------------------------------------------------------------------------------------------------------------------------------------------\n"
     ]
    },
    {
     "name": "stderr",
     "output_type": "stream",
     "text": [
      "100%|██████████| 338/338 [00:20<00:00, 16.19it/s]\n"
     ]
    },
    {
     "name": "stdout",
     "output_type": "stream",
     "text": [
      "[ Train    44/50 ] loss: 0.3148, accuracy: [ 87.3574% ]\n",
      "[ Gt         44/50 ], accuracy: [ 69.3029% ]\n",
      "------------------------------------------------------------------------------------------------------------------------------------------------------\n",
      "Epoch 00044: reducing learning rate of group 0 to 1.3422e-04.\n"
     ]
    },
    {
     "name": "stderr",
     "output_type": "stream",
     "text": [
      "100%|██████████| 338/338 [00:20<00:00, 16.27it/s]\n"
     ]
    },
    {
     "name": "stdout",
     "output_type": "stream",
     "text": [
      "[ Train    45/50 ] loss: 0.3119, accuracy: [ 87.4773% ]\n",
      "[ Gt         45/50 ], accuracy: [ 72.2855% ]\n",
      "------------------------------------------------------------------------------------------------------------------------------------------------------\n"
     ]
    },
    {
     "name": "stderr",
     "output_type": "stream",
     "text": [
      "100%|██████████| 338/338 [00:20<00:00, 16.27it/s]\n"
     ]
    },
    {
     "name": "stdout",
     "output_type": "stream",
     "text": [
      "[ Train    46/50 ] loss: 0.3097, accuracy: [ 87.5900% ]\n",
      "[ Gt         46/50 ], accuracy: [ 71.6936% ]\n",
      "------------------------------------------------------------------------------------------------------------------------------------------------------\n"
     ]
    },
    {
     "name": "stderr",
     "output_type": "stream",
     "text": [
      "100%|██████████| 338/338 [00:20<00:00, 16.52it/s]\n"
     ]
    },
    {
     "name": "stdout",
     "output_type": "stream",
     "text": [
      "[ Train    47/50 ] loss: 0.3066, accuracy: [ 87.7145% ]\n",
      "[ Gt         47/50 ], accuracy: [ 72.5144% ]\n",
      "------------------------------------------------------------------------------------------------------------------------------------------------------\n"
     ]
    },
    {
     "name": "stderr",
     "output_type": "stream",
     "text": [
      "100%|██████████| 338/338 [00:20<00:00, 16.25it/s]\n"
     ]
    },
    {
     "name": "stdout",
     "output_type": "stream",
     "text": [
      "[ Train    48/50 ] loss: 0.3038, accuracy: [ 87.8396% ]\n",
      "[ Gt         48/50 ], accuracy: [ 74.0395% ]\n",
      "------------------------------------------------------------------------------------------------------------------------------------------------------\n"
     ]
    },
    {
     "name": "stderr",
     "output_type": "stream",
     "text": [
      "100%|██████████| 338/338 [00:21<00:00, 16.08it/s]\n"
     ]
    },
    {
     "name": "stdout",
     "output_type": "stream",
     "text": [
      "[ Train    49/50 ] loss: 0.3013, accuracy: [ 87.9545% ]\n",
      "[ Gt         49/50 ], accuracy: [ 71.7321% ]\n",
      "------------------------------------------------------------------------------------------------------------------------------------------------------\n"
     ]
    },
    {
     "name": "stderr",
     "output_type": "stream",
     "text": [
      "100%|██████████| 338/338 [00:20<00:00, 16.43it/s]\n"
     ]
    },
    {
     "name": "stdout",
     "output_type": "stream",
     "text": [
      "[ Train    50/50 ] loss: 0.2994, accuracy: [ 88.0228% ]\n",
      "[ Gt         50/50 ], accuracy: [ 72.0543% ]\n",
      "------------------------------------------------------------------------------------------------------------------------------------------------------\n"
     ]
    }
   ],
   "source": [
    "for epoch in range(num_epochs):\n",
    "    train_loss = 0\n",
    "    train_corrects = 0\n",
    "\n",
    "    model.train()\n",
    "    for inputs, labels in tqdm(train_loader):\n",
    "        labels = torch.argmax(labels, dim=1)\n",
    "\n",
    "        optimizer.zero_grad()\n",
    "\n",
    "        outputs = model(inputs)\n",
    "\n",
    "        loss = criterion(outputs, labels)\n",
    "        loss.backward()\n",
    "        optimizer.step()\n",
    "\n",
    "        train_loss += loss.item()\n",
    "        _, preds = torch.max(outputs, 1)\n",
    "        train_corrects += torch.sum(preds == labels).item()\n",
    "\n",
    "    train_loss /= len(train_loader)\n",
    "    train_acc = train_corrects / len(train_set) * 100\n",
    "    print(f\"[ Train    {epoch + 1}/{num_epochs} ] loss: {train_loss:.4f}, accuracy: [ {train_acc:<7.4f}% ]\")\n",
    "\n",
    "    test_corrects = 0\n",
    "\n",
    "    model.eval()\n",
    "    with torch.no_grad():\n",
    "        for inputs, labels in test_loader:\n",
    "            labels = torch.argmax(labels, dim=1)\n",
    "\n",
    "            outputs = model(inputs)\n",
    "\n",
    "            _, preds = torch.max(outputs, 1)\n",
    "            test_corrects += torch.sum(preds == labels).item()\n",
    "\n",
    "    test_acc = test_corrects / len(test_set) * 100\n",
    "    print(f\"[ Gt         {epoch + 1}/{num_epochs} ], accuracy: [ {test_acc:<7.4f}% ]\")\n",
    "\n",
    "    print(\"-\" * 150)\n",
    "\n",
    "    scheduler.step(test_acc)"
   ],
   "metadata": {
    "collapsed": false,
    "ExecuteTime": {
     "end_time": "2023-12-15T03:30:02.318486Z",
     "start_time": "2023-12-15T03:12:27.687334Z"
    }
   }
  },
  {
   "cell_type": "code",
   "execution_count": 20,
   "outputs": [],
   "source": [
    "# torch.save(model.state_dict(), f\"../microservices/DataManager/weights/multiclass/lstm.pth\")"
   ],
   "metadata": {
    "collapsed": false,
    "ExecuteTime": {
     "end_time": "2023-12-15T03:30:02.320800Z",
     "start_time": "2023-12-15T03:30:02.319554Z"
    }
   }
  },
  {
   "cell_type": "code",
   "execution_count": 21,
   "outputs": [],
   "source": [
    "# torch.save(model.state_dict(), f\"../microservices/DataManager/weights/multiclass/lstm.pth\")"
   ],
   "metadata": {
    "collapsed": false,
    "ExecuteTime": {
     "end_time": "2023-12-15T03:30:02.347509Z",
     "start_time": "2023-12-15T03:30:02.335270Z"
    }
   }
  }
 ],
 "metadata": {
  "kernelspec": {
   "display_name": "Python 3",
   "language": "python",
   "name": "python3"
  },
  "language_info": {
   "codemirror_mode": {
    "name": "ipython",
    "version": 2
   },
   "file_extension": ".py",
   "mimetype": "text/x-python",
   "name": "python",
   "nbconvert_exporter": "python",
   "pygments_lexer": "ipython2",
   "version": "2.7.6"
  }
 },
 "nbformat": 4,
 "nbformat_minor": 0
}
