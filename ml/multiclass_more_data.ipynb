{
 "cells": [
  {
   "cell_type": "code",
   "execution_count": 1,
   "metadata": {
    "collapsed": true,
    "ExecuteTime": {
     "end_time": "2023-12-15T11:26:14.707972Z",
     "start_time": "2023-12-15T11:26:12.577124Z"
    }
   },
   "outputs": [],
   "source": [
    "import numpy as np\n",
    "import pandas as pd\n",
    "import itertools\n",
    "import random\n",
    "from tqdm import tqdm\n",
    "from ast import literal_eval\n",
    "import time\n",
    "\n",
    "from sklearn.multiclass import OneVsRestClassifier\n",
    "from sklearn.discriminant_analysis import QuadraticDiscriminantAnalysis\n",
    "from sklearn.ensemble import AdaBoostClassifier, RandomForestClassifier\n",
    "from sklearn.gaussian_process import GaussianProcessClassifier\n",
    "from sklearn.gaussian_process.kernels import RBF\n",
    "from sklearn.inspection import DecisionBoundaryDisplay\n",
    "from sklearn.model_selection import train_test_split\n",
    "from sklearn.naive_bayes import GaussianNB\n",
    "from sklearn.neighbors import KNeighborsClassifier\n",
    "from sklearn.neural_network import MLPClassifier\n",
    "from sklearn.pipeline import make_pipeline\n",
    "from sklearn.preprocessing import StandardScaler\n",
    "from sklearn.svm import SVC\n",
    "from sklearn.tree import DecisionTreeClassifier\n",
    "\n",
    "import torch\n",
    "import torch.nn as nn\n",
    "import torch.optim as optim\n",
    "from torch.utils.data import TensorDataset, DataLoader\n",
    "from torch.autograd import Variable\n",
    "device = torch.device(\"cpu\")\n",
    "\n",
    "# import pickle\n",
    "import joblib\n",
    "\n",
    "import matplotlib.pyplot as plt"
   ]
  },
  {
   "cell_type": "code",
   "execution_count": 2,
   "outputs": [],
   "source": [
    "config_dict_1 = {\n",
    "    0: \"fair\",\n",
    "    1: \"cheat-1_no-cooldown\",\n",
    "    2: \"cheat-2_no-dash\",\n",
    "    3: \"cheat-3_inf-slowmo\",\n",
    "    4: \"cheat-4_huge-damage\",\n",
    "    5: \"cheat-5_frozen-ninja\",\n",
    "}\n",
    "\n",
    "config_dict_2 = {\n",
    "    0: \"fair_new\",\n",
    "    1: \"cheat-1_new\",\n",
    "    2: \"cheat-2_new\",\n",
    "    3: \"cheat-3_new\",\n",
    "    4: \"cheat-4_new\",\n",
    "    5: \"cheat-5_new\",\n",
    "}"
   ],
   "metadata": {
    "collapsed": false,
    "ExecuteTime": {
     "end_time": "2023-12-15T11:26:14.710447Z",
     "start_time": "2023-12-15T11:26:14.709146Z"
    }
   }
  },
  {
   "cell_type": "code",
   "execution_count": 3,
   "outputs": [],
   "source": [
    "def preprocess_gt_csv(data_name):\n",
    "    filename = f\"train_data/gt/{data_name}.csv\"\n",
    "\n",
    "    columns_to_eval = [\n",
    "        \"global_mouse_position\",\n",
    "        \"button_cooldown_times\",\n",
    "        \"logical_frames_since_last_button_press\",\n",
    "        \"global_position\",\n",
    "        \"velocity\",\n",
    "        \"fruits_cut_this_frame_list\",\n",
    "        \"fruits_hit_ninjas_ass_this_frame_list\",\n",
    "        \"fruits_on_screen_this_frame_list\",\n",
    "        \"fruits_spawned_this_frame_list\",\n",
    "        \"stupid_fucking_fruits_that_died_this_frame_list\",\n",
    "    ]\n",
    "\n",
    "    df = pd.read_csv(filename, converters={column: literal_eval for column in columns_to_eval})\n",
    "\n",
    "    df[\"fruits_spawned_num\"] = df[\"fruits_spawned_this_frame_list\"].str.len()\n",
    "    df[\"fruits_on_screen_num\"] = df[\"fruits_on_screen_this_frame_list\"].str.len()\n",
    "    df[\"fruits_hit_num\"] = df[\"fruits_hit_ninjas_ass_this_frame_list\"].str.len()\n",
    "    df[\"fruits_missed_num\"] = df[\"stupid_fucking_fruits_that_died_this_frame_list\"].str.len()\n",
    "\n",
    "    projectiles = [\"Apple\", \"Banana\", \"Grape\", \"Pineapple\", \"Watermelon\", \"Coconut\", \"Cherry\"]\n",
    "\n",
    "    df[\"fruit_name_spawned\"] = df[\"fruits_spawned_this_frame_list\"].apply(lambda x: projectiles.index(x[0][\"name\"]) if len(x) != 0 else -1)\n",
    "\n",
    "    for butt in [\"b1\", \"b2\", \"b3\", \"b4\"]:\n",
    "        df[butt] = df[\"button_cooldown_times\"].apply(lambda j: j[butt])\n",
    "\n",
    "    general_needed = [\n",
    "        \"cheat_flag\",\n",
    "        \"frame_count\",\n",
    "        \"session_id\",\n",
    "        \"score\",\n",
    "        \"combo\",\n",
    "        \"is_combo_going\",\n",
    "        \"time_left_seconds\",\n",
    "        \"can_dash\",\n",
    "    ]\n",
    "    buttons_needed = [\n",
    "        \"b1\", \"b2\", \"b3\", \"b4\",\n",
    "    ]\n",
    "\n",
    "    df = df[general_needed + buttons_needed]\n",
    "    df[general_needed] = df[general_needed].astype(int)\n",
    "\n",
    "    if data_name == \"cheat-4_huge-damage\":  # its too fucking huge\n",
    "        df[\"score\"] *= 0.0001\n",
    "\n",
    "    return df"
   ],
   "metadata": {
    "collapsed": false,
    "ExecuteTime": {
     "end_time": "2023-12-15T11:26:14.714732Z",
     "start_time": "2023-12-15T11:26:14.713180Z"
    }
   }
  },
  {
   "cell_type": "code",
   "execution_count": 4,
   "outputs": [],
   "source": [
    "def preprocess_synthetic_csv(data_name):\n",
    "    filename = f\"train_data/synthetic/{data_name}_50-games.csv\"\n",
    "    df = pd.read_csv(filename).drop([\"Unnamed: 0\"], axis=1)\n",
    "    return df"
   ],
   "metadata": {
    "collapsed": false,
    "ExecuteTime": {
     "end_time": "2023-12-15T11:26:14.716587Z",
     "start_time": "2023-12-15T11:26:14.715622Z"
    }
   }
  },
  {
   "cell_type": "code",
   "execution_count": 5,
   "outputs": [
    {
     "data": {
      "text/plain": "((1979694, 10), (1979694,))"
     },
     "execution_count": 5,
     "metadata": {},
     "output_type": "execute_result"
    }
   ],
   "source": [
    "synthetic_data = pd.concat([preprocess_synthetic_csv(data_name) for data_name in config_dict_1.values()])\n",
    "\n",
    "X_synthetic = synthetic_data.drop([\"cheat_flag\", \"session_id\"], axis=1)\n",
    "y_synthetic = synthetic_data[\"cheat_flag\"]\n",
    "\n",
    "X_synthetic.shape, y_synthetic.shape"
   ],
   "metadata": {
    "collapsed": false,
    "ExecuteTime": {
     "end_time": "2023-12-15T11:26:16.228969Z",
     "start_time": "2023-12-15T11:26:14.719130Z"
    }
   }
  },
  {
   "cell_type": "code",
   "execution_count": 6,
   "outputs": [
    {
     "data": {
      "text/plain": "((373128, 10), (373128,))"
     },
     "execution_count": 6,
     "metadata": {},
     "output_type": "execute_result"
    }
   ],
   "source": [
    "gt_data_1 = pd.concat([preprocess_gt_csv(data_name) for data_name in config_dict_1.values()])\n",
    "gt_data_2 = pd.concat([preprocess_gt_csv(data_name) for data_name in config_dict_2.values()])\n",
    "gt_data = pd.concat([gt_data_1, gt_data_2])\n",
    "\n",
    "X_gt = gt_data.drop([\"cheat_flag\", \"session_id\"], axis=1)\n",
    "y_gt = gt_data[\"cheat_flag\"]\n",
    "\n",
    "X_gt.shape, y_gt.shape"
   ],
   "metadata": {
    "collapsed": false,
    "ExecuteTime": {
     "end_time": "2023-12-15T11:26:59.538098Z",
     "start_time": "2023-12-15T11:26:16.222575Z"
    }
   }
  },
  {
   "cell_type": "code",
   "execution_count": 7,
   "outputs": [
    {
     "data": {
      "text/plain": "((2072976, 10),\n torch.Size([2072976, 6]),\n (279846, 10),\n torch.Size([279846, 6]))"
     },
     "execution_count": 7,
     "metadata": {},
     "output_type": "execute_result"
    }
   ],
   "source": [
    "mix_num = len(X_gt) // 4\n",
    "\n",
    "gt_idx = np.random.choice(len(X_gt), replace=False, size=mix_num)\n",
    "\n",
    "gt_rest = [i for i in np.arange(len(X_gt)) if i not in gt_idx]\n",
    "\n",
    "X_train_mixed = pd.concat([X_synthetic, X_gt.iloc[gt_idx]])\n",
    "y_train_mixed = pd.concat([y_synthetic, y_gt.iloc[gt_idx]])\n",
    "\n",
    "X_test = X_gt.iloc[gt_rest]\n",
    "y_test = y_gt.iloc[gt_rest]\n",
    "\n",
    "y_train_mixed = nn.functional.one_hot(torch.tensor(y_train_mixed.to_numpy()), len(config_dict_1))\n",
    "y_test = nn.functional.one_hot(torch.tensor(y_test.to_numpy()), len(config_dict_1))\n",
    "\n",
    "X_train_mixed.shape, y_train_mixed.shape, X_test.shape, y_test.shape"
   ],
   "metadata": {
    "collapsed": false,
    "ExecuteTime": {
     "end_time": "2023-12-15T11:27:05.203935Z",
     "start_time": "2023-12-15T11:26:59.536020Z"
    }
   }
  },
  {
   "cell_type": "code",
   "execution_count": 8,
   "outputs": [],
   "source": [
    "# X_train, X_val, y_train, y_val = train_test_split(\n",
    "#     X_train_mixed, y_train_mixed, test_size=0.4, random_state=42, shuffle=True\n",
    "# )\n",
    "# X_train.shape, X_val.shape, y_train.shape, y_val.shape"
   ],
   "metadata": {
    "collapsed": false,
    "ExecuteTime": {
     "end_time": "2023-12-15T11:27:05.206042Z",
     "start_time": "2023-12-15T11:27:05.205936Z"
    }
   }
  },
  {
   "cell_type": "code",
   "execution_count": 9,
   "outputs": [],
   "source": [
    "train_set = TensorDataset(\n",
    "    torch.FloatTensor(X_train_mixed.to_numpy()).unsqueeze(1),\n",
    "    y_train_mixed,\n",
    ")\n",
    "train_loader = DataLoader(train_set, batch_size=6_000, shuffle=True)\n",
    "\n",
    "test_set = TensorDataset(\n",
    "    torch.FloatTensor(X_test.to_numpy()).unsqueeze(1),\n",
    "    y_test,\n",
    ")\n",
    "test_loader = DataLoader(test_set, batch_size=6_000, shuffle=True)"
   ],
   "metadata": {
    "collapsed": false,
    "ExecuteTime": {
     "end_time": "2023-12-15T11:27:05.322764Z",
     "start_time": "2023-12-15T11:27:05.206099Z"
    }
   }
  },
  {
   "cell_type": "code",
   "execution_count": 10,
   "outputs": [],
   "source": [
    "from sklearn.multiclass import OneVsRestClassifier, OneVsOneClassifier\n",
    "\n",
    "names = [\n",
    "    \"Decision Tree\",\n",
    "    \"Random Forest\",\n",
    "    \"Gaussian Naive Bayes\",\n",
    "]\n",
    "\n",
    "classifiers = [\n",
    "    DecisionTreeClassifier(random_state=42),\n",
    "    RandomForestClassifier(random_state=42),\n",
    "    GaussianNB(),\n",
    "]"
   ],
   "metadata": {
    "collapsed": false,
    "ExecuteTime": {
     "end_time": "2023-12-15T11:27:05.327621Z",
     "start_time": "2023-12-15T11:27:05.323600Z"
    }
   }
  },
  {
   "cell_type": "code",
   "execution_count": 11,
   "outputs": [
    {
     "name": "stdout",
     "output_type": "stream",
     "text": [
      "Decision Tree model:\n"
     ]
    },
    {
     "name": "stderr",
     "output_type": "stream",
     "text": [
      "100%|██████████| 346/346 [01:05<00:00,  5.25it/s]\n",
      "100%|██████████| 47/47 [00:01<00:00, 25.77it/s]\n"
     ]
    },
    {
     "name": "stdout",
     "output_type": "stream",
     "text": [
      "Saved model.\n",
      "Train time: 65.9 sec,  Train score: 1.000,  Gt score: [ 0.546 ]\n",
      "------------------------------------------------------------------------------------------------------------------------------------------------------\n",
      "Random Forest model:\n"
     ]
    },
    {
     "name": "stderr",
     "output_type": "stream",
     "text": [
      "100%|██████████| 346/346 [25:25<00:00,  4.41s/it]\n",
      "100%|██████████| 47/47 [00:10<00:00,  4.29it/s]\n"
     ]
    },
    {
     "name": "stdout",
     "output_type": "stream",
     "text": [
      "Saved model.\n",
      "Train time: 1526.0 sec,  Train score: 1.000,  Gt score: [ 0.573 ]\n",
      "------------------------------------------------------------------------------------------------------------------------------------------------------\n",
      "Gaussian Naive Bayes model:\n"
     ]
    },
    {
     "name": "stderr",
     "output_type": "stream",
     "text": [
      "100%|██████████| 346/346 [00:18<00:00, 18.35it/s]\n",
      "100%|██████████| 47/47 [00:01<00:00, 23.81it/s]"
     ]
    },
    {
     "name": "stdout",
     "output_type": "stream",
     "text": [
      "Saved model.\n",
      "Train time: 18.9 sec,  Train score: 0.078,  Gt score: [ 0.179 ]\n",
      "------------------------------------------------------------------------------------------------------------------------------------------------------\n"
     ]
    },
    {
     "name": "stderr",
     "output_type": "stream",
     "text": [
      "\n"
     ]
    }
   ],
   "source": [
    "for name, clf in zip(names, classifiers):\n",
    "    print(f\"{name} model:\")\n",
    "    clf = OneVsRestClassifier(clf)\n",
    "\n",
    "    train_acc = 0\n",
    "    start = time.time()\n",
    "\n",
    "    for X, y in tqdm(train_loader):\n",
    "        clf.fit(X.numpy().squeeze(), y.numpy())\n",
    "        train_acc += clf.score(X.numpy().squeeze(), y.numpy())\n",
    "\n",
    "    end = time.time()\n",
    "    train_acc /= len(train_loader)\n",
    "\n",
    "    test_acc = 0\n",
    "    for X, y in tqdm(test_loader):\n",
    "        test_acc += clf.score(X.numpy().squeeze(), y.numpy())\n",
    "    test_acc /= len(test_loader)\n",
    "\n",
    "    snake_case_name = \"_\".join(name.lower().split(\" \"))\n",
    "    joblib.dump(clf, f\"../microservices/DataManager/weights/multiclass_more/ovr/{snake_case_name}.joblib\")\n",
    "    print(f\"Saved model.\")\n",
    "\n",
    "    print(f\"Train time: {(end - start):.1f} sec,  Train score: {train_acc:.3f},  Gt score: [ {test_acc:.3f} ]\")\n",
    "    print(\"-\" * 150)"
   ],
   "metadata": {
    "collapsed": false,
    "ExecuteTime": {
     "end_time": "2023-12-15T11:54:11.055305Z",
     "start_time": "2023-12-15T11:27:05.327796Z"
    }
   }
  },
  {
   "cell_type": "code",
   "execution_count": 12,
   "outputs": [
    {
     "name": "stdout",
     "output_type": "stream",
     "text": [
      "Decision Tree model:\n"
     ]
    },
    {
     "name": "stderr",
     "output_type": "stream",
     "text": [
      "100%|██████████| 346/346 [00:46<00:00,  7.50it/s]\n",
      "100%|██████████| 47/47 [00:02<00:00, 23.03it/s]\n"
     ]
    },
    {
     "name": "stdout",
     "output_type": "stream",
     "text": [
      "Saved model.\n",
      "Train time: 46.1 sec,  Train score: 1.000,  Gt score: [ 0.662 ]\n",
      "------------------------------------------------------------------------------------------------------------------------------------------------------\n",
      "Random Forest model:\n"
     ]
    },
    {
     "name": "stderr",
     "output_type": "stream",
     "text": [
      "100%|██████████| 346/346 [22:37<00:00,  3.92s/it]\n",
      "100%|██████████| 47/47 [00:40<00:00,  1.15it/s]\n"
     ]
    },
    {
     "name": "stdout",
     "output_type": "stream",
     "text": [
      "Saved model.\n",
      "Train time: 1357.8 sec,  Train score: 1.000,  Gt score: [ 0.687 ]\n",
      "------------------------------------------------------------------------------------------------------------------------------------------------------\n",
      "Gaussian Naive Bayes model:\n"
     ]
    },
    {
     "name": "stderr",
     "output_type": "stream",
     "text": [
      "100%|██████████| 346/346 [00:26<00:00, 12.99it/s]\n",
      "100%|██████████| 47/47 [00:02<00:00, 17.38it/s]\n"
     ]
    },
    {
     "name": "stdout",
     "output_type": "stream",
     "text": [
      "Saved model.\n",
      "Train time: 26.6 sec,  Train score: 0.495,  Gt score: [ 0.577 ]\n",
      "------------------------------------------------------------------------------------------------------------------------------------------------------\n"
     ]
    }
   ],
   "source": [
    "for name, clf in zip(names, classifiers):\n",
    "    print(f\"{name} model:\")\n",
    "    clf = OneVsOneClassifier(clf)\n",
    "\n",
    "    train_acc = 0\n",
    "    start = time.time()\n",
    "\n",
    "    for X, y in tqdm(train_loader):\n",
    "        y = torch.argmax(y, dim=1)\n",
    "        clf.fit(X.numpy().squeeze(), y.numpy())\n",
    "        train_acc += clf.score(X.numpy().squeeze(), y.numpy())\n",
    "\n",
    "    end = time.time()\n",
    "    train_acc /= len(train_loader)\n",
    "\n",
    "    test_acc = 0\n",
    "    for X, y in tqdm(test_loader):\n",
    "        y = torch.argmax(y, dim=1)\n",
    "        test_acc += clf.score(X.numpy().squeeze(), y.numpy())\n",
    "    test_acc /= len(test_loader)\n",
    "\n",
    "    snake_case_name = \"_\".join(name.lower().split(\" \"))\n",
    "    joblib.dump(clf, f\"../microservices/DataManager/weights/multiclass_more/ovo/{snake_case_name}.joblib\")\n",
    "    print(f\"Saved model.\")\n",
    "\n",
    "    print(f\"Train time: {(end - start):.1f} sec,  Train score: {train_acc:.3f},  Gt score: [ {test_acc:.3f} ]\")\n",
    "    print(\"-\" * 150)"
   ],
   "metadata": {
    "collapsed": false,
    "ExecuteTime": {
     "end_time": "2023-12-15T12:18:47.542946Z",
     "start_time": "2023-12-15T11:54:11.057179Z"
    }
   }
  },
  {
   "cell_type": "code",
   "execution_count": 13,
   "outputs": [],
   "source": [
    "input_size = 10\n",
    "hidden_size = 50\n",
    "output_size = len(config_dict_1)\n",
    "num_layers = 1\n",
    "\n",
    "learning_rate = 0.001\n",
    "num_epochs = 50"
   ],
   "metadata": {
    "collapsed": false,
    "ExecuteTime": {
     "end_time": "2023-12-15T12:18:47.543627Z",
     "start_time": "2023-12-15T12:18:47.542102Z"
    }
   }
  },
  {
   "cell_type": "code",
   "execution_count": 14,
   "outputs": [
    {
     "name": "stderr",
     "output_type": "stream",
     "text": [
      "/Users/alorthius/anaconda3/envs/big_data/lib/python3.10/site-packages/torch/nn/modules/rnn.py:82: UserWarning: dropout option adds dropout after all but last recurrent layer, so non-zero dropout expects num_layers greater than 1, but got dropout=0.5 and num_layers=1\n",
      "  warnings.warn(\"dropout option adds dropout after all but last \"\n"
     ]
    }
   ],
   "source": [
    "from microservices.DataManager.models.lstm import LSTMModel, LSTM2\n",
    "\n",
    "model = LSTM2(input_size, hidden_size, output_size, num_layers)\n",
    "criterion = nn.CrossEntropyLoss()\n",
    "optimizer = optim.Adam(model.parameters(), lr=0.001, weight_decay=1e-5)\n",
    "scheduler = optim.lr_scheduler.ReduceLROnPlateau(optimizer, mode=\"max\", patience=2, threshold=1, factor=0.8, threshold_mode=\"abs\", min_lr=0.000005, verbose=True)\n"
   ],
   "metadata": {
    "collapsed": false,
    "ExecuteTime": {
     "end_time": "2023-12-15T12:18:47.793499Z",
     "start_time": "2023-12-15T12:18:47.542753Z"
    }
   }
  },
  {
   "cell_type": "code",
   "execution_count": 15,
   "outputs": [
    {
     "name": "stderr",
     "output_type": "stream",
     "text": [
      "100%|██████████| 346/346 [00:20<00:00, 16.68it/s]\n"
     ]
    },
    {
     "name": "stdout",
     "output_type": "stream",
     "text": [
      "[ Train    1/50 ] loss: 1.1516, accuracy: [ 55.7682% ]\n",
      "[ Gt         1/50 ], accuracy: [ 50.8794% ]\n",
      "------------------------------------------------------------------------------------------------------------------------------------------------------\n"
     ]
    },
    {
     "name": "stderr",
     "output_type": "stream",
     "text": [
      "100%|██████████| 346/346 [00:22<00:00, 15.19it/s]\n"
     ]
    },
    {
     "name": "stdout",
     "output_type": "stream",
     "text": [
      "[ Train    2/50 ] loss: 0.8312, accuracy: [ 66.6979% ]\n",
      "[ Gt         2/50 ], accuracy: [ 50.5439% ]\n",
      "------------------------------------------------------------------------------------------------------------------------------------------------------\n"
     ]
    },
    {
     "name": "stderr",
     "output_type": "stream",
     "text": [
      "100%|██████████| 346/346 [00:21<00:00, 16.02it/s]\n"
     ]
    },
    {
     "name": "stdout",
     "output_type": "stream",
     "text": [
      "[ Train    3/50 ] loss: 0.6943, accuracy: [ 72.4022% ]\n",
      "[ Gt         3/50 ], accuracy: [ 58.4143% ]\n",
      "------------------------------------------------------------------------------------------------------------------------------------------------------\n"
     ]
    },
    {
     "name": "stderr",
     "output_type": "stream",
     "text": [
      "100%|██████████| 346/346 [00:21<00:00, 16.39it/s]\n"
     ]
    },
    {
     "name": "stdout",
     "output_type": "stream",
     "text": [
      "[ Train    4/50 ] loss: 0.5912, accuracy: [ 76.4645% ]\n",
      "[ Gt         4/50 ], accuracy: [ 65.9045% ]\n",
      "------------------------------------------------------------------------------------------------------------------------------------------------------\n"
     ]
    },
    {
     "name": "stderr",
     "output_type": "stream",
     "text": [
      "100%|██████████| 346/346 [00:20<00:00, 16.58it/s]\n"
     ]
    },
    {
     "name": "stdout",
     "output_type": "stream",
     "text": [
      "[ Train    5/50 ] loss: 0.5386, accuracy: [ 78.4536% ]\n",
      "[ Gt         5/50 ], accuracy: [ 64.6934% ]\n",
      "------------------------------------------------------------------------------------------------------------------------------------------------------\n"
     ]
    },
    {
     "name": "stderr",
     "output_type": "stream",
     "text": [
      "100%|██████████| 346/346 [00:20<00:00, 16.62it/s]\n"
     ]
    },
    {
     "name": "stdout",
     "output_type": "stream",
     "text": [
      "[ Train    6/50 ] loss: 0.5075, accuracy: [ 79.5332% ]\n",
      "[ Gt         6/50 ], accuracy: [ 66.4737% ]\n",
      "------------------------------------------------------------------------------------------------------------------------------------------------------\n"
     ]
    },
    {
     "name": "stderr",
     "output_type": "stream",
     "text": [
      "100%|██████████| 346/346 [00:21<00:00, 16.24it/s]\n"
     ]
    },
    {
     "name": "stdout",
     "output_type": "stream",
     "text": [
      "[ Train    7/50 ] loss: 0.4813, accuracy: [ 80.4962% ]\n",
      "[ Gt         7/50 ], accuracy: [ 68.5395% ]\n",
      "------------------------------------------------------------------------------------------------------------------------------------------------------\n"
     ]
    },
    {
     "name": "stderr",
     "output_type": "stream",
     "text": [
      "100%|██████████| 346/346 [00:21<00:00, 16.34it/s]\n"
     ]
    },
    {
     "name": "stdout",
     "output_type": "stream",
     "text": [
      "[ Train    8/50 ] loss: 0.4619, accuracy: [ 81.1971% ]\n",
      "[ Gt         8/50 ], accuracy: [ 69.1995% ]\n",
      "------------------------------------------------------------------------------------------------------------------------------------------------------\n"
     ]
    },
    {
     "name": "stderr",
     "output_type": "stream",
     "text": [
      "100%|██████████| 346/346 [00:21<00:00, 15.89it/s]\n"
     ]
    },
    {
     "name": "stdout",
     "output_type": "stream",
     "text": [
      "[ Train    9/50 ] loss: 0.6018, accuracy: [ 76.0469% ]\n",
      "[ Gt         9/50 ], accuracy: [ 64.8010% ]\n",
      "------------------------------------------------------------------------------------------------------------------------------------------------------\n"
     ]
    },
    {
     "name": "stderr",
     "output_type": "stream",
     "text": [
      "100%|██████████| 346/346 [00:20<00:00, 16.60it/s]\n"
     ]
    },
    {
     "name": "stdout",
     "output_type": "stream",
     "text": [
      "[ Train    10/50 ] loss: 0.4938, accuracy: [ 80.0780% ]\n",
      "[ Gt         10/50 ], accuracy: [ 67.5371% ]\n",
      "------------------------------------------------------------------------------------------------------------------------------------------------------\n",
      "Epoch 00010: reducing learning rate of group 0 to 8.0000e-04.\n"
     ]
    },
    {
     "name": "stderr",
     "output_type": "stream",
     "text": [
      "100%|██████████| 346/346 [00:20<00:00, 16.68it/s]\n"
     ]
    },
    {
     "name": "stdout",
     "output_type": "stream",
     "text": [
      "[ Train    11/50 ] loss: 0.4542, accuracy: [ 81.6100% ]\n",
      "[ Gt         11/50 ], accuracy: [ 67.3792% ]\n",
      "------------------------------------------------------------------------------------------------------------------------------------------------------\n"
     ]
    },
    {
     "name": "stderr",
     "output_type": "stream",
     "text": [
      "100%|██████████| 346/346 [00:20<00:00, 16.96it/s]\n"
     ]
    },
    {
     "name": "stdout",
     "output_type": "stream",
     "text": [
      "[ Train    12/50 ] loss: 0.4510, accuracy: [ 81.6372% ]\n",
      "[ Gt         12/50 ], accuracy: [ 66.6663% ]\n",
      "------------------------------------------------------------------------------------------------------------------------------------------------------\n"
     ]
    },
    {
     "name": "stderr",
     "output_type": "stream",
     "text": [
      "100%|██████████| 346/346 [00:23<00:00, 14.73it/s]\n"
     ]
    },
    {
     "name": "stdout",
     "output_type": "stream",
     "text": [
      "[ Train    13/50 ] loss: 0.4182, accuracy: [ 82.8262% ]\n",
      "[ Gt         13/50 ], accuracy: [ 69.9781% ]\n",
      "------------------------------------------------------------------------------------------------------------------------------------------------------\n"
     ]
    },
    {
     "name": "stderr",
     "output_type": "stream",
     "text": [
      "100%|██████████| 346/346 [00:21<00:00, 15.95it/s]\n"
     ]
    },
    {
     "name": "stdout",
     "output_type": "stream",
     "text": [
      "[ Train    14/50 ] loss: 0.4400, accuracy: [ 82.7097% ]\n",
      "[ Gt         14/50 ], accuracy: [ 72.2469% ]\n",
      "------------------------------------------------------------------------------------------------------------------------------------------------------\n"
     ]
    },
    {
     "name": "stderr",
     "output_type": "stream",
     "text": [
      "100%|██████████| 346/346 [00:20<00:00, 16.63it/s]\n"
     ]
    },
    {
     "name": "stdout",
     "output_type": "stream",
     "text": [
      "[ Train    15/50 ] loss: 0.4444, accuracy: [ 82.5863% ]\n",
      "[ Gt         15/50 ], accuracy: [ 70.3155% ]\n",
      "------------------------------------------------------------------------------------------------------------------------------------------------------\n"
     ]
    },
    {
     "name": "stderr",
     "output_type": "stream",
     "text": [
      "100%|██████████| 346/346 [00:21<00:00, 16.06it/s]\n"
     ]
    },
    {
     "name": "stdout",
     "output_type": "stream",
     "text": [
      "[ Train    16/50 ] loss: 0.4152, accuracy: [ 83.6172% ]\n",
      "[ Gt         16/50 ], accuracy: [ 71.9474% ]\n",
      "------------------------------------------------------------------------------------------------------------------------------------------------------\n"
     ]
    },
    {
     "name": "stderr",
     "output_type": "stream",
     "text": [
      "100%|██████████| 346/346 [00:21<00:00, 16.40it/s]\n"
     ]
    },
    {
     "name": "stdout",
     "output_type": "stream",
     "text": [
      "[ Train    17/50 ] loss: 0.8305, accuracy: [ 68.0073% ]\n",
      "[ Gt         17/50 ], accuracy: [ 58.2946% ]\n",
      "------------------------------------------------------------------------------------------------------------------------------------------------------\n",
      "Epoch 00017: reducing learning rate of group 0 to 6.4000e-04.\n"
     ]
    },
    {
     "name": "stderr",
     "output_type": "stream",
     "text": [
      "100%|██████████| 346/346 [00:21<00:00, 16.32it/s]\n"
     ]
    },
    {
     "name": "stdout",
     "output_type": "stream",
     "text": [
      "[ Train    18/50 ] loss: 0.8228, accuracy: [ 67.7830% ]\n",
      "[ Gt         18/50 ], accuracy: [ 55.8968% ]\n",
      "------------------------------------------------------------------------------------------------------------------------------------------------------\n"
     ]
    },
    {
     "name": "stderr",
     "output_type": "stream",
     "text": [
      "100%|██████████| 346/346 [00:21<00:00, 16.09it/s]\n"
     ]
    },
    {
     "name": "stdout",
     "output_type": "stream",
     "text": [
      "[ Train    19/50 ] loss: 0.6172, accuracy: [ 75.0557% ]\n",
      "[ Gt         19/50 ], accuracy: [ 68.0753% ]\n",
      "------------------------------------------------------------------------------------------------------------------------------------------------------\n"
     ]
    },
    {
     "name": "stderr",
     "output_type": "stream",
     "text": [
      "100%|██████████| 346/346 [00:20<00:00, 16.67it/s]\n"
     ]
    },
    {
     "name": "stdout",
     "output_type": "stream",
     "text": [
      "[ Train    20/50 ] loss: 0.5182, accuracy: [ 79.3042% ]\n",
      "[ Gt         20/50 ], accuracy: [ 68.5441% ]\n",
      "------------------------------------------------------------------------------------------------------------------------------------------------------\n",
      "Epoch 00020: reducing learning rate of group 0 to 5.1200e-04.\n"
     ]
    },
    {
     "name": "stderr",
     "output_type": "stream",
     "text": [
      "100%|██████████| 346/346 [00:22<00:00, 15.66it/s]\n"
     ]
    },
    {
     "name": "stdout",
     "output_type": "stream",
     "text": [
      "[ Train    21/50 ] loss: 0.4840, accuracy: [ 80.6907% ]\n",
      "[ Gt         21/50 ], accuracy: [ 69.3517% ]\n",
      "------------------------------------------------------------------------------------------------------------------------------------------------------\n"
     ]
    },
    {
     "name": "stderr",
     "output_type": "stream",
     "text": [
      "100%|██████████| 346/346 [00:21<00:00, 16.14it/s]\n"
     ]
    },
    {
     "name": "stdout",
     "output_type": "stream",
     "text": [
      "[ Train    22/50 ] loss: 0.4567, accuracy: [ 81.7535% ]\n",
      "[ Gt         22/50 ], accuracy: [ 69.3124% ]\n",
      "------------------------------------------------------------------------------------------------------------------------------------------------------\n"
     ]
    },
    {
     "name": "stderr",
     "output_type": "stream",
     "text": [
      "100%|██████████| 346/346 [00:20<00:00, 16.73it/s]\n"
     ]
    },
    {
     "name": "stdout",
     "output_type": "stream",
     "text": [
      "[ Train    23/50 ] loss: 0.4358, accuracy: [ 82.6557% ]\n",
      "[ Gt         23/50 ], accuracy: [ 69.1841% ]\n",
      "------------------------------------------------------------------------------------------------------------------------------------------------------\n",
      "Epoch 00023: reducing learning rate of group 0 to 4.0960e-04.\n"
     ]
    },
    {
     "name": "stderr",
     "output_type": "stream",
     "text": [
      "100%|██████████| 346/346 [00:22<00:00, 15.70it/s]\n"
     ]
    },
    {
     "name": "stdout",
     "output_type": "stream",
     "text": [
      "[ Train    24/50 ] loss: 0.4158, accuracy: [ 83.5365% ]\n",
      "[ Gt         24/50 ], accuracy: [ 70.5095% ]\n",
      "------------------------------------------------------------------------------------------------------------------------------------------------------\n"
     ]
    },
    {
     "name": "stderr",
     "output_type": "stream",
     "text": [
      "100%|██████████| 346/346 [00:20<00:00, 16.66it/s]\n"
     ]
    },
    {
     "name": "stdout",
     "output_type": "stream",
     "text": [
      "[ Train    25/50 ] loss: 0.4026, accuracy: [ 84.1183% ]\n",
      "[ Gt         25/50 ], accuracy: [ 71.6880% ]\n",
      "------------------------------------------------------------------------------------------------------------------------------------------------------\n"
     ]
    },
    {
     "name": "stderr",
     "output_type": "stream",
     "text": [
      "100%|██████████| 346/346 [00:21<00:00, 16.20it/s]\n"
     ]
    },
    {
     "name": "stdout",
     "output_type": "stream",
     "text": [
      "[ Train    26/50 ] loss: 0.3904, accuracy: [ 84.6347% ]\n",
      "[ Gt         26/50 ], accuracy: [ 71.9049% ]\n",
      "------------------------------------------------------------------------------------------------------------------------------------------------------\n",
      "Epoch 00026: reducing learning rate of group 0 to 3.2768e-04.\n"
     ]
    },
    {
     "name": "stderr",
     "output_type": "stream",
     "text": [
      "100%|██████████| 346/346 [00:21<00:00, 16.32it/s]\n"
     ]
    },
    {
     "name": "stdout",
     "output_type": "stream",
     "text": [
      "[ Train    27/50 ] loss: 0.3814, accuracy: [ 84.9807% ]\n",
      "[ Gt         27/50 ], accuracy: [ 71.4907% ]\n",
      "------------------------------------------------------------------------------------------------------------------------------------------------------\n"
     ]
    },
    {
     "name": "stderr",
     "output_type": "stream",
     "text": [
      "100%|██████████| 346/346 [00:20<00:00, 16.66it/s]\n"
     ]
    },
    {
     "name": "stdout",
     "output_type": "stream",
     "text": [
      "[ Train    28/50 ] loss: 0.3745, accuracy: [ 85.2648% ]\n",
      "[ Gt         28/50 ], accuracy: [ 70.9369% ]\n",
      "------------------------------------------------------------------------------------------------------------------------------------------------------\n"
     ]
    },
    {
     "name": "stderr",
     "output_type": "stream",
     "text": [
      "100%|██████████| 346/346 [00:20<00:00, 16.55it/s]\n"
     ]
    },
    {
     "name": "stdout",
     "output_type": "stream",
     "text": [
      "[ Train    29/50 ] loss: 0.3736, accuracy: [ 85.3198% ]\n",
      "[ Gt         29/50 ], accuracy: [ 71.6187% ]\n",
      "------------------------------------------------------------------------------------------------------------------------------------------------------\n",
      "Epoch 00029: reducing learning rate of group 0 to 2.6214e-04.\n"
     ]
    },
    {
     "name": "stderr",
     "output_type": "stream",
     "text": [
      "100%|██████████| 346/346 [00:20<00:00, 16.63it/s]\n"
     ]
    },
    {
     "name": "stdout",
     "output_type": "stream",
     "text": [
      "[ Train    30/50 ] loss: 0.3591, accuracy: [ 85.8849% ]\n",
      "[ Gt         30/50 ], accuracy: [ 73.6405% ]\n",
      "------------------------------------------------------------------------------------------------------------------------------------------------------\n"
     ]
    },
    {
     "name": "stderr",
     "output_type": "stream",
     "text": [
      "100%|██████████| 346/346 [00:22<00:00, 15.70it/s]\n"
     ]
    },
    {
     "name": "stdout",
     "output_type": "stream",
     "text": [
      "[ Train    31/50 ] loss: 0.3540, accuracy: [ 86.0616% ]\n",
      "[ Gt         31/50 ], accuracy: [ 72.1229% ]\n",
      "------------------------------------------------------------------------------------------------------------------------------------------------------\n"
     ]
    },
    {
     "name": "stderr",
     "output_type": "stream",
     "text": [
      "100%|██████████| 346/346 [00:21<00:00, 16.12it/s]\n"
     ]
    },
    {
     "name": "stdout",
     "output_type": "stream",
     "text": [
      "[ Train    32/50 ] loss: 0.3497, accuracy: [ 86.1862% ]\n",
      "[ Gt         32/50 ], accuracy: [ 72.5027% ]\n",
      "------------------------------------------------------------------------------------------------------------------------------------------------------\n"
     ]
    },
    {
     "name": "stderr",
     "output_type": "stream",
     "text": [
      "100%|██████████| 346/346 [00:20<00:00, 16.85it/s]\n"
     ]
    },
    {
     "name": "stdout",
     "output_type": "stream",
     "text": [
      "[ Train    33/50 ] loss: 0.3462, accuracy: [ 86.2915% ]\n",
      "[ Gt         33/50 ], accuracy: [ 73.5930% ]\n",
      "------------------------------------------------------------------------------------------------------------------------------------------------------\n",
      "Epoch 00033: reducing learning rate of group 0 to 2.0972e-04.\n"
     ]
    },
    {
     "name": "stderr",
     "output_type": "stream",
     "text": [
      "100%|██████████| 346/346 [00:24<00:00, 14.01it/s]\n"
     ]
    },
    {
     "name": "stdout",
     "output_type": "stream",
     "text": [
      "[ Train    34/50 ] loss: 0.3410, accuracy: [ 86.5112% ]\n",
      "[ Gt         34/50 ], accuracy: [ 72.5646% ]\n",
      "------------------------------------------------------------------------------------------------------------------------------------------------------\n"
     ]
    },
    {
     "name": "stderr",
     "output_type": "stream",
     "text": [
      "100%|██████████| 346/346 [00:21<00:00, 16.22it/s]\n"
     ]
    },
    {
     "name": "stdout",
     "output_type": "stream",
     "text": [
      "[ Train    35/50 ] loss: 0.3388, accuracy: [ 86.5687% ]\n",
      "[ Gt         35/50 ], accuracy: [ 72.8844% ]\n",
      "------------------------------------------------------------------------------------------------------------------------------------------------------\n"
     ]
    },
    {
     "name": "stderr",
     "output_type": "stream",
     "text": [
      "100%|██████████| 346/346 [00:21<00:00, 16.41it/s]\n"
     ]
    },
    {
     "name": "stdout",
     "output_type": "stream",
     "text": [
      "[ Train    36/50 ] loss: 0.3357, accuracy: [ 86.6692% ]\n",
      "[ Gt         36/50 ], accuracy: [ 73.5101% ]\n",
      "------------------------------------------------------------------------------------------------------------------------------------------------------\n",
      "Epoch 00036: reducing learning rate of group 0 to 1.6777e-04.\n"
     ]
    },
    {
     "name": "stderr",
     "output_type": "stream",
     "text": [
      "100%|██████████| 346/346 [00:21<00:00, 16.32it/s]\n"
     ]
    },
    {
     "name": "stdout",
     "output_type": "stream",
     "text": [
      "[ Train    37/50 ] loss: 0.3318, accuracy: [ 86.8161% ]\n",
      "[ Gt         37/50 ], accuracy: [ 73.7030% ]\n",
      "------------------------------------------------------------------------------------------------------------------------------------------------------\n"
     ]
    },
    {
     "name": "stderr",
     "output_type": "stream",
     "text": [
      "100%|██████████| 346/346 [00:21<00:00, 16.24it/s]\n"
     ]
    },
    {
     "name": "stdout",
     "output_type": "stream",
     "text": [
      "[ Train    38/50 ] loss: 0.3302, accuracy: [ 86.8824% ]\n",
      "[ Gt         38/50 ], accuracy: [ 73.3000% ]\n",
      "------------------------------------------------------------------------------------------------------------------------------------------------------\n"
     ]
    },
    {
     "name": "stderr",
     "output_type": "stream",
     "text": [
      "100%|██████████| 346/346 [00:20<00:00, 16.74it/s]\n"
     ]
    },
    {
     "name": "stdout",
     "output_type": "stream",
     "text": [
      "[ Train    39/50 ] loss: 0.3282, accuracy: [ 86.9345% ]\n",
      "[ Gt         39/50 ], accuracy: [ 73.2889% ]\n",
      "------------------------------------------------------------------------------------------------------------------------------------------------------\n",
      "Epoch 00039: reducing learning rate of group 0 to 1.3422e-04.\n"
     ]
    },
    {
     "name": "stderr",
     "output_type": "stream",
     "text": [
      "100%|██████████| 346/346 [00:21<00:00, 16.07it/s]\n"
     ]
    },
    {
     "name": "stdout",
     "output_type": "stream",
     "text": [
      "[ Train    40/50 ] loss: 0.3252, accuracy: [ 87.1104% ]\n",
      "[ Gt         40/50 ], accuracy: [ 73.9928% ]\n",
      "------------------------------------------------------------------------------------------------------------------------------------------------------\n"
     ]
    },
    {
     "name": "stderr",
     "output_type": "stream",
     "text": [
      "100%|██████████| 346/346 [00:20<00:00, 16.79it/s]\n"
     ]
    },
    {
     "name": "stdout",
     "output_type": "stream",
     "text": [
      "[ Train    41/50 ] loss: 0.3242, accuracy: [ 87.0992% ]\n",
      "[ Gt         41/50 ], accuracy: [ 73.9307% ]\n",
      "------------------------------------------------------------------------------------------------------------------------------------------------------\n"
     ]
    },
    {
     "name": "stderr",
     "output_type": "stream",
     "text": [
      "100%|██████████| 346/346 [00:21<00:00, 16.04it/s]\n"
     ]
    },
    {
     "name": "stdout",
     "output_type": "stream",
     "text": [
      "[ Train    42/50 ] loss: 0.3231, accuracy: [ 87.1419% ]\n",
      "[ Gt         42/50 ], accuracy: [ 74.7182% ]\n",
      "------------------------------------------------------------------------------------------------------------------------------------------------------\n"
     ]
    },
    {
     "name": "stderr",
     "output_type": "stream",
     "text": [
      "100%|██████████| 346/346 [00:20<00:00, 16.54it/s]\n"
     ]
    },
    {
     "name": "stdout",
     "output_type": "stream",
     "text": [
      "[ Train    43/50 ] loss: 0.3217, accuracy: [ 87.1915% ]\n",
      "[ Gt         43/50 ], accuracy: [ 73.9614% ]\n",
      "------------------------------------------------------------------------------------------------------------------------------------------------------\n"
     ]
    },
    {
     "name": "stderr",
     "output_type": "stream",
     "text": [
      "100%|██████████| 346/346 [00:20<00:00, 16.55it/s]\n"
     ]
    },
    {
     "name": "stdout",
     "output_type": "stream",
     "text": [
      "[ Train    44/50 ] loss: 0.3202, accuracy: [ 87.2930% ]\n",
      "[ Gt         44/50 ], accuracy: [ 75.5080% ]\n",
      "------------------------------------------------------------------------------------------------------------------------------------------------------\n"
     ]
    },
    {
     "name": "stderr",
     "output_type": "stream",
     "text": [
      "100%|██████████| 346/346 [00:21<00:00, 16.25it/s]\n"
     ]
    },
    {
     "name": "stdout",
     "output_type": "stream",
     "text": [
      "[ Train    45/50 ] loss: 0.3192, accuracy: [ 87.3248% ]\n",
      "[ Gt         45/50 ], accuracy: [ 74.6632% ]\n",
      "------------------------------------------------------------------------------------------------------------------------------------------------------\n",
      "Epoch 00045: reducing learning rate of group 0 to 1.0737e-04.\n"
     ]
    },
    {
     "name": "stderr",
     "output_type": "stream",
     "text": [
      " 25%|██▍       | 85/346 [00:05<00:16, 16.21it/s]\n",
      "\n",
      "KeyboardInterrupt\n",
      "\n"
     ]
    }
   ],
   "source": [
    "for epoch in range(num_epochs):\n",
    "    train_loss = 0\n",
    "    train_corrects = 0\n",
    "\n",
    "    model.train()\n",
    "    for inputs, labels in tqdm(train_loader):\n",
    "        labels = torch.argmax(labels, dim=1)\n",
    "\n",
    "        optimizer.zero_grad()\n",
    "\n",
    "        outputs = model(inputs)\n",
    "\n",
    "        loss = criterion(outputs, labels)\n",
    "        loss.backward()\n",
    "        optimizer.step()\n",
    "\n",
    "        train_loss += loss.item()\n",
    "        _, preds = torch.max(outputs, 1)\n",
    "        train_corrects += torch.sum(preds == labels).item()\n",
    "\n",
    "    train_loss /= len(train_loader)\n",
    "    train_acc = train_corrects / len(train_set) * 100\n",
    "    print(f\"[ Train    {epoch + 1}/{num_epochs} ] loss: {train_loss:.4f}, accuracy: [ {train_acc:<7.4f}% ]\")\n",
    "\n",
    "    test_corrects = 0\n",
    "\n",
    "    model.eval()\n",
    "    with torch.no_grad():\n",
    "        for inputs, labels in test_loader:\n",
    "            labels = torch.argmax(labels, dim=1)\n",
    "\n",
    "            outputs = model(inputs)\n",
    "\n",
    "            _, preds = torch.max(outputs, 1)\n",
    "            test_corrects += torch.sum(preds == labels).item()\n",
    "\n",
    "    test_acc = test_corrects / len(test_set) * 100\n",
    "    print(f\"[ Gt         {epoch + 1}/{num_epochs} ], accuracy: [ {test_acc:<7.4f}% ]\")\n",
    "\n",
    "    print(\"-\" * 150)\n",
    "\n",
    "    scheduler.step(test_acc)"
   ],
   "metadata": {
    "collapsed": false,
    "ExecuteTime": {
     "end_time": "2023-12-15T12:36:34.547960Z",
     "start_time": "2023-12-15T12:18:47.793327Z"
    }
   }
  },
  {
   "cell_type": "code",
   "execution_count": null,
   "outputs": [],
   "source": [
    "torch.save(model.state_dict(), f\"../microservices/DataManager/weights/multiclass_more/lstm.pth\")"
   ],
   "metadata": {
    "collapsed": false
   }
  }
 ],
 "metadata": {
  "kernelspec": {
   "display_name": "Python 3",
   "language": "python",
   "name": "python3"
  },
  "language_info": {
   "codemirror_mode": {
    "name": "ipython",
    "version": 2
   },
   "file_extension": ".py",
   "mimetype": "text/x-python",
   "name": "python",
   "nbconvert_exporter": "python",
   "pygments_lexer": "ipython2",
   "version": "2.7.6"
  }
 },
 "nbformat": 4,
 "nbformat_minor": 0
}
