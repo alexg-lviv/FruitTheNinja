{
 "cells": [
  {
   "cell_type": "code",
   "execution_count": 20,
   "metadata": {
    "collapsed": true,
    "ExecuteTime": {
     "end_time": "2023-12-14T17:29:50.118223Z",
     "start_time": "2023-12-14T17:29:50.112582Z"
    }
   },
   "outputs": [],
   "source": [
    "import numpy as np\n",
    "import pandas as pd\n",
    "import itertools\n",
    "import random\n",
    "from tqdm import tqdm\n",
    "\n",
    "from sklearn.discriminant_analysis import QuadraticDiscriminantAnalysis\n",
    "from sklearn.ensemble import AdaBoostClassifier, RandomForestClassifier\n",
    "from sklearn.gaussian_process import GaussianProcessClassifier\n",
    "from sklearn.gaussian_process.kernels import RBF\n",
    "from sklearn.inspection import DecisionBoundaryDisplay\n",
    "from sklearn.model_selection import train_test_split\n",
    "from sklearn.naive_bayes import GaussianNB\n",
    "from sklearn.neighbors import KNeighborsClassifier\n",
    "from sklearn.neural_network import MLPClassifier\n",
    "from sklearn.pipeline import make_pipeline\n",
    "from sklearn.preprocessing import StandardScaler\n",
    "from sklearn.svm import SVC\n",
    "from sklearn.tree import DecisionTreeClassifier\n",
    "\n",
    "import matplotlib.pyplot as plt"
   ]
  },
  {
   "cell_type": "code",
   "execution_count": 23,
   "outputs": [
    {
     "data": {
      "text/plain": "   cheat_flag  frame_count  session_id  score  combo  is_combo_going  \\\n0           0            1  8455078507      0      0               0   \n1           0            2  8455078507      0      0               0   \n2           0            3  8455078507      0      0               0   \n3           0            4  8455078507      0      0               0   \n4           0            5  8455078507      0      0               0   \n\n   time_left_seconds  can_dash        b1        b2        b3        b4  \n0          43.868229         1  2.999291  0.083167  2.992171  0.126076  \n1          43.851845         1  2.999809  0.097893  2.993055  0.121729  \n2          43.835456         1  2.999999  0.113775  2.993886  0.117455  \n3          43.819062         1  2.999863  0.130800  2.994664  0.113254  \n4          43.802663         1  2.999399  0.148953  2.995390  0.109127  ",
      "text/html": "<div>\n<style scoped>\n    .dataframe tbody tr th:only-of-type {\n        vertical-align: middle;\n    }\n\n    .dataframe tbody tr th {\n        vertical-align: top;\n    }\n\n    .dataframe thead th {\n        text-align: right;\n    }\n</style>\n<table border=\"1\" class=\"dataframe\">\n  <thead>\n    <tr style=\"text-align: right;\">\n      <th></th>\n      <th>cheat_flag</th>\n      <th>frame_count</th>\n      <th>session_id</th>\n      <th>score</th>\n      <th>combo</th>\n      <th>is_combo_going</th>\n      <th>time_left_seconds</th>\n      <th>can_dash</th>\n      <th>b1</th>\n      <th>b2</th>\n      <th>b3</th>\n      <th>b4</th>\n    </tr>\n  </thead>\n  <tbody>\n    <tr>\n      <th>0</th>\n      <td>0</td>\n      <td>1</td>\n      <td>8455078507</td>\n      <td>0</td>\n      <td>0</td>\n      <td>0</td>\n      <td>43.868229</td>\n      <td>1</td>\n      <td>2.999291</td>\n      <td>0.083167</td>\n      <td>2.992171</td>\n      <td>0.126076</td>\n    </tr>\n    <tr>\n      <th>1</th>\n      <td>0</td>\n      <td>2</td>\n      <td>8455078507</td>\n      <td>0</td>\n      <td>0</td>\n      <td>0</td>\n      <td>43.851845</td>\n      <td>1</td>\n      <td>2.999809</td>\n      <td>0.097893</td>\n      <td>2.993055</td>\n      <td>0.121729</td>\n    </tr>\n    <tr>\n      <th>2</th>\n      <td>0</td>\n      <td>3</td>\n      <td>8455078507</td>\n      <td>0</td>\n      <td>0</td>\n      <td>0</td>\n      <td>43.835456</td>\n      <td>1</td>\n      <td>2.999999</td>\n      <td>0.113775</td>\n      <td>2.993886</td>\n      <td>0.117455</td>\n    </tr>\n    <tr>\n      <th>3</th>\n      <td>0</td>\n      <td>4</td>\n      <td>8455078507</td>\n      <td>0</td>\n      <td>0</td>\n      <td>0</td>\n      <td>43.819062</td>\n      <td>1</td>\n      <td>2.999863</td>\n      <td>0.130800</td>\n      <td>2.994664</td>\n      <td>0.113254</td>\n    </tr>\n    <tr>\n      <th>4</th>\n      <td>0</td>\n      <td>5</td>\n      <td>8455078507</td>\n      <td>0</td>\n      <td>0</td>\n      <td>0</td>\n      <td>43.802663</td>\n      <td>1</td>\n      <td>2.999399</td>\n      <td>0.148953</td>\n      <td>2.995390</td>\n      <td>0.109127</td>\n    </tr>\n  </tbody>\n</table>\n</div>"
     },
     "execution_count": 23,
     "metadata": {},
     "output_type": "execute_result"
    }
   ],
   "source": [
    "fair_data = pd.read_csv(\"train_data/synthetic/fair_50-games.csv\").drop([\"Unnamed: 0\"], axis=1)\n",
    "fair_data.head()"
   ],
   "metadata": {
    "collapsed": false,
    "ExecuteTime": {
     "end_time": "2023-12-14T17:37:50.422778Z",
     "start_time": "2023-12-14T17:37:50.177653Z"
    }
   }
  },
  {
   "cell_type": "code",
   "execution_count": 24,
   "outputs": [
    {
     "data": {
      "text/plain": "   cheat_flag  frame_count  session_id  score  combo  is_combo_going  \\\n0           1            1  3066053919      0      0               0   \n1           1            2  3066053919      0      0               0   \n2           1            3  3066053919      0      0               0   \n3           1            4  3066053919      0      0               0   \n4           1            5  3066053919      0      0               0   \n\n   time_left_seconds  can_dash  b1  b2  b3  b4  \n0          41.244696         1   0   0   0   0  \n1          41.226906         1   0   0   0   0  \n2          41.209092         1   0   0   0   0  \n3          41.191254         1   0   0   0   0  \n4          41.173391         1   0   0   0   0  ",
      "text/html": "<div>\n<style scoped>\n    .dataframe tbody tr th:only-of-type {\n        vertical-align: middle;\n    }\n\n    .dataframe tbody tr th {\n        vertical-align: top;\n    }\n\n    .dataframe thead th {\n        text-align: right;\n    }\n</style>\n<table border=\"1\" class=\"dataframe\">\n  <thead>\n    <tr style=\"text-align: right;\">\n      <th></th>\n      <th>cheat_flag</th>\n      <th>frame_count</th>\n      <th>session_id</th>\n      <th>score</th>\n      <th>combo</th>\n      <th>is_combo_going</th>\n      <th>time_left_seconds</th>\n      <th>can_dash</th>\n      <th>b1</th>\n      <th>b2</th>\n      <th>b3</th>\n      <th>b4</th>\n    </tr>\n  </thead>\n  <tbody>\n    <tr>\n      <th>0</th>\n      <td>1</td>\n      <td>1</td>\n      <td>3066053919</td>\n      <td>0</td>\n      <td>0</td>\n      <td>0</td>\n      <td>41.244696</td>\n      <td>1</td>\n      <td>0</td>\n      <td>0</td>\n      <td>0</td>\n      <td>0</td>\n    </tr>\n    <tr>\n      <th>1</th>\n      <td>1</td>\n      <td>2</td>\n      <td>3066053919</td>\n      <td>0</td>\n      <td>0</td>\n      <td>0</td>\n      <td>41.226906</td>\n      <td>1</td>\n      <td>0</td>\n      <td>0</td>\n      <td>0</td>\n      <td>0</td>\n    </tr>\n    <tr>\n      <th>2</th>\n      <td>1</td>\n      <td>3</td>\n      <td>3066053919</td>\n      <td>0</td>\n      <td>0</td>\n      <td>0</td>\n      <td>41.209092</td>\n      <td>1</td>\n      <td>0</td>\n      <td>0</td>\n      <td>0</td>\n      <td>0</td>\n    </tr>\n    <tr>\n      <th>3</th>\n      <td>1</td>\n      <td>4</td>\n      <td>3066053919</td>\n      <td>0</td>\n      <td>0</td>\n      <td>0</td>\n      <td>41.191254</td>\n      <td>1</td>\n      <td>0</td>\n      <td>0</td>\n      <td>0</td>\n      <td>0</td>\n    </tr>\n    <tr>\n      <th>4</th>\n      <td>1</td>\n      <td>5</td>\n      <td>3066053919</td>\n      <td>0</td>\n      <td>0</td>\n      <td>0</td>\n      <td>41.173391</td>\n      <td>1</td>\n      <td>0</td>\n      <td>0</td>\n      <td>0</td>\n      <td>0</td>\n    </tr>\n  </tbody>\n</table>\n</div>"
     },
     "execution_count": 24,
     "metadata": {},
     "output_type": "execute_result"
    }
   ],
   "source": [
    "cheat_data = pd.read_csv(\"train_data/synthetic/cheat-1_no-cooldown_50-games.csv\").drop([\"Unnamed: 0\"], axis=1)\n",
    "cheat_data.head()"
   ],
   "metadata": {
    "collapsed": false,
    "ExecuteTime": {
     "end_time": "2023-12-14T17:37:51.440085Z",
     "start_time": "2023-12-14T17:37:51.339742Z"
    }
   }
  },
  {
   "cell_type": "code",
   "execution_count": 25,
   "outputs": [
    {
     "data": {
      "text/plain": "(491248, 10)"
     },
     "execution_count": 25,
     "metadata": {},
     "output_type": "execute_result"
    }
   ],
   "source": [
    "X = pd.concat([df.copy().drop([\"cheat_flag\", \"session_id\"], axis=1) for df in [fair_data, cheat_data]])\n",
    "X.shape"
   ],
   "metadata": {
    "collapsed": false,
    "ExecuteTime": {
     "end_time": "2023-12-14T17:39:06.901603Z",
     "start_time": "2023-12-14T17:39:06.814823Z"
    }
   }
  },
  {
   "cell_type": "code",
   "execution_count": 26,
   "outputs": [
    {
     "data": {
      "text/plain": "(491248,)"
     },
     "execution_count": 26,
     "metadata": {},
     "output_type": "execute_result"
    }
   ],
   "source": [
    "y = pd.concat([df[\"cheat_flag\"] for df in [fair_data, cheat_data]])\n",
    "y.shape"
   ],
   "metadata": {
    "collapsed": false,
    "ExecuteTime": {
     "end_time": "2023-12-14T17:39:32.786661Z",
     "start_time": "2023-12-14T17:39:32.771522Z"
    }
   }
  },
  {
   "cell_type": "code",
   "execution_count": 35,
   "outputs": [
    {
     "data": {
      "text/plain": "((294748, 10), (196500, 10), (294748,), (196500,))"
     },
     "execution_count": 35,
     "metadata": {},
     "output_type": "execute_result"
    }
   ],
   "source": [
    "X_train, X_test, y_train, y_test = train_test_split(\n",
    "    X, y, test_size=0.4, random_state=42\n",
    ")\n",
    "X_train.shape, X_test.shape, y_train.shape, y_test.shape"
   ],
   "metadata": {
    "collapsed": false,
    "ExecuteTime": {
     "end_time": "2023-12-14T17:44:48.199251Z",
     "start_time": "2023-12-14T17:44:48.128900Z"
    }
   }
  },
  {
   "cell_type": "code",
   "execution_count": 28,
   "outputs": [],
   "source": [
    "names = [\n",
    "    \"Nearest Neighbors\",\n",
    "    # \"Linear SVM\",\n",
    "    # \"RBF SVM\",\n",
    "    # \"Gaussian Process\",\n",
    "    \"Decision Tree\",\n",
    "    \"Random Forest\",\n",
    "    # \"Neural Net\",\n",
    "    \"AdaBoost\",\n",
    "    \"Naive Bayes\",\n",
    "    \"QDA\",\n",
    "]\n",
    "\n",
    "classifiers = [\n",
    "    KNeighborsClassifier(3),\n",
    "    # SVC(kernel=\"linear\", C=0.025, random_state=42),\n",
    "    # SVC(gamma=2, C=1, random_state=42),\n",
    "    # GaussianProcessClassifier(1.0 * RBF(1.0), random_state=42),\n",
    "    DecisionTreeClassifier(max_depth=5, random_state=42),\n",
    "    RandomForestClassifier(\n",
    "        max_depth=5, n_estimators=10, max_features=1, random_state=42\n",
    "    ),\n",
    "    # MLPClassifier(alpha=1, max_iter=1000, random_state=42),\n",
    "    AdaBoostClassifier(random_state=42),\n",
    "    GaussianNB(),\n",
    "    QuadraticDiscriminantAnalysis(),\n",
    "]"
   ],
   "metadata": {
    "collapsed": false,
    "ExecuteTime": {
     "end_time": "2023-12-14T17:39:36.547594Z",
     "start_time": "2023-12-14T17:39:36.543531Z"
    }
   }
  },
  {
   "cell_type": "code",
   "execution_count": 29,
   "outputs": [
    {
     "name": "stdout",
     "output_type": "stream",
     "text": [
      "Nearest Neighbors score: 0.999119592875318\n",
      "Decision Tree score: 1.0\n",
      "Random Forest score: 1.0\n",
      "AdaBoost score: 1.0\n",
      "Naive Bayes score: 1.0\n",
      "QDA score: 0.38525190839694656\n"
     ]
    },
    {
     "name": "stderr",
     "output_type": "stream",
     "text": [
      "/Users/alorthius/anaconda3/envs/big_data/lib/python3.10/site-packages/sklearn/discriminant_analysis.py:935: UserWarning: Variables are collinear\n",
      "  warnings.warn(\"Variables are collinear\")\n",
      "/Users/alorthius/anaconda3/envs/big_data/lib/python3.10/site-packages/sklearn/discriminant_analysis.py:960: RuntimeWarning: divide by zero encountered in power\n",
      "  X2 = np.dot(Xm, R * (S ** (-0.5)))\n",
      "/Users/alorthius/anaconda3/envs/big_data/lib/python3.10/site-packages/sklearn/discriminant_analysis.py:960: RuntimeWarning: invalid value encountered in multiply\n",
      "  X2 = np.dot(Xm, R * (S ** (-0.5)))\n",
      "/Users/alorthius/anaconda3/envs/big_data/lib/python3.10/site-packages/sklearn/discriminant_analysis.py:963: RuntimeWarning: divide by zero encountered in log\n",
      "  u = np.asarray([np.sum(np.log(s)) for s in self.scalings_])\n"
     ]
    }
   ],
   "source": [
    "# iterate over classifiers\n",
    "for name, clf in zip(names, classifiers):\n",
    "    clf.fit(X_train, y_train)\n",
    "    score = clf.score(X_test, y_test)\n",
    "    print(f\"{name} score: {score}\")\n"
   ],
   "metadata": {
    "collapsed": false,
    "ExecuteTime": {
     "end_time": "2023-12-14T17:39:51.226389Z",
     "start_time": "2023-12-14T17:39:36.548297Z"
    }
   }
  },
  {
   "cell_type": "code",
   "execution_count": 36,
   "outputs": [
    {
     "name": "stdout",
     "output_type": "stream",
     "text": [
      "Epoch [1/5], Loss: 0.035560306161642075\n",
      "Epoch [2/5], Loss: 0.04866434261202812\n",
      "Epoch [3/5], Loss: 0.013931037858128548\n",
      "Epoch [4/5], Loss: 0.0046037910506129265\n",
      "Epoch [5/5], Loss: 0.0002790148719213903\n"
     ]
    }
   ],
   "source": [
    "import torch\n",
    "import torch.nn as nn\n",
    "import torch.optim as optim\n",
    "from torch.utils.data import TensorDataset, DataLoader\n",
    "\n",
    "# Assuming X_train is a numpy array of shape (X, 10)\n",
    "# and y_train is a numpy array of shape (X,)\n",
    "X_train = torch.FloatTensor(X_train.to_numpy())\n",
    "y_train = torch.LongTensor(y_train.to_numpy())\n",
    "\n",
    "# Hyperparameters\n",
    "input_size = 10\n",
    "hidden_size = 50\n",
    "output_size = 2\n",
    "num_layers = 1\n",
    "batch_size = 64\n",
    "learning_rate = 0.001\n",
    "num_epochs = 5\n",
    "\n",
    "# Define the LSTM model\n",
    "class LSTMModel(nn.Module):\n",
    "    def __init__(self, input_size, hidden_size, output_size, num_layers):\n",
    "        super(LSTMModel, self).__init__()\n",
    "        self.lstm = nn.LSTM(input_size, hidden_size, num_layers, batch_first=True)\n",
    "        self.fc = nn.Linear(hidden_size, output_size)\n",
    "\n",
    "    def forward(self, x):\n",
    "        out, _ = self.lstm(x)\n",
    "        out = self.fc(out[:, -1, :])  # Take the output from the last time step\n",
    "        return out\n",
    "\n",
    "# Instantiate the model, loss function, and optimizer\n",
    "model = LSTMModel(input_size, hidden_size, output_size, num_layers)\n",
    "criterion = nn.CrossEntropyLoss()\n",
    "optimizer = optim.Adam(model.parameters(), lr=learning_rate)\n",
    "\n",
    "# Prepare DataLoader\n",
    "dataset = TensorDataset(X_train.unsqueeze(1), y_train)\n",
    "dataloader = DataLoader(dataset, batch_size=batch_size, shuffle=True)\n",
    "\n",
    "# Training loop\n",
    "for epoch in range(num_epochs):\n",
    "    for inputs, labels in dataloader:\n",
    "        optimizer.zero_grad()\n",
    "        outputs = model(inputs)\n",
    "        loss = criterion(outputs, labels)\n",
    "        loss.backward()\n",
    "        optimizer.step()\n",
    "\n",
    "    print(f'Epoch [{epoch+1}/{num_epochs}], Loss: {loss.item()}')\n",
    "\n",
    "# Now you can use the trained model for prediction or further evaluation\n"
   ],
   "metadata": {
    "collapsed": false,
    "ExecuteTime": {
     "end_time": "2023-12-14T17:45:12.826289Z",
     "start_time": "2023-12-14T17:44:51.574119Z"
    }
   }
  },
  {
   "cell_type": "code",
   "execution_count": 39,
   "outputs": [
    {
     "data": {
      "text/plain": "1.0"
     },
     "execution_count": 39,
     "metadata": {},
     "output_type": "execute_result"
    }
   ],
   "source": [
    "model.eval()\n",
    "running_corrects = 0\n",
    "\n",
    "with torch.no_grad():\n",
    "\n",
    "    for inputs, labels in dataloader:\n",
    "        outputs = model(inputs)\n",
    "        _, preds = torch.max(outputs, 1)\n",
    "\n",
    "        running_corrects += torch.sum(preds == labels).item()\n",
    "\n",
    "running_corrects / len(dataset)"
   ],
   "metadata": {
    "collapsed": false,
    "ExecuteTime": {
     "end_time": "2023-12-14T17:48:19.716953Z",
     "start_time": "2023-12-14T17:48:17.248146Z"
    }
   }
  }
 ],
 "metadata": {
  "kernelspec": {
   "display_name": "Python 3",
   "language": "python",
   "name": "python3"
  },
  "language_info": {
   "codemirror_mode": {
    "name": "ipython",
    "version": 2
   },
   "file_extension": ".py",
   "mimetype": "text/x-python",
   "name": "python",
   "nbconvert_exporter": "python",
   "pygments_lexer": "ipython2",
   "version": "2.7.6"
  }
 },
 "nbformat": 4,
 "nbformat_minor": 0
}
