{
 "cells": [
  {
   "cell_type": "code",
   "execution_count": 34,
   "metadata": {
    "collapsed": true,
    "ExecuteTime": {
     "end_time": "2023-12-15T11:43:28.724888Z",
     "start_time": "2023-12-15T11:43:28.627987Z"
    }
   },
   "outputs": [],
   "source": [
    "import numpy as np\n",
    "import pandas as pd\n",
    "import itertools\n",
    "import random\n",
    "from tqdm import tqdm\n",
    "from ast import literal_eval\n",
    "import time\n",
    "\n",
    "from sklearn.discriminant_analysis import QuadraticDiscriminantAnalysis\n",
    "from sklearn.ensemble import AdaBoostClassifier, RandomForestClassifier\n",
    "from sklearn.gaussian_process import GaussianProcessClassifier\n",
    "from sklearn.gaussian_process.kernels import RBF\n",
    "from sklearn.inspection import DecisionBoundaryDisplay\n",
    "from sklearn.model_selection import train_test_split\n",
    "from sklearn.naive_bayes import GaussianNB\n",
    "from sklearn.neighbors import KNeighborsClassifier\n",
    "from sklearn.neural_network import MLPClassifier\n",
    "from sklearn.pipeline import make_pipeline\n",
    "from sklearn.preprocessing import StandardScaler\n",
    "from sklearn.svm import SVC\n",
    "from sklearn.tree import DecisionTreeClassifier\n",
    "\n",
    "import torch\n",
    "import torch.nn as nn\n",
    "import torch.optim as optim\n",
    "from torch.utils.data import TensorDataset, DataLoader\n",
    "from torch.autograd import Variable\n",
    "import joblib\n",
    "device = torch.device(\"cpu\")\n",
    "\n",
    "import matplotlib.pyplot as plt"
   ]
  },
  {
   "cell_type": "code",
   "execution_count": 35,
   "outputs": [],
   "source": [
    "plt.style.use('seaborn-v0_8')\n",
    "plt.rcParams[\"grid.linestyle\"] = \"--\"\n",
    "\n",
    "plt.rcParams['legend.frameon'] = True\n",
    "plt.rcParams['legend.shadow'] = True\n",
    "plt.rcParams['legend.facecolor'] = \"lavender\""
   ],
   "metadata": {
    "collapsed": false,
    "ExecuteTime": {
     "end_time": "2023-12-15T11:43:28.725160Z",
     "start_time": "2023-12-15T11:43:28.636223Z"
    }
   }
  },
  {
   "cell_type": "code",
   "execution_count": 36,
   "outputs": [],
   "source": [
    "config_dict_1 = {\n",
    "    0: \"fair\",\n",
    "    1: \"cheat-1_no-cooldown\",\n",
    "    2: \"cheat-2_no-dash\",\n",
    "    3: \"cheat-3_inf-slowmo\",\n",
    "    4: \"cheat-4_huge-damage\",\n",
    "    5: \"cheat-5_frozen-ninja\",\n",
    "}\n",
    "\n",
    "config_dict_2 = {\n",
    "    0: \"fair_new\",\n",
    "    1: \"cheat-1_new\",\n",
    "    2: \"cheat-2_new\",\n",
    "    3: \"cheat-3_new\",\n",
    "    4: \"cheat-4_new\",\n",
    "    5: \"cheat-5_new\",\n",
    "}"
   ],
   "metadata": {
    "collapsed": false,
    "ExecuteTime": {
     "end_time": "2023-12-15T11:43:28.725207Z",
     "start_time": "2023-12-15T11:43:28.642317Z"
    }
   }
  },
  {
   "cell_type": "code",
   "execution_count": 37,
   "outputs": [],
   "source": [
    "def preprocess_gt_csv(data_name):\n",
    "    filename = f\"train_data/gt/{data_name}.csv\"\n",
    "\n",
    "    columns_to_eval = [\n",
    "        \"global_mouse_position\",\n",
    "        \"button_cooldown_times\",\n",
    "        \"logical_frames_since_last_button_press\",\n",
    "        \"global_position\",\n",
    "        \"velocity\",\n",
    "        \"fruits_cut_this_frame_list\",\n",
    "        \"fruits_hit_ninjas_ass_this_frame_list\",\n",
    "        \"fruits_on_screen_this_frame_list\",\n",
    "        \"fruits_spawned_this_frame_list\",\n",
    "        \"stupid_fucking_fruits_that_died_this_frame_list\",\n",
    "    ]\n",
    "\n",
    "    df = pd.read_csv(filename, converters={column: literal_eval for column in columns_to_eval})\n",
    "\n",
    "    df[\"fruits_spawned_num\"] = df[\"fruits_spawned_this_frame_list\"].str.len()\n",
    "    df[\"fruits_on_screen_num\"] = df[\"fruits_on_screen_this_frame_list\"].str.len()\n",
    "    df[\"fruits_hit_num\"] = df[\"fruits_hit_ninjas_ass_this_frame_list\"].str.len()\n",
    "    df[\"fruits_missed_num\"] = df[\"stupid_fucking_fruits_that_died_this_frame_list\"].str.len()\n",
    "\n",
    "    projectiles = [\"Apple\", \"Banana\", \"Grape\", \"Pineapple\", \"Watermelon\", \"Coconut\", \"Cherry\"]\n",
    "\n",
    "    df[\"fruit_name_spawned\"] = df[\"fruits_spawned_this_frame_list\"].apply(lambda x: projectiles.index(x[0][\"name\"]) if len(x) != 0 else -1)\n",
    "\n",
    "    for butt in [\"b1\", \"b2\", \"b3\", \"b4\"]:\n",
    "        df[butt] = df[\"button_cooldown_times\"].apply(lambda j: j[butt])\n",
    "\n",
    "    general_needed = [\n",
    "        \"cheat_flag\",\n",
    "        \"frame_count\",\n",
    "        \"session_id\",\n",
    "        \"score\",\n",
    "        \"combo\",\n",
    "        \"is_combo_going\",\n",
    "        \"time_left_seconds\",\n",
    "        \"can_dash\",\n",
    "    ]\n",
    "    buttons_needed = [\n",
    "        \"b1\", \"b2\", \"b3\", \"b4\",\n",
    "    ]\n",
    "\n",
    "    df = df[general_needed + buttons_needed]\n",
    "    df[general_needed] = df[general_needed].astype(int)\n",
    "\n",
    "    if data_name == \"cheat-4_huge-damage\":  # its too fucking huge\n",
    "        df[\"score\"] *= 0.0001\n",
    "\n",
    "    return df"
   ],
   "metadata": {
    "collapsed": false,
    "ExecuteTime": {
     "end_time": "2023-12-15T11:43:28.725240Z",
     "start_time": "2023-12-15T11:43:28.653146Z"
    }
   }
  },
  {
   "cell_type": "code",
   "execution_count": 38,
   "outputs": [],
   "source": [
    "def preprocess_synthetic_csv(data_name):\n",
    "    filename = f\"train_data/synthetic/{data_name}_50-games.csv\"\n",
    "    df = pd.read_csv(filename).drop([\"Unnamed: 0\"], axis=1)\n",
    "    return df"
   ],
   "metadata": {
    "collapsed": false,
    "ExecuteTime": {
     "end_time": "2023-12-15T11:43:28.725269Z",
     "start_time": "2023-12-15T11:43:28.658033Z"
    }
   }
  },
  {
   "cell_type": "code",
   "execution_count": 39,
   "outputs": [
    {
     "data": {
      "text/plain": "((1979694, 10), (1979694,))"
     },
     "execution_count": 39,
     "metadata": {},
     "output_type": "execute_result"
    }
   ],
   "source": [
    "synthetic_data = pd.concat([preprocess_synthetic_csv(data_name) for data_name in config_dict_1.values()])\n",
    "\n",
    "X_synthetic = synthetic_data.drop([\"cheat_flag\", \"session_id\"], axis=1)\n",
    "y_synthetic = synthetic_data[\"cheat_flag\"]\n",
    "\n",
    "X_synthetic.shape, y_synthetic.shape"
   ],
   "metadata": {
    "collapsed": false,
    "ExecuteTime": {
     "end_time": "2023-12-15T11:43:30.362288Z",
     "start_time": "2023-12-15T11:43:28.660202Z"
    }
   }
  },
  {
   "cell_type": "code",
   "execution_count": 40,
   "outputs": [
    {
     "data": {
      "text/plain": "((373128, 10), (373128,))"
     },
     "execution_count": 40,
     "metadata": {},
     "output_type": "execute_result"
    }
   ],
   "source": [
    "gt_data_1 = pd.concat([preprocess_gt_csv(data_name) for data_name in config_dict_1.values()])\n",
    "gt_data_2 = pd.concat([preprocess_gt_csv(data_name) for data_name in config_dict_2.values()])\n",
    "gt_data = pd.concat([gt_data_1, gt_data_2])\n",
    "\n",
    "X_gt = gt_data.drop([\"cheat_flag\", \"session_id\"], axis=1)\n",
    "y_gt = gt_data[\"cheat_flag\"]\n",
    "\n",
    "X_gt.shape, y_gt.shape"
   ],
   "metadata": {
    "collapsed": false,
    "ExecuteTime": {
     "end_time": "2023-12-15T11:44:16.632043Z",
     "start_time": "2023-12-15T11:43:30.364382Z"
    }
   }
  },
  {
   "cell_type": "code",
   "execution_count": 41,
   "outputs": [
    {
     "data": {
      "text/plain": "<Figure size 800x550 with 1 Axes>",
      "image/png": "[encoded data removed]"
     },
     "metadata": {},
     "output_type": "display_data"
    }
   ],
   "source": [
    "plt.hist(y_synthetic, bins=len(config_dict_1), rwidth=0.8);"
   ],
   "metadata": {
    "collapsed": false,
    "ExecuteTime": {
     "end_time": "2023-12-15T11:44:16.750633Z",
     "start_time": "2023-12-15T11:44:16.650610Z"
    }
   }
  },
  {
   "cell_type": "code",
   "execution_count": 42,
   "outputs": [
    {
     "data": {
      "text/plain": "(301912, 0.1525043769390623)"
     },
     "execution_count": 42,
     "metadata": {},
     "output_type": "execute_result"
    }
   ],
   "source": [
    "fair_synth = np.sum(y_synthetic == 0)\n",
    "fair_gt = np.sum(y_gt == 0)\n",
    "\n",
    "fair_synth, fair_synth / len(y_synthetic)"
   ],
   "metadata": {
    "collapsed": false,
    "ExecuteTime": {
     "end_time": "2023-12-15T11:44:16.756291Z",
     "start_time": "2023-12-15T11:44:16.750771Z"
    }
   }
  },
  {
   "cell_type": "code",
   "execution_count": 43,
   "outputs": [
    {
     "data": {
      "text/plain": "(60382, 12313)"
     },
     "execution_count": 43,
     "metadata": {},
     "output_type": "execute_result"
    }
   ],
   "source": [
    "cheat_synth = int(fair_synth / 5)\n",
    "cheat_gt = int(fair_gt / 5)\n",
    "cheat_synth, cheat_gt"
   ],
   "metadata": {
    "collapsed": false,
    "ExecuteTime": {
     "end_time": "2023-12-15T11:44:16.763362Z",
     "start_time": "2023-12-15T11:44:16.756382Z"
    }
   }
  },
  {
   "cell_type": "code",
   "execution_count": 44,
   "outputs": [],
   "source": [
    "def preprocess_normed_synthetic_csv(data_name):\n",
    "    df = preprocess_synthetic_csv(data_name)\n",
    "    if data_name != \"fair\":\n",
    "        df = df.sample(n=cheat_synth)\n",
    "        df[\"cheat_flag\"] = 1\n",
    "    return df\n",
    "\n",
    "def preprocess_normed_gt_csv(data_name):\n",
    "    df = preprocess_gt_csv(data_name)\n",
    "    if data_name != \"fair\":\n",
    "        df = df.sample(n=cheat_gt)\n",
    "        df[\"cheat_flag\"] = 1\n",
    "    return df"
   ],
   "metadata": {
    "collapsed": false,
    "ExecuteTime": {
     "end_time": "2023-12-15T11:44:16.765933Z",
     "start_time": "2023-12-15T11:44:16.761786Z"
    }
   }
  },
  {
   "cell_type": "code",
   "execution_count": 45,
   "outputs": [
    {
     "data": {
      "text/plain": "((603822, 10), (603822,))"
     },
     "execution_count": 45,
     "metadata": {},
     "output_type": "execute_result"
    }
   ],
   "source": [
    "synthetic_data = pd.concat([preprocess_normed_synthetic_csv(data_name) for data_name in config_dict_1.values()])\n",
    "\n",
    "X_synthetic = synthetic_data.drop([\"cheat_flag\", \"session_id\"], axis=1)\n",
    "y_synthetic = synthetic_data[\"cheat_flag\"]\n",
    "\n",
    "X_synthetic.shape, y_synthetic.shape"
   ],
   "metadata": {
    "collapsed": false,
    "ExecuteTime": {
     "end_time": "2023-12-15T11:44:18.206226Z",
     "start_time": "2023-12-15T11:44:16.766043Z"
    }
   }
  },
  {
   "cell_type": "code",
   "execution_count": 46,
   "outputs": [
    {
     "data": {
      "text/plain": "((174977, 10), (174977,))"
     },
     "execution_count": 46,
     "metadata": {},
     "output_type": "execute_result"
    }
   ],
   "source": [
    "gt_data_1 = pd.concat([preprocess_normed_gt_csv(data_name) for data_name in config_dict_1.values()])\n",
    "gt_data_2 = pd.concat([preprocess_normed_gt_csv(data_name) for data_name in config_dict_2.values()])\n",
    "gt_data = pd.concat([gt_data_1, gt_data_2])\n",
    "\n",
    "X_gt = gt_data.drop([\"cheat_flag\", \"session_id\"], axis=1)\n",
    "y_gt = gt_data[\"cheat_flag\"]\n",
    "\n",
    "X_gt.shape, y_gt.shape"
   ],
   "metadata": {
    "collapsed": false,
    "ExecuteTime": {
     "end_time": "2023-12-15T11:45:01.156131Z",
     "start_time": "2023-12-15T11:44:18.208278Z"
    }
   }
  },
  {
   "cell_type": "code",
   "execution_count": 51,
   "outputs": [
    {
     "data": {
      "text/plain": "((647566, 10), (647566,), (131233, 10), (131233,))"
     },
     "execution_count": 51,
     "metadata": {},
     "output_type": "execute_result"
    }
   ],
   "source": [
    "mix_num = len(X_gt) // 4\n",
    "\n",
    "gt_idx = np.random.choice(len(X_gt), replace=False, size=mix_num)\n",
    "\n",
    "gt_rest = [i for i in np.arange(len(X_gt)) if i not in gt_idx]\n",
    "\n",
    "X_train_mixed = pd.concat([X_synthetic, X_gt.iloc[gt_idx]])\n",
    "y_train_mixed = pd.concat([y_synthetic, y_gt.iloc[gt_idx]])\n",
    "\n",
    "X_test = X_gt.iloc[gt_rest]\n",
    "y_test = y_gt.iloc[gt_rest]\n",
    "\n",
    "X_train_mixed.shape, y_train_mixed.shape, X_test.shape, y_test.shape"
   ],
   "metadata": {
    "collapsed": false,
    "ExecuteTime": {
     "end_time": "2023-12-15T11:49:27.916375Z",
     "start_time": "2023-12-15T11:49:26.140315Z"
    }
   }
  },
  {
   "cell_type": "code",
   "execution_count": 52,
   "outputs": [],
   "source": [
    "train_set = TensorDataset(\n",
    "    torch.FloatTensor(X_train_mixed.to_numpy()).unsqueeze(1),\n",
    "    torch.LongTensor(y_train_mixed.to_numpy()),\n",
    ")\n",
    "train_loader = DataLoader(train_set, batch_size=6_000, shuffle=True)\n",
    "\n",
    "test_set = TensorDataset(\n",
    "    torch.FloatTensor(X_test.to_numpy()).unsqueeze(1),\n",
    "    torch.LongTensor(y_test.to_numpy()),\n",
    ")\n",
    "test_loader = DataLoader(test_set, batch_size=6_000, shuffle=True)"
   ],
   "metadata": {
    "collapsed": false,
    "ExecuteTime": {
     "end_time": "2023-12-15T11:49:27.957672Z",
     "start_time": "2023-12-15T11:49:27.917889Z"
    }
   }
  },
  {
   "cell_type": "code",
   "execution_count": 53,
   "outputs": [],
   "source": [
    "names = [\n",
    "    \"Decision Tree\",\n",
    "    \"Random Forest\",\n",
    "    \"Gaussian Naive Bayes\",\n",
    "]\n",
    "\n",
    "classifiers = [\n",
    "    DecisionTreeClassifier( random_state=42),\n",
    "    RandomForestClassifier(random_state=42),\n",
    "    GaussianNB(),\n",
    "]"
   ],
   "metadata": {
    "collapsed": false,
    "ExecuteTime": {
     "end_time": "2023-12-15T11:49:27.964195Z",
     "start_time": "2023-12-15T11:49:27.956177Z"
    }
   }
  },
  {
   "cell_type": "code",
   "execution_count": 54,
   "outputs": [
    {
     "name": "stdout",
     "output_type": "stream",
     "text": [
      "Decision Tree model:\n"
     ]
    },
    {
     "name": "stderr",
     "output_type": "stream",
     "text": [
      "100%|██████████| 108/108 [00:07<00:00, 13.56it/s]\n",
      "100%|██████████| 22/22 [00:00<00:00, 29.27it/s]\n"
     ]
    },
    {
     "name": "stdout",
     "output_type": "stream",
     "text": [
      "Train time: 8.0 sec,  Train score: 1.000,  Gt score: [ 0.825 ]\n",
      "------------------------------------------------------------------------------------------------------------------------------------------------------\n",
      "Random Forest model:\n"
     ]
    },
    {
     "name": "stderr",
     "output_type": "stream",
     "text": [
      "100%|██████████| 108/108 [02:01<00:00,  1.12s/it]\n",
      "100%|██████████| 22/22 [00:01<00:00, 13.02it/s]\n"
     ]
    },
    {
     "name": "stdout",
     "output_type": "stream",
     "text": [
      "Train time: 121.2 sec,  Train score: 1.000,  Gt score: [ 0.837 ]\n",
      "------------------------------------------------------------------------------------------------------------------------------------------------------\n",
      "Gaussian Naive Bayes model:\n"
     ]
    },
    {
     "name": "stderr",
     "output_type": "stream",
     "text": [
      "100%|██████████| 108/108 [00:04<00:00, 26.48it/s]\n",
      "100%|██████████| 22/22 [00:00<00:00, 28.66it/s]"
     ]
    },
    {
     "name": "stdout",
     "output_type": "stream",
     "text": [
      "Train time: 4.1 sec,  Train score: 0.556,  Gt score: [ 0.375 ]\n",
      "------------------------------------------------------------------------------------------------------------------------------------------------------\n"
     ]
    },
    {
     "name": "stderr",
     "output_type": "stream",
     "text": [
      "\n"
     ]
    }
   ],
   "source": [
    "for name, clf in zip(names, classifiers):\n",
    "    print(f\"{name} model:\")\n",
    "\n",
    "    train_acc = 0\n",
    "    start = time.time()\n",
    "\n",
    "    for X, y in tqdm(train_loader):\n",
    "        clf.fit(X.numpy().squeeze(), y.numpy())\n",
    "        train_acc += clf.score(X.numpy().squeeze(), y.numpy())\n",
    "\n",
    "    end = time.time()\n",
    "    train_acc /= len(train_loader)\n",
    "\n",
    "    test_acc = 0\n",
    "    for X, y in tqdm(test_loader):\n",
    "        test_acc += clf.score(X.numpy().squeeze(), y.numpy())\n",
    "    test_acc /= len(test_loader)\n",
    "\n",
    "    # snake_case_name = \"_\".join(name.lower().split(\" \"))\n",
    "    # joblib.dump(clf, f\"../microservices/DataManager/weights/binary_more/{snake_case_name}.joblib\")\n",
    "    # print(f\"Saved model.\")\n",
    "\n",
    "    print(f\"Train time: {(end - start):.1f} sec,  Train score: {train_acc:.3f},  Gt score: [ {test_acc:.3f} ]\")\n",
    "    print(\"-\" * 150)"
   ],
   "metadata": {
    "collapsed": false,
    "ExecuteTime": {
     "end_time": "2023-12-15T11:51:45.699403Z",
     "start_time": "2023-12-15T11:49:29.249908Z"
    }
   }
  },
  {
   "cell_type": "code",
   "execution_count": 29,
   "outputs": [],
   "source": [
    "input_size = 10\n",
    "hidden_size = 50\n",
    "output_size = 2\n",
    "num_layers = 1\n",
    "\n",
    "learning_rate = 0.001\n",
    "num_epochs = 50\n",
    "batch_size = 60"
   ],
   "metadata": {
    "collapsed": false,
    "ExecuteTime": {
     "end_time": "2023-12-15T11:13:58.948375Z",
     "start_time": "2023-12-15T11:13:58.947198Z"
    }
   }
  },
  {
   "cell_type": "code",
   "execution_count": 30,
   "outputs": [
    {
     "name": "stderr",
     "output_type": "stream",
     "text": [
      "/Users/alorthius/anaconda3/envs/big_data/lib/python3.10/site-packages/torch/nn/modules/rnn.py:82: UserWarning: dropout option adds dropout after all but last recurrent layer, so non-zero dropout expects num_layers greater than 1, but got dropout=0.5 and num_layers=1\n",
      "  warnings.warn(\"dropout option adds dropout after all but last \"\n"
     ]
    }
   ],
   "source": [
    "from microservices.DataManager.models.lstm import LSTMModel, LSTM2\n",
    "\n",
    "model = LSTM2(input_size, hidden_size, output_size, num_layers)\n",
    "criterion = nn.CrossEntropyLoss()\n",
    "optimizer = optim.Adam(model.parameters(), lr=0.001, weight_decay=1e-5)\n",
    "scheduler = optim.lr_scheduler.ReduceLROnPlateau(optimizer, mode=\"max\", patience=5, threshold=1, factor=0.8, threshold_mode=\"abs\", min_lr=0.000005, verbose=True)"
   ],
   "metadata": {
    "collapsed": false,
    "ExecuteTime": {
     "end_time": "2023-12-15T11:13:59.155499Z",
     "start_time": "2023-12-15T11:13:58.949225Z"
    }
   }
  },
  {
   "cell_type": "code",
   "execution_count": 31,
   "outputs": [
    {
     "name": "stderr",
     "output_type": "stream",
     "text": [
      "100%|██████████| 108/108 [00:06<00:00, 16.68it/s]\n"
     ]
    },
    {
     "name": "stdout",
     "output_type": "stream",
     "text": [
      "[ Train    1/50 ] loss: 0.6406, accuracy: [ 62.2406% ]\n",
      "[ Gt         1/50 ], accuracy: [ 64.6331% ]\n",
      "------------------------------------------------------------------------------------------------------------------------------------------------------\n"
     ]
    },
    {
     "name": "stderr",
     "output_type": "stream",
     "text": [
      "100%|██████████| 108/108 [00:06<00:00, 16.38it/s]\n"
     ]
    },
    {
     "name": "stdout",
     "output_type": "stream",
     "text": [
      "[ Train    2/50 ] loss: 0.5460, accuracy: [ 71.5807% ]\n",
      "[ Gt         2/50 ], accuracy: [ 69.7546% ]\n",
      "------------------------------------------------------------------------------------------------------------------------------------------------------\n"
     ]
    },
    {
     "name": "stderr",
     "output_type": "stream",
     "text": [
      "100%|██████████| 108/108 [00:06<00:00, 16.54it/s]\n"
     ]
    },
    {
     "name": "stdout",
     "output_type": "stream",
     "text": [
      "[ Train    3/50 ] loss: 0.5277, accuracy: [ 72.9638% ]\n",
      "[ Gt         3/50 ], accuracy: [ 68.3837% ]\n",
      "------------------------------------------------------------------------------------------------------------------------------------------------------\n"
     ]
    },
    {
     "name": "stderr",
     "output_type": "stream",
     "text": [
      "100%|██████████| 108/108 [00:06<00:00, 16.11it/s]\n"
     ]
    },
    {
     "name": "stdout",
     "output_type": "stream",
     "text": [
      "[ Train    4/50 ] loss: 0.5302, accuracy: [ 72.3168% ]\n",
      "[ Gt         4/50 ], accuracy: [ 70.8557% ]\n",
      "------------------------------------------------------------------------------------------------------------------------------------------------------\n"
     ]
    },
    {
     "name": "stderr",
     "output_type": "stream",
     "text": [
      "100%|██████████| 108/108 [00:06<00:00, 16.50it/s]\n"
     ]
    },
    {
     "name": "stdout",
     "output_type": "stream",
     "text": [
      "[ Train    5/50 ] loss: 0.5122, accuracy: [ 74.4071% ]\n",
      "[ Gt         5/50 ], accuracy: [ 69.1937% ]\n",
      "------------------------------------------------------------------------------------------------------------------------------------------------------\n"
     ]
    },
    {
     "name": "stderr",
     "output_type": "stream",
     "text": [
      "100%|██████████| 108/108 [00:06<00:00, 17.02it/s]\n"
     ]
    },
    {
     "name": "stdout",
     "output_type": "stream",
     "text": [
      "[ Train    6/50 ] loss: 0.5049, accuracy: [ 74.8935% ]\n",
      "[ Gt         6/50 ], accuracy: [ 68.6268% ]\n",
      "------------------------------------------------------------------------------------------------------------------------------------------------------\n"
     ]
    },
    {
     "name": "stderr",
     "output_type": "stream",
     "text": [
      "100%|██████████| 108/108 [00:06<00:00, 17.17it/s]\n"
     ]
    },
    {
     "name": "stdout",
     "output_type": "stream",
     "text": [
      "[ Train    7/50 ] loss: 0.4980, accuracy: [ 75.2885% ]\n",
      "[ Gt         7/50 ], accuracy: [ 67.6316% ]\n",
      "------------------------------------------------------------------------------------------------------------------------------------------------------\n"
     ]
    },
    {
     "name": "stderr",
     "output_type": "stream",
     "text": [
      "100%|██████████| 108/108 [00:06<00:00, 16.56it/s]\n"
     ]
    },
    {
     "name": "stdout",
     "output_type": "stream",
     "text": [
      "[ Train    8/50 ] loss: 0.4791, accuracy: [ 76.4157% ]\n",
      "[ Gt         8/50 ], accuracy: [ 65.6847% ]\n",
      "------------------------------------------------------------------------------------------------------------------------------------------------------\n"
     ]
    },
    {
     "name": "stderr",
     "output_type": "stream",
     "text": [
      "100%|██████████| 108/108 [00:06<00:00, 16.25it/s]\n"
     ]
    },
    {
     "name": "stdout",
     "output_type": "stream",
     "text": [
      "[ Train    9/50 ] loss: 0.4685, accuracy: [ 77.0864% ]\n",
      "[ Gt         9/50 ], accuracy: [ 67.5158% ]\n",
      "------------------------------------------------------------------------------------------------------------------------------------------------------\n"
     ]
    },
    {
     "name": "stderr",
     "output_type": "stream",
     "text": [
      "100%|██████████| 108/108 [00:06<00:00, 16.43it/s]\n"
     ]
    },
    {
     "name": "stdout",
     "output_type": "stream",
     "text": [
      "[ Train    10/50 ] loss: 0.4504, accuracy: [ 78.4255% ]\n",
      "[ Gt         10/50 ], accuracy: [ 65.0301% ]\n",
      "------------------------------------------------------------------------------------------------------------------------------------------------------\n",
      "Epoch 00010: reducing learning rate of group 0 to 8.0000e-04.\n"
     ]
    },
    {
     "name": "stderr",
     "output_type": "stream",
     "text": [
      "100%|██████████| 108/108 [00:06<00:00, 16.37it/s]\n"
     ]
    },
    {
     "name": "stdout",
     "output_type": "stream",
     "text": [
      "[ Train    11/50 ] loss: 0.4328, accuracy: [ 79.5689% ]\n",
      "[ Gt         11/50 ], accuracy: [ 66.9412% ]\n",
      "------------------------------------------------------------------------------------------------------------------------------------------------------\n"
     ]
    },
    {
     "name": "stderr",
     "output_type": "stream",
     "text": [
      "100%|██████████| 108/108 [00:06<00:00, 16.64it/s]\n"
     ]
    },
    {
     "name": "stdout",
     "output_type": "stream",
     "text": [
      "[ Train    12/50 ] loss: 0.4231, accuracy: [ 79.9986% ]\n",
      "[ Gt         12/50 ], accuracy: [ 66.4261% ]\n",
      "------------------------------------------------------------------------------------------------------------------------------------------------------\n"
     ]
    },
    {
     "name": "stderr",
     "output_type": "stream",
     "text": [
      "100%|██████████| 108/108 [00:06<00:00, 16.63it/s]\n"
     ]
    },
    {
     "name": "stdout",
     "output_type": "stream",
     "text": [
      "[ Train    13/50 ] loss: 0.4245, accuracy: [ 79.4575% ]\n",
      "[ Gt         13/50 ], accuracy: [ 66.0413% ]\n",
      "------------------------------------------------------------------------------------------------------------------------------------------------------\n"
     ]
    },
    {
     "name": "stderr",
     "output_type": "stream",
     "text": [
      "100%|██████████| 108/108 [00:06<00:00, 16.30it/s]\n"
     ]
    },
    {
     "name": "stdout",
     "output_type": "stream",
     "text": [
      "[ Train    14/50 ] loss: 0.4075, accuracy: [ 80.4465% ]\n",
      "[ Gt         14/50 ], accuracy: [ 64.8153% ]\n",
      "------------------------------------------------------------------------------------------------------------------------------------------------------\n"
     ]
    },
    {
     "name": "stderr",
     "output_type": "stream",
     "text": [
      "100%|██████████| 108/108 [00:06<00:00, 16.53it/s]\n"
     ]
    },
    {
     "name": "stdout",
     "output_type": "stream",
     "text": [
      "[ Train    15/50 ] loss: 0.4427, accuracy: [ 78.8174% ]\n",
      "[ Gt         15/50 ], accuracy: [ 61.8107% ]\n",
      "------------------------------------------------------------------------------------------------------------------------------------------------------\n"
     ]
    },
    {
     "name": "stderr",
     "output_type": "stream",
     "text": [
      "100%|██████████| 108/108 [00:06<00:00, 16.47it/s]\n"
     ]
    },
    {
     "name": "stdout",
     "output_type": "stream",
     "text": [
      "[ Train    16/50 ] loss: 0.4572, accuracy: [ 78.7319% ]\n",
      "[ Gt         16/50 ], accuracy: [ 64.8937% ]\n",
      "------------------------------------------------------------------------------------------------------------------------------------------------------\n",
      "Epoch 00016: reducing learning rate of group 0 to 6.4000e-04.\n"
     ]
    },
    {
     "name": "stderr",
     "output_type": "stream",
     "text": [
      "100%|██████████| 108/108 [00:06<00:00, 15.56it/s]\n"
     ]
    },
    {
     "name": "stdout",
     "output_type": "stream",
     "text": [
      "[ Train    17/50 ] loss: 0.4234, accuracy: [ 80.0596% ]\n",
      "[ Gt         17/50 ], accuracy: [ 67.2361% ]\n",
      "------------------------------------------------------------------------------------------------------------------------------------------------------\n"
     ]
    },
    {
     "name": "stderr",
     "output_type": "stream",
     "text": [
      "100%|██████████| 108/108 [00:07<00:00, 14.89it/s]\n"
     ]
    },
    {
     "name": "stdout",
     "output_type": "stream",
     "text": [
      "[ Train    18/50 ] loss: 0.4147, accuracy: [ 80.2931% ]\n",
      "[ Gt         18/50 ], accuracy: [ 65.2351% ]\n",
      "------------------------------------------------------------------------------------------------------------------------------------------------------\n"
     ]
    },
    {
     "name": "stderr",
     "output_type": "stream",
     "text": [
      "100%|██████████| 108/108 [00:06<00:00, 16.61it/s]\n"
     ]
    },
    {
     "name": "stdout",
     "output_type": "stream",
     "text": [
      "[ Train    19/50 ] loss: 0.4069, accuracy: [ 80.2697% ]\n",
      "[ Gt         19/50 ], accuracy: [ 66.7995% ]\n",
      "------------------------------------------------------------------------------------------------------------------------------------------------------\n"
     ]
    },
    {
     "name": "stderr",
     "output_type": "stream",
     "text": [
      "100%|██████████| 108/108 [00:06<00:00, 16.41it/s]\n"
     ]
    },
    {
     "name": "stdout",
     "output_type": "stream",
     "text": [
      "[ Train    20/50 ] loss: 0.3952, accuracy: [ 80.8526% ]\n",
      "[ Gt         20/50 ], accuracy: [ 64.6552% ]\n",
      "------------------------------------------------------------------------------------------------------------------------------------------------------\n"
     ]
    },
    {
     "name": "stderr",
     "output_type": "stream",
     "text": [
      "100%|██████████| 108/108 [00:06<00:00, 16.84it/s]\n"
     ]
    },
    {
     "name": "stdout",
     "output_type": "stream",
     "text": [
      "[ Train    21/50 ] loss: 0.3873, accuracy: [ 80.8134% ]\n",
      "[ Gt         21/50 ], accuracy: [ 66.8239% ]\n",
      "------------------------------------------------------------------------------------------------------------------------------------------------------\n"
     ]
    },
    {
     "name": "stderr",
     "output_type": "stream",
     "text": [
      "100%|██████████| 108/108 [00:06<00:00, 17.03it/s]\n"
     ]
    },
    {
     "name": "stdout",
     "output_type": "stream",
     "text": [
      "[ Train    22/50 ] loss: 0.3787, accuracy: [ 81.0455% ]\n",
      "[ Gt         22/50 ], accuracy: [ 64.6217% ]\n",
      "------------------------------------------------------------------------------------------------------------------------------------------------------\n",
      "Epoch 00022: reducing learning rate of group 0 to 5.1200e-04.\n"
     ]
    },
    {
     "name": "stderr",
     "output_type": "stream",
     "text": [
      "100%|██████████| 108/108 [00:06<00:00, 16.81it/s]\n"
     ]
    },
    {
     "name": "stdout",
     "output_type": "stream",
     "text": [
      "[ Train    23/50 ] loss: 0.3729, accuracy: [ 81.2444% ]\n",
      "[ Gt         23/50 ], accuracy: [ 64.9021% ]\n",
      "------------------------------------------------------------------------------------------------------------------------------------------------------\n"
     ]
    },
    {
     "name": "stderr",
     "output_type": "stream",
     "text": [
      "100%|██████████| 108/108 [00:06<00:00, 16.02it/s]\n"
     ]
    },
    {
     "name": "stdout",
     "output_type": "stream",
     "text": [
      "[ Train    24/50 ] loss: 0.3674, accuracy: [ 81.5813% ]\n",
      "[ Gt         24/50 ], accuracy: [ 65.4919% ]\n",
      "------------------------------------------------------------------------------------------------------------------------------------------------------\n"
     ]
    },
    {
     "name": "stderr",
     "output_type": "stream",
     "text": [
      "100%|██████████| 108/108 [00:06<00:00, 16.57it/s]\n"
     ]
    },
    {
     "name": "stdout",
     "output_type": "stream",
     "text": [
      "[ Train    25/50 ] loss: 0.3636, accuracy: [ 81.6306% ]\n",
      "[ Gt         25/50 ], accuracy: [ 67.8640% ]\n",
      "------------------------------------------------------------------------------------------------------------------------------------------------------\n"
     ]
    },
    {
     "name": "stderr",
     "output_type": "stream",
     "text": [
      "100%|██████████| 108/108 [00:06<00:00, 16.56it/s]\n"
     ]
    },
    {
     "name": "stdout",
     "output_type": "stream",
     "text": [
      "[ Train    26/50 ] loss: 0.3600, accuracy: [ 81.7299% ]\n",
      "[ Gt         26/50 ], accuracy: [ 67.5882% ]\n",
      "------------------------------------------------------------------------------------------------------------------------------------------------------\n"
     ]
    },
    {
     "name": "stderr",
     "output_type": "stream",
     "text": [
      "100%|██████████| 108/108 [00:06<00:00, 16.88it/s]\n"
     ]
    },
    {
     "name": "stdout",
     "output_type": "stream",
     "text": [
      "[ Train    27/50 ] loss: 0.3568, accuracy: [ 81.9393% ]\n",
      "[ Gt         27/50 ], accuracy: [ 68.3136% ]\n",
      "------------------------------------------------------------------------------------------------------------------------------------------------------\n"
     ]
    },
    {
     "name": "stderr",
     "output_type": "stream",
     "text": [
      "100%|██████████| 108/108 [00:06<00:00, 16.89it/s]\n"
     ]
    },
    {
     "name": "stdout",
     "output_type": "stream",
     "text": [
      "[ Train    28/50 ] loss: 0.3519, accuracy: [ 82.1797% ]\n",
      "[ Gt         28/50 ], accuracy: [ 67.0243% ]\n",
      "------------------------------------------------------------------------------------------------------------------------------------------------------\n",
      "Epoch 00028: reducing learning rate of group 0 to 4.0960e-04.\n"
     ]
    },
    {
     "name": "stderr",
     "output_type": "stream",
     "text": [
      "100%|██████████| 108/108 [00:06<00:00, 16.74it/s]\n"
     ]
    },
    {
     "name": "stdout",
     "output_type": "stream",
     "text": [
      "[ Train    29/50 ] loss: 0.3435, accuracy: [ 82.7360% ]\n",
      "[ Gt         29/50 ], accuracy: [ 68.2778% ]\n",
      "------------------------------------------------------------------------------------------------------------------------------------------------------\n"
     ]
    },
    {
     "name": "stderr",
     "output_type": "stream",
     "text": [
      "100%|██████████| 108/108 [00:06<00:00, 16.92it/s]\n"
     ]
    },
    {
     "name": "stdout",
     "output_type": "stream",
     "text": [
      "[ Train    30/50 ] loss: 0.3411, accuracy: [ 82.9112% ]\n",
      "[ Gt         30/50 ], accuracy: [ 68.8463% ]\n",
      "------------------------------------------------------------------------------------------------------------------------------------------------------\n"
     ]
    },
    {
     "name": "stderr",
     "output_type": "stream",
     "text": [
      "100%|██████████| 108/108 [00:06<00:00, 16.82it/s]\n"
     ]
    },
    {
     "name": "stdout",
     "output_type": "stream",
     "text": [
      "[ Train    31/50 ] loss: 0.3365, accuracy: [ 83.1429% ]\n",
      "[ Gt         31/50 ], accuracy: [ 67.9951% ]\n",
      "------------------------------------------------------------------------------------------------------------------------------------------------------\n"
     ]
    },
    {
     "name": "stderr",
     "output_type": "stream",
     "text": [
      "100%|██████████| 108/108 [00:06<00:00, 16.84it/s]\n"
     ]
    },
    {
     "name": "stdout",
     "output_type": "stream",
     "text": [
      "[ Train    32/50 ] loss: 0.3353, accuracy: [ 83.1333% ]\n",
      "[ Gt         32/50 ], accuracy: [ 69.7698% ]\n",
      "------------------------------------------------------------------------------------------------------------------------------------------------------\n"
     ]
    },
    {
     "name": "stderr",
     "output_type": "stream",
     "text": [
      "100%|██████████| 108/108 [00:06<00:00, 15.79it/s]\n"
     ]
    },
    {
     "name": "stdout",
     "output_type": "stream",
     "text": [
      "[ Train    33/50 ] loss: 0.3336, accuracy: [ 83.2417% ]\n",
      "[ Gt         33/50 ], accuracy: [ 70.1020% ]\n",
      "------------------------------------------------------------------------------------------------------------------------------------------------------\n"
     ]
    },
    {
     "name": "stderr",
     "output_type": "stream",
     "text": [
      "100%|██████████| 108/108 [00:06<00:00, 16.24it/s]\n"
     ]
    },
    {
     "name": "stdout",
     "output_type": "stream",
     "text": [
      "[ Train    34/50 ] loss: 0.3294, accuracy: [ 83.4618% ]\n",
      "[ Gt         34/50 ], accuracy: [ 68.1193% ]\n",
      "------------------------------------------------------------------------------------------------------------------------------------------------------\n",
      "Epoch 00034: reducing learning rate of group 0 to 3.2768e-04.\n"
     ]
    },
    {
     "name": "stderr",
     "output_type": "stream",
     "text": [
      "100%|██████████| 108/108 [00:06<00:00, 16.39it/s]\n"
     ]
    },
    {
     "name": "stdout",
     "output_type": "stream",
     "text": [
      "[ Train    35/50 ] loss: 0.3263, accuracy: [ 83.5502% ]\n",
      "[ Gt         35/50 ], accuracy: [ 70.0243% ]\n",
      "------------------------------------------------------------------------------------------------------------------------------------------------------\n"
     ]
    },
    {
     "name": "stderr",
     "output_type": "stream",
     "text": [
      "100%|██████████| 108/108 [00:06<00:00, 16.76it/s]\n"
     ]
    },
    {
     "name": "stdout",
     "output_type": "stream",
     "text": [
      "[ Train    36/50 ] loss: 0.3252, accuracy: [ 83.6815% ]\n",
      "[ Gt         36/50 ], accuracy: [ 70.4312% ]\n",
      "------------------------------------------------------------------------------------------------------------------------------------------------------\n"
     ]
    },
    {
     "name": "stderr",
     "output_type": "stream",
     "text": [
      "100%|██████████| 108/108 [00:06<00:00, 16.64it/s]\n"
     ]
    },
    {
     "name": "stdout",
     "output_type": "stream",
     "text": [
      "[ Train    37/50 ] loss: 0.3250, accuracy: [ 84.0103% ]\n",
      "[ Gt         37/50 ], accuracy: [ 71.6268% ]\n",
      "------------------------------------------------------------------------------------------------------------------------------------------------------\n"
     ]
    },
    {
     "name": "stderr",
     "output_type": "stream",
     "text": [
      "100%|██████████| 108/108 [00:06<00:00, 16.89it/s]\n"
     ]
    },
    {
     "name": "stdout",
     "output_type": "stream",
     "text": [
      "[ Train    38/50 ] loss: 0.3225, accuracy: [ 84.4498% ]\n",
      "[ Gt         38/50 ], accuracy: [ 72.7424% ]\n",
      "------------------------------------------------------------------------------------------------------------------------------------------------------\n"
     ]
    },
    {
     "name": "stderr",
     "output_type": "stream",
     "text": [
      "100%|██████████| 108/108 [00:06<00:00, 16.83it/s]\n"
     ]
    },
    {
     "name": "stdout",
     "output_type": "stream",
     "text": [
      "[ Train    39/50 ] loss: 0.3206, accuracy: [ 84.6082% ]\n",
      "[ Gt         39/50 ], accuracy: [ 72.3499% ]\n",
      "------------------------------------------------------------------------------------------------------------------------------------------------------\n"
     ]
    },
    {
     "name": "stderr",
     "output_type": "stream",
     "text": [
      "100%|██████████| 108/108 [00:06<00:00, 16.48it/s]\n"
     ]
    },
    {
     "name": "stdout",
     "output_type": "stream",
     "text": [
      "[ Train    40/50 ] loss: 0.3184, accuracy: [ 84.8397% ]\n",
      "[ Gt         40/50 ], accuracy: [ 74.3814% ]\n",
      "------------------------------------------------------------------------------------------------------------------------------------------------------\n"
     ]
    },
    {
     "name": "stderr",
     "output_type": "stream",
     "text": [
      "100%|██████████| 108/108 [00:06<00:00, 17.27it/s]\n"
     ]
    },
    {
     "name": "stdout",
     "output_type": "stream",
     "text": [
      "[ Train    41/50 ] loss: 0.3163, accuracy: [ 85.0522% ]\n",
      "[ Gt         41/50 ], accuracy: [ 73.6019% ]\n",
      "------------------------------------------------------------------------------------------------------------------------------------------------------\n"
     ]
    },
    {
     "name": "stderr",
     "output_type": "stream",
     "text": [
      "100%|██████████| 108/108 [00:06<00:00, 16.61it/s]\n"
     ]
    },
    {
     "name": "stdout",
     "output_type": "stream",
     "text": [
      "[ Train    42/50 ] loss: 0.3148, accuracy: [ 85.1509% ]\n",
      "[ Gt         42/50 ], accuracy: [ 72.6045% ]\n",
      "------------------------------------------------------------------------------------------------------------------------------------------------------\n"
     ]
    },
    {
     "name": "stderr",
     "output_type": "stream",
     "text": [
      "100%|██████████| 108/108 [00:06<00:00, 17.02it/s]\n"
     ]
    },
    {
     "name": "stdout",
     "output_type": "stream",
     "text": [
      "[ Train    43/50 ] loss: 0.3130, accuracy: [ 85.2656% ]\n",
      "[ Gt         43/50 ], accuracy: [ 73.8534% ]\n",
      "------------------------------------------------------------------------------------------------------------------------------------------------------\n"
     ]
    },
    {
     "name": "stderr",
     "output_type": "stream",
     "text": [
      "100%|██████████| 108/108 [00:06<00:00, 16.64it/s]\n"
     ]
    },
    {
     "name": "stdout",
     "output_type": "stream",
     "text": [
      "[ Train    44/50 ] loss: 0.3118, accuracy: [ 85.2993% ]\n",
      "[ Gt         44/50 ], accuracy: [ 74.1521% ]\n",
      "------------------------------------------------------------------------------------------------------------------------------------------------------\n"
     ]
    },
    {
     "name": "stderr",
     "output_type": "stream",
     "text": [
      "100%|██████████| 108/108 [00:06<00:00, 16.82it/s]\n"
     ]
    },
    {
     "name": "stdout",
     "output_type": "stream",
     "text": [
      "[ Train    45/50 ] loss: 0.3105, accuracy: [ 85.4080% ]\n",
      "[ Gt         45/50 ], accuracy: [ 73.6187% ]\n",
      "------------------------------------------------------------------------------------------------------------------------------------------------------\n"
     ]
    },
    {
     "name": "stderr",
     "output_type": "stream",
     "text": [
      "100%|██████████| 108/108 [00:06<00:00, 16.79it/s]\n"
     ]
    },
    {
     "name": "stdout",
     "output_type": "stream",
     "text": [
      "[ Train    46/50 ] loss: 0.3097, accuracy: [ 85.4234% ]\n",
      "[ Gt         46/50 ], accuracy: [ 74.5857% ]\n",
      "------------------------------------------------------------------------------------------------------------------------------------------------------\n",
      "Epoch 00046: reducing learning rate of group 0 to 2.6214e-04.\n"
     ]
    },
    {
     "name": "stderr",
     "output_type": "stream",
     "text": [
      "100%|██████████| 108/108 [00:06<00:00, 16.70it/s]\n"
     ]
    },
    {
     "name": "stdout",
     "output_type": "stream",
     "text": [
      "[ Train    47/50 ] loss: 0.3060, accuracy: [ 85.6205% ]\n",
      "[ Gt         47/50 ], accuracy: [ 74.0568% ]\n",
      "------------------------------------------------------------------------------------------------------------------------------------------------------\n"
     ]
    },
    {
     "name": "stderr",
     "output_type": "stream",
     "text": [
      "100%|██████████| 108/108 [00:06<00:00, 16.84it/s]\n"
     ]
    },
    {
     "name": "stdout",
     "output_type": "stream",
     "text": [
      "[ Train    48/50 ] loss: 0.3052, accuracy: [ 85.6651% ]\n",
      "[ Gt         48/50 ], accuracy: [ 74.4066% ]\n",
      "------------------------------------------------------------------------------------------------------------------------------------------------------\n"
     ]
    },
    {
     "name": "stderr",
     "output_type": "stream",
     "text": [
      "100%|██████████| 108/108 [00:06<00:00, 16.65it/s]\n"
     ]
    },
    {
     "name": "stdout",
     "output_type": "stream",
     "text": [
      "[ Train    49/50 ] loss: 0.3046, accuracy: [ 85.7022% ]\n",
      "[ Gt         49/50 ], accuracy: [ 74.3052% ]\n",
      "------------------------------------------------------------------------------------------------------------------------------------------------------\n"
     ]
    },
    {
     "name": "stderr",
     "output_type": "stream",
     "text": [
      "100%|██████████| 108/108 [00:06<00:00, 16.85it/s]\n"
     ]
    },
    {
     "name": "stdout",
     "output_type": "stream",
     "text": [
      "[ Train    50/50 ] loss: 0.3043, accuracy: [ 85.7602% ]\n",
      "[ Gt         50/50 ], accuracy: [ 74.4089% ]\n",
      "------------------------------------------------------------------------------------------------------------------------------------------------------\n"
     ]
    }
   ],
   "source": [
    "for epoch in range(num_epochs):\n",
    "    train_loss = 0\n",
    "    train_corrects = 0\n",
    "\n",
    "    model.train()\n",
    "    for inputs, labels in tqdm(train_loader):\n",
    "        optimizer.zero_grad()\n",
    "\n",
    "        outputs = model(inputs)\n",
    "\n",
    "        loss = criterion(outputs, labels)\n",
    "        loss.backward()\n",
    "        optimizer.step()\n",
    "\n",
    "        train_loss += loss.item()\n",
    "        _, preds = torch.max(outputs, 1)\n",
    "        train_corrects += torch.sum(preds == labels).item()\n",
    "\n",
    "    train_loss /= len(train_loader)\n",
    "    train_acc = train_corrects / len(train_set) * 100\n",
    "    print(f\"[ Train    {epoch + 1}/{num_epochs} ] loss: {train_loss:.4f}, accuracy: [ {train_acc:<7.4f}% ]\")\n",
    "\n",
    "    test_corrects = 0\n",
    "\n",
    "    model.eval()\n",
    "    with torch.no_grad():\n",
    "        for inputs, labels in test_loader:\n",
    "            outputs = model(inputs)\n",
    "\n",
    "            _, preds = torch.max(outputs, 1)\n",
    "            test_corrects += torch.sum(preds == labels).item()\n",
    "\n",
    "    test_acc = test_corrects / len(test_set) * 100\n",
    "    print(f\"[ Gt         {epoch + 1}/{num_epochs} ], accuracy: [ {test_acc:<7.4f}% ]\")\n",
    "\n",
    "    print(\"-\" * 150)\n",
    "\n",
    "    scheduler.step(test_acc)"
   ],
   "metadata": {
    "collapsed": false,
    "ExecuteTime": {
     "end_time": "2023-12-15T11:20:15.065703Z",
     "start_time": "2023-12-15T11:13:59.158320Z"
    }
   }
  },
  {
   "cell_type": "code",
   "execution_count": 32,
   "outputs": [],
   "source": [
    "torch.save(model.state_dict(), f\"../microservices/DataManager/weights/binary_more/lstm.pth\")"
   ],
   "metadata": {
    "collapsed": false,
    "ExecuteTime": {
     "end_time": "2023-12-15T11:20:15.073682Z",
     "start_time": "2023-12-15T11:20:15.064388Z"
    }
   }
  }
 ],
 "metadata": {
  "kernelspec": {
   "display_name": "Python 3",
   "language": "python",
   "name": "python3"
  },
  "language_info": {
   "codemirror_mode": {
    "name": "ipython",
    "version": 2
   },
   "file_extension": ".py",
   "mimetype": "text/x-python",
   "name": "python",
   "nbconvert_exporter": "python",
   "pygments_lexer": "ipython2",
   "version": "2.7.6"
  }
 },
 "nbformat": 4,
 "nbformat_minor": 0
}
